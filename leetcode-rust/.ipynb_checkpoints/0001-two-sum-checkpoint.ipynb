{
 "cells": [
  {
   "cell_type": "markdown",
   "id": "2629f30d-df19-4488-a1b8-6201ec1ef8a8",
   "metadata": {},
   "source": [
    "Given an array of integers nums and an integer target, return indices of the two numbers such that they add up to target.\n",
    "\n",
    "You may assume that each input would have exactly one solution, and you may not use the same element twice.\n",
    "\n",
    "You can return the answer in any order.\n",
    "\n",
    "Example 1:\n",
    "\n",
    "Input: nums = [2,7,11,15], target = 9\n",
    "Output: [0,1]\n",
    "Explanation: Because nums[0] + nums[1] == 9, we return [0, 1].\n",
    "Example 2:\n",
    "\n",
    "Input: nums = [3,2,4], target = 6\n",
    "Output: [1,2]\n",
    "Example 3:\n",
    "\n",
    "Input: nums = [3,3], target = 6\n",
    "Output: [0,1]\n",
    "Constraints:\n",
    "\n",
    "2 <= nums.length <= 104\n",
    "-109 <= nums[i] <= 109\n",
    "-109 <= target <= 109\n",
    "Only one valid answer exists.\n",
    "Follow-up: Can you come up with an algorithm that is less than O(n2) time complexity?\n",
    "Related Topics\n",
    "Array\n",
    "Hash Table\n"
   ]
  },
  {
   "cell_type": "code",
   "execution_count": 30,
   "id": "6d83bdf5-9040-4474-b621-4f39cce1a7a9",
   "metadata": {},
   "outputs": [],
   "source": [
    "use std::collections::HashMap;\n",
    "\n",
    "pub fn two_sum(nums: Vec<i32>, target: i32) -> Vec<i32> {\n",
    "    let mut table = HashMap::new();\n",
    "    for i in (0..nums.len()) {\n",
    "        let complement = target - nums[i];\n",
    "        match table.get(&complement) {\n",
    "            Some(index) => return vec![*index as i32, i as i32],\n",
    "            None => ()\n",
    "        }\n",
    "        table.insert(nums[i], i);\n",
    "    }\n",
    "    return Vec::new();\n",
    "}"
   ]
  },
  {
   "cell_type": "code",
   "execution_count": 31,
   "id": "8faf3675-b9d7-4583-8a45-5947bb2f4ced",
   "metadata": {},
   "outputs": [
    {
     "data": {
      "text/plain": [
       "()"
      ]
     },
     "execution_count": 31,
     "metadata": {},
     "output_type": "execute_result"
    }
   ],
   "source": [
    "{\n",
    "    assert_eq!(two_sum(vec![2,7,11,15], 9), vec![0, 1]);\n",
    "    assert_eq!(two_sum(vec![3,2,4], 6), vec![1, 2]);\n",
    "    assert_eq!(two_sum(vec![3,3], 6), vec![0, 1]);\n",
    "    assert_eq!(two_sum(vec![-3,4,3,90], 0), vec![0, 2]);\n",
    "}"
   ]
  },
  {
   "cell_type": "code",
   "execution_count": null,
   "id": "708120b2-76ec-4f23-abc7-e6cbc2f439f4",
   "metadata": {},
   "outputs": [],
   "source": []
  }
 ],
 "metadata": {
  "kernelspec": {
   "display_name": "Rust",
   "language": "rust",
   "name": "rust"
  },
  "language_info": {
   "codemirror_mode": "rust",
   "file_extension": ".rs",
   "mimetype": "text/rust",
   "name": "Rust",
   "pygment_lexer": "rust",
   "version": ""
  }
 },
 "nbformat": 4,
 "nbformat_minor": 5
}

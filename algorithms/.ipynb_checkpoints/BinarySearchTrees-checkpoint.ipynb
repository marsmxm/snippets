{
 "cells": [
  {
   "cell_type": "code",
   "execution_count": 4,
   "id": "e15b3161-488e-4b40-adf3-067ab62da071",
   "metadata": {},
   "outputs": [],
   "source": [
    "%maven hu.webarticum:tree-printer:3.2.1"
   ]
  },
  {
   "cell_type": "code",
   "execution_count": 10,
   "id": "bfae7e4d-069b-463d-8b6f-d5ba5a297664",
   "metadata": {},
   "outputs": [],
   "source": [
    "import hu.webarticum.treeprinter.SimpleTreeNode;\n",
    "import hu.webarticum.treeprinter.TraditionalTreePrinter;\n",
    "import hu.webarticum.treeprinter.BorderTreeNodeDecorator;"
   ]
  },
  {
   "cell_type": "code",
   "execution_count": 12,
   "id": "41c3eb0c-5f86-4fb4-847a-6b770cb7ded4",
   "metadata": {},
   "outputs": [],
   "source": [
    "record Node<T>(T key, Node<T> left, Node<T> right, Node<T> parent) {\n",
    "    public SimpleTreeNode getAsciiNode() {\n",
    "        SimpleTreeNode node = new SimpleTreeNode(Objects.toString(key));\n",
    "        \n",
    "        if (left != null) {\n",
    "            node.addChild(left.getAsciiNode());\n",
    "        }\n",
    "\n",
    "        if (right != null) {\n",
    "            node.addChild(right.getAsciiNode());\n",
    "        }\n",
    "\n",
    "        return node;\n",
    "    }\n",
    "}\n",
    "\n",
    "\n",
    "record BinaryTree<T>(Node<T> root) {\n",
    "    public void printTree() {\n",
    "        if (root != null) {\n",
    "            new TraditionalTreePrinter().print(new BorderTreeNodeDecorator(rootNode));\n",
    "        } else {\n",
    "            System.out.println(\"empty tree\");\n",
    "        }\n",
    "        \n",
    "    }\n",
    "\n",
    "    public void insert(T elem) {\n",
    "        var cursor = root;\n",
    "        var parent = null;\n",
    "\n",
    "        while cursor != null {\n",
    "            \n",
    "        }\n",
    "    }\n",
    "}\n",
    "\n"
   ]
  },
  {
   "cell_type": "code",
   "execution_count": null,
   "id": "801fa4e3-ef7b-4d21-bc9c-ca446e8d17ea",
   "metadata": {},
   "outputs": [],
   "source": []
  }
 ],
 "metadata": {
  "kernelspec": {
   "display_name": "java (IJava/j!)",
   "language": "java",
   "name": "jbang-ijava"
  },
  "language_info": {
   "codemirror_mode": "java",
   "file_extension": ".jshell",
   "mimetype": "text/x-java-source",
   "name": "Java",
   "pygments_lexer": "java",
   "version": "22.0.2+9"
  }
 },
 "nbformat": 4,
 "nbformat_minor": 5
}

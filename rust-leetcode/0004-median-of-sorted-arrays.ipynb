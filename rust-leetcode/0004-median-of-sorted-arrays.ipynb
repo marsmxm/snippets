{
 "cells": [
  {
   "cell_type": "code",
   "execution_count": 4,
   "id": "129b5480-21cd-4af8-ab08-6ce67a540a0f",
   "metadata": {},
   "outputs": [],
   "source": [
    "pub fn find_median_sorted_arrays(nums1: Vec<i32>, nums2: Vec<i32>) -> f64 {\n",
    "    let mut merged = Vec::new();\n",
    "\n",
    "    let mut i = 0;\n",
    "    let mut j = 0;\n",
    "    while i < nums1.len() && j < nums2.len() {\n",
    "        if nums1[i] < nums2[j] {\n",
    "            merged.push(nums1[i]);\n",
    "            i += 1;\n",
    "        } else {\n",
    "            merged.push(nums2[j]);\n",
    "            j += 1;\n",
    "        }\n",
    "    }\n",
    "\n",
    "    while i < nums1.len() {\n",
    "        merged.push(nums1[i]);\n",
    "        i += 1;\n",
    "    }\n",
    "\n",
    "    while j < nums2.len() {\n",
    "        merged.push(nums2[j]);\n",
    "        j += 1;\n",
    "    }\n",
    "\n",
    "    if merged.len() % 2 == 0 {\n",
    "        i = merged.len() / 2;\n",
    "        j = i - 1;\n",
    "        (merged[i] as f64 + merged[j] as f64) / 2.0\n",
    "    } else {\n",
    "        merged[(merged.len() - 1) / 2] as f64\n",
    "    }\n",
    "}"
   ]
  },
  {
   "cell_type": "code",
   "execution_count": null,
   "id": "f5f96089-6d6a-43f0-a0cf-eb4d293bf996",
   "metadata": {},
   "outputs": [],
   "source": []
  },
  {
   "cell_type": "code",
   "execution_count": null,
   "id": "3eab411f-fd52-4c3a-a933-8686e8a1fbb3",
   "metadata": {},
   "outputs": [],
   "source": []
  }
 ],
 "metadata": {
  "kernelspec": {
   "display_name": "Rust",
   "language": "rust",
   "name": "rust"
  },
  "language_info": {
   "codemirror_mode": "rust",
   "file_extension": ".rs",
   "mimetype": "text/rust",
   "name": "Rust",
   "pygment_lexer": "rust",
   "version": ""
  }
 },
 "nbformat": 4,
 "nbformat_minor": 5
}

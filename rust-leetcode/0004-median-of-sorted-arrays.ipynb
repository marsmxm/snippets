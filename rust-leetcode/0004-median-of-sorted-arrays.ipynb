{
 "cells": [
  {
   "cell_type": "code",
   "execution_count": 12,
   "id": "129b5480-21cd-4af8-ab08-6ce67a540a0f",
   "metadata": {
    "tags": []
   },
   "outputs": [],
   "source": [
    "pub fn find_median_sorted_arrays_0(nums1: Vec<i32>, nums2: Vec<i32>) -> f64 { // O(m + n)\n",
    "    let mut merged = Vec::new();\n",
    "\n",
    "    let mut i = 0;\n",
    "    let mut j = 0;\n",
    "    while i < nums1.len() && j < nums2.len() {\n",
    "        if nums1[i] < nums2[j] {\n",
    "            merged.push(nums1[i]);\n",
    "            i += 1;\n",
    "        } else {\n",
    "            merged.push(nums2[j]);\n",
    "            j += 1;\n",
    "        }\n",
    "    }\n",
    "\n",
    "    while i < nums1.len() {\n",
    "        merged.push(nums1[i]);\n",
    "        i += 1;\n",
    "    }\n",
    "\n",
    "    while j < nums2.len() {\n",
    "        merged.push(nums2[j]);\n",
    "        j += 1;\n",
    "    }\n",
    "\n",
    "    if merged.len() % 2 == 0 {\n",
    "        i = merged.len() / 2;\n",
    "        j = i - 1;\n",
    "        (merged[i] as f64 + merged[j] as f64) / 2.0\n",
    "    } else {\n",
    "        merged[(merged.len() - 1) / 2] as f64\n",
    "    }\n",
    "}"
   ]
  },
  {
   "cell_type": "code",
   "execution_count": 29,
   "id": "f5f96089-6d6a-43f0-a0cf-eb4d293bf996",
   "metadata": {
    "tags": []
   },
   "outputs": [],
   "source": [
    "pub fn find_median_sorted_arrays_1(nums1: Vec<i32>, nums2: Vec<i32>) -> f64 {\n",
    "    \n",
    "    fn f(nums1: &[i32], nums2: &[i32], k: usize) -> i32 {\n",
    "        if nums1.is_empty() { return nums2[k]; }\n",
    "        if nums2.is_empty() { return nums1[k]; }\n",
    "        \n",
    "        println!(\"{nums1:?}, {nums2:?}, {k}\");\n",
    "        \n",
    "        let mi1 = (nums1.len() - 1) / 2;\n",
    "        let mi2 = (nums2.len() - 1) / 2;\n",
    "        \n",
    "        let smaller;\n",
    "        let smi;\n",
    "        let bigger;\n",
    "        let bmi;\n",
    "        if nums1[mi1] <= nums2[mi2] {\n",
    "            smaller = nums1;\n",
    "            smi = mi1;\n",
    "            bigger = nums2;\n",
    "            bmi = mi2;\n",
    "        } else {\n",
    "            smaller = nums2;\n",
    "            smi = mi2;\n",
    "            bigger = nums1;\n",
    "            bmi = mi1;\n",
    "        }\n",
    "        \n",
    "        if k <= (mi1 + mi2) {\n",
    "            return f(smaller, &bigger[0..bmi], k);\n",
    "        } else {\n",
    "            return f(&smaller[smi + 1..smaller.len()], bigger, k - smi - 1);\n",
    "        }\n",
    "    }\n",
    "    \n",
    "    let length = nums1.len() + nums2.len();\n",
    "    if length % 2 == 0 {\n",
    "        let ki = f(&nums1, &nums2, length / 2);\n",
    "        let kj = f(&nums1, &nums2, length / 2 - 1);\n",
    "        \n",
    "        return (ki + kj) as f64 / 2.0;\n",
    "    } else {\n",
    "        return f(&nums1, &nums2, (length - 1) / 2) as f64;\n",
    "    }\n",
    "}"
   ]
  },
  {
   "cell_type": "code",
   "execution_count": 30,
   "id": "3eab411f-fd52-4c3a-a933-8686e8a1fbb3",
   "metadata": {
    "tags": []
   },
   "outputs": [
    {
     "name": "stdout",
     "output_type": "stream",
     "text": [
      "[1, 3], [2], 1\n",
      "[3], [2], 0\n",
      "2\n"
     ]
    },
    {
     "data": {
      "text/plain": [
       "()"
      ]
     },
     "execution_count": 30,
     "metadata": {},
     "output_type": "execute_result"
    }
   ],
   "source": [
    "{\n",
    "    let nums1 = vec![1,3];\n",
    "    let nums2 = vec![2];\n",
    "    println!(\"{}\", find_median_sorted_arrays_1(nums1, nums2));\n",
    "    // assert_eq!(2.0, find_median_sorted_arrays_1(nums1, nums2));\n",
    "}"
   ]
  },
  {
   "cell_type": "code",
   "execution_count": 42,
   "id": "a46f75eb-3483-4510-a430-2dbb5976cf93",
   "metadata": {},
   "outputs": [],
   "source": [
    "pub fn find_median_sorted_arrays_2(nums1: Vec<i32>, nums2: Vec<i32>) -> f64 {\n",
    "    let A;\n",
    "    let B;\n",
    "    if nums1.len() < nums2.len() {\n",
    "        A = nums1;\n",
    "        B = nums2;\n",
    "    } else {\n",
    "        A = nums2;\n",
    "        B = nums1;\n",
    "    }\n",
    "    \n",
    "    let mut left = 0;\n",
    "    let mut right = A.len();\n",
    "    \n",
    "    while left <= right {\n",
    "        let partition_A = (left + right) / 2;\n",
    "        let partition_B = (A.len() + B.len() + 1) / 2;\n",
    "    \n",
    "        let max_left_A = if partition_A == 0 { -f64::INFINITY as i32 } else { A[partition_A - 1] };\n",
    "        let min_right_A = if partition_A >= A.len() { f64::INFINITY as i32 } else { A[partition_A] };\n",
    "        let max_left_B = if partition_B == 0 { -f64::INFINITY as i32 } else { B[partition_B - 1] };\n",
    "        let min_right_B = if partition_B >= B.len() { f64::INFINITY as i32 } else { B[partition_B] };\n",
    "        \n",
    "        if max_left_A > min_right_B {\n",
    "            right = partition_A - 1;\n",
    "        } else if max_left_B > min_right_A {\n",
    "            left = partition_A + 1;\n",
    "        } else {\n",
    "            let length = A.len() + B.len();\n",
    "            if length % 2 == 0 {\n",
    "                let ki = max_left_A.max(max_left_B);\n",
    "                let kj = min_right_A.min(min_right_B);\n",
    "\n",
    "                return (ki + kj) as f64 / 2.0;\n",
    "            } else {\n",
    "                return max_left_A.max(max_left_B) as f64;\n",
    "            }\n",
    "        }\n",
    "        \n",
    "    }\n",
    "    \n",
    "    return 0.0;\n",
    "    \n",
    "}"
   ]
  },
  {
   "cell_type": "code",
   "execution_count": null,
   "id": "3f7df2e4-b59e-48eb-a6ae-f756ce03fb35",
   "metadata": {},
   "outputs": [],
   "source": []
  }
 ],
 "metadata": {
  "kernelspec": {
   "display_name": "Rust",
   "language": "rust",
   "name": "rust"
  },
  "language_info": {
   "codemirror_mode": "rust",
   "file_extension": ".rs",
   "mimetype": "text/rust",
   "name": "Rust",
   "pygment_lexer": "rust",
   "version": ""
  }
 },
 "nbformat": 4,
 "nbformat_minor": 5
}

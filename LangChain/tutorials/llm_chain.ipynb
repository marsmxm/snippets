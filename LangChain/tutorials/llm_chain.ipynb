{
 "cells": [
  {
   "cell_type": "code",
   "execution_count": 1,
   "id": "e6870726-1a05-40d8-b63c-134a905365ea",
   "metadata": {},
   "outputs": [],
   "source": [
    "import getpass\n",
    "import os\n",
    "\n",
    "# os.environ[\"OPENAI_API_KEY\"] = getpass.getpass()\n",
    "\n",
    "from langchain_community.chat_models import ChatOllama\n",
    "\n",
    "model = ChatOllama(model=\"llama3\")"
   ]
  },
  {
   "cell_type": "code",
   "execution_count": 10,
   "id": "b80f687e-e717-457e-a4e8-449c7e19cadd",
   "metadata": {},
   "outputs": [],
   "source": [
    "from langchain_core.prompts import ChatPromptTemplate\n",
    "\n",
    "system_template = \"Translate the following into {language}:\"\n",
    "\n",
    "prompt_template = ChatPromptTemplate.from_messages(\n",
    "    [(\"system\", system_template), (\"user\", \"{text}\")]\n",
    ")\n"
   ]
  },
  {
   "cell_type": "code",
   "execution_count": 11,
   "id": "a0574f6f-446a-4d33-94fc-416f85ac4719",
   "metadata": {},
   "outputs": [
    {
     "data": {
      "text/plain": [
       "'Ciao!'"
      ]
     },
     "execution_count": 11,
     "metadata": {},
     "output_type": "execute_result"
    }
   ],
   "source": [
    "from langchain_core.output_parsers import StrOutputParser\n",
    "\n",
    "parser = StrOutputParser()\n",
    "\n",
    "chain = prompt_template | model | parser\n",
    "chain.invoke({\"language\": \"italian\", \"text\": \"hi\"})"
   ]
  },
  {
   "cell_type": "code",
   "execution_count": 12,
   "id": "5615e89b-f3f8-4781-810f-f3134e449b3e",
   "metadata": {},
   "outputs": [
    {
     "name": "stdout",
     "output_type": "stream",
     "text": [
      "Collecting langserve[all]\n",
      "  Downloading langserve-0.2.2-py3-none-any.whl.metadata (39 kB)\n",
      "Requirement already satisfied: httpx>=0.23.0 in /Users/lmc10102/miniconda3/envs/langchain/lib/python3.9/site-packages (from langserve[all]) (0.27.0)\n",
      "Requirement already satisfied: langchain-core<0.3,>=0.1 in /Users/lmc10102/miniconda3/envs/langchain/lib/python3.9/site-packages (from langserve[all]) (0.2.11)\n",
      "Requirement already satisfied: orjson>=2 in /Users/lmc10102/miniconda3/envs/langchain/lib/python3.9/site-packages (from langserve[all]) (3.9.15)\n",
      "Requirement already satisfied: pydantic>=1 in /Users/lmc10102/miniconda3/envs/langchain/lib/python3.9/site-packages (from langserve[all]) (2.6.4)\n",
      "Collecting pyproject-toml<0.0.11,>=0.0.10 (from langserve[all])\n",
      "  Downloading pyproject_toml-0.0.10-py3-none-any.whl.metadata (642 bytes)\n",
      "Requirement already satisfied: fastapi<1,>=0.90.1 in /Users/lmc10102/miniconda3/envs/langchain/lib/python3.9/site-packages (from langserve[all]) (0.110.0)\n",
      "Collecting sse-starlette<2.0.0,>=1.3.0 (from langserve[all])\n",
      "  Downloading sse_starlette-1.8.2-py3-none-any.whl.metadata (5.4 kB)\n",
      "Requirement already satisfied: starlette<0.37.0,>=0.36.3 in /Users/lmc10102/miniconda3/envs/langchain/lib/python3.9/site-packages (from fastapi<1,>=0.90.1->langserve[all]) (0.36.3)\n",
      "Requirement already satisfied: typing-extensions>=4.8.0 in /Users/lmc10102/miniconda3/envs/langchain/lib/python3.9/site-packages (from fastapi<1,>=0.90.1->langserve[all]) (4.10.0)\n",
      "Requirement already satisfied: anyio in /Users/lmc10102/miniconda3/envs/langchain/lib/python3.9/site-packages (from httpx>=0.23.0->langserve[all]) (4.3.0)\n",
      "Requirement already satisfied: certifi in /Users/lmc10102/miniconda3/envs/langchain/lib/python3.9/site-packages (from httpx>=0.23.0->langserve[all]) (2024.2.2)\n",
      "Requirement already satisfied: httpcore==1.* in /Users/lmc10102/miniconda3/envs/langchain/lib/python3.9/site-packages (from httpx>=0.23.0->langserve[all]) (1.0.4)\n",
      "Requirement already satisfied: idna in /Users/lmc10102/miniconda3/envs/langchain/lib/python3.9/site-packages (from httpx>=0.23.0->langserve[all]) (3.6)\n",
      "Requirement already satisfied: sniffio in /Users/lmc10102/miniconda3/envs/langchain/lib/python3.9/site-packages (from httpx>=0.23.0->langserve[all]) (1.3.1)\n",
      "Requirement already satisfied: h11<0.15,>=0.13 in /Users/lmc10102/miniconda3/envs/langchain/lib/python3.9/site-packages (from httpcore==1.*->httpx>=0.23.0->langserve[all]) (0.14.0)\n",
      "Requirement already satisfied: PyYAML>=5.3 in /Users/lmc10102/miniconda3/envs/langchain/lib/python3.9/site-packages (from langchain-core<0.3,>=0.1->langserve[all]) (6.0.1)\n",
      "Requirement already satisfied: jsonpatch<2.0,>=1.33 in /Users/lmc10102/miniconda3/envs/langchain/lib/python3.9/site-packages (from langchain-core<0.3,>=0.1->langserve[all]) (1.33)\n",
      "Requirement already satisfied: langsmith<0.2.0,>=0.1.75 in /Users/lmc10102/miniconda3/envs/langchain/lib/python3.9/site-packages (from langchain-core<0.3,>=0.1->langserve[all]) (0.1.83)\n",
      "Requirement already satisfied: packaging<25,>=23.2 in /Users/lmc10102/miniconda3/envs/langchain/lib/python3.9/site-packages (from langchain-core<0.3,>=0.1->langserve[all]) (23.2)\n",
      "Requirement already satisfied: tenacity!=8.4.0,<9.0.0,>=8.1.0 in /Users/lmc10102/miniconda3/envs/langchain/lib/python3.9/site-packages (from langchain-core<0.3,>=0.1->langserve[all]) (8.2.3)\n",
      "Requirement already satisfied: annotated-types>=0.4.0 in /Users/lmc10102/miniconda3/envs/langchain/lib/python3.9/site-packages (from pydantic>=1->langserve[all]) (0.6.0)\n",
      "Requirement already satisfied: pydantic-core==2.16.3 in /Users/lmc10102/miniconda3/envs/langchain/lib/python3.9/site-packages (from pydantic>=1->langserve[all]) (2.16.3)\n",
      "Requirement already satisfied: setuptools>=42 in /Users/lmc10102/miniconda3/envs/langchain/lib/python3.9/site-packages (from pyproject-toml<0.0.11,>=0.0.10->langserve[all]) (68.2.2)\n",
      "Requirement already satisfied: wheel in /Users/lmc10102/miniconda3/envs/langchain/lib/python3.9/site-packages (from pyproject-toml<0.0.11,>=0.0.10->langserve[all]) (0.41.2)\n",
      "Collecting toml (from pyproject-toml<0.0.11,>=0.0.10->langserve[all])\n",
      "  Using cached toml-0.10.2-py2.py3-none-any.whl.metadata (7.1 kB)\n",
      "Requirement already satisfied: jsonschema in /Users/lmc10102/miniconda3/envs/langchain/lib/python3.9/site-packages (from pyproject-toml<0.0.11,>=0.0.10->langserve[all]) (4.21.1)\n",
      "Requirement already satisfied: uvicorn in /Users/lmc10102/miniconda3/envs/langchain/lib/python3.9/site-packages (from sse-starlette<2.0.0,>=1.3.0->langserve[all]) (0.29.0)\n",
      "Requirement already satisfied: jsonpointer>=1.9 in /Users/lmc10102/miniconda3/envs/langchain/lib/python3.9/site-packages (from jsonpatch<2.0,>=1.33->langchain-core<0.3,>=0.1->langserve[all]) (2.4)\n",
      "Requirement already satisfied: requests<3,>=2 in /Users/lmc10102/miniconda3/envs/langchain/lib/python3.9/site-packages (from langsmith<0.2.0,>=0.1.75->langchain-core<0.3,>=0.1->langserve[all]) (2.31.0)\n",
      "Requirement already satisfied: exceptiongroup>=1.0.2 in /Users/lmc10102/miniconda3/envs/langchain/lib/python3.9/site-packages (from anyio->httpx>=0.23.0->langserve[all]) (1.2.0)\n",
      "Requirement already satisfied: attrs>=22.2.0 in /Users/lmc10102/miniconda3/envs/langchain/lib/python3.9/site-packages (from jsonschema->pyproject-toml<0.0.11,>=0.0.10->langserve[all]) (23.2.0)\n",
      "Requirement already satisfied: jsonschema-specifications>=2023.03.6 in /Users/lmc10102/miniconda3/envs/langchain/lib/python3.9/site-packages (from jsonschema->pyproject-toml<0.0.11,>=0.0.10->langserve[all]) (2023.12.1)\n",
      "Requirement already satisfied: referencing>=0.28.4 in /Users/lmc10102/miniconda3/envs/langchain/lib/python3.9/site-packages (from jsonschema->pyproject-toml<0.0.11,>=0.0.10->langserve[all]) (0.33.0)\n",
      "Requirement already satisfied: rpds-py>=0.7.1 in /Users/lmc10102/miniconda3/envs/langchain/lib/python3.9/site-packages (from jsonschema->pyproject-toml<0.0.11,>=0.0.10->langserve[all]) (0.18.0)\n",
      "Requirement already satisfied: click>=7.0 in /Users/lmc10102/miniconda3/envs/langchain/lib/python3.9/site-packages (from uvicorn->sse-starlette<2.0.0,>=1.3.0->langserve[all]) (8.1.7)\n",
      "Requirement already satisfied: charset-normalizer<4,>=2 in /Users/lmc10102/miniconda3/envs/langchain/lib/python3.9/site-packages (from requests<3,>=2->langsmith<0.2.0,>=0.1.75->langchain-core<0.3,>=0.1->langserve[all]) (3.3.2)\n",
      "Requirement already satisfied: urllib3<3,>=1.21.1 in /Users/lmc10102/miniconda3/envs/langchain/lib/python3.9/site-packages (from requests<3,>=2->langsmith<0.2.0,>=0.1.75->langchain-core<0.3,>=0.1->langserve[all]) (2.2.1)\n",
      "Downloading pyproject_toml-0.0.10-py3-none-any.whl (6.9 kB)\n",
      "Downloading sse_starlette-1.8.2-py3-none-any.whl (8.9 kB)\n",
      "Downloading langserve-0.2.2-py3-none-any.whl (1.2 MB)\n",
      "\u001b[2K   \u001b[38;2;114;156;31m━━━━━━━━━━━━━━━━━━━━━━━━━━━━━━━━━━━━━━━━\u001b[0m \u001b[32m1.2/1.2 MB\u001b[0m \u001b[31m3.8 MB/s\u001b[0m eta \u001b[36m0:00:00\u001b[0mm eta \u001b[36m0:00:01\u001b[0m[36m0:00:01\u001b[0m\n",
      "\u001b[?25hUsing cached toml-0.10.2-py2.py3-none-any.whl (16 kB)\n",
      "Installing collected packages: toml, sse-starlette, pyproject-toml, langserve\n",
      "Successfully installed langserve-0.2.2 pyproject-toml-0.0.10 sse-starlette-1.8.2 toml-0.10.2\n"
     ]
    }
   ],
   "source": []
  },
  {
   "cell_type": "code",
   "execution_count": null,
   "id": "5ea60736-bf68-4f8d-b16c-e171e2f05450",
   "metadata": {},
   "outputs": [],
   "source": []
  }
 ],
 "metadata": {
  "kernelspec": {
   "display_name": "python3-langchain",
   "language": "python",
   "name": "python3-langchain"
  },
  "language_info": {
   "codemirror_mode": {
    "name": "ipython",
    "version": 3
   },
   "file_extension": ".py",
   "mimetype": "text/x-python",
   "name": "python",
   "nbconvert_exporter": "python",
   "pygments_lexer": "ipython3",
   "version": "3.9.18"
  }
 },
 "nbformat": 4,
 "nbformat_minor": 5
}

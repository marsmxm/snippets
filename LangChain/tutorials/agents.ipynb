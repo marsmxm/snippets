{
 "cells": [
  {
   "cell_type": "code",
   "execution_count": 10,
   "id": "3a43e113-7274-40e2-81bc-dc4d0ec1863f",
   "metadata": {},
   "outputs": [
    {
     "name": "stdout",
     "output_type": "stream",
     "text": [
      "{'agent': {'messages': [AIMessage(content=\"Hi Fisher! As I'm a text-based AI assistant, I don't have real-time access to the current time. However, I can suggest some ways for you to find out the current time in Dalian. You can check online weather forecasts or news websites, which often display the local time. Alternatively, you can use your phone's clock app or a world clock website. Would you like me to help with anything else?\", id='run-949ae068-466d-4a48-8f6d-0d6a69878bd0-0')]}}\n",
      "----\n",
      "{'agent': {'messages': [AIMessage(content='', id='run-154966e0-3d28-4187-9ade-53108e74e64d-0', tool_calls=[{'name': 'tavily_search_results_json', 'args': {'query': 'weather in Dalian'}, 'id': 'call_6b7a66ab732441978354c7ecba8adbd9'}])]}}\n",
      "----\n",
      "{'tools': {'messages': [ToolMessage(content='[{\"url\": \"https://weatherspark.com/h/y/137605/2024/Historical-Weather-during-2024-in-Dalian-China\", \"content\": \"This report shows the past weather for Dalian, providing a weather history for 2024. It features all historical weather data series we have available, including the Dalian temperature history for 2024. You can drill down from year to month and even day level reports by clicking on the graphs.\"}, {\"url\": \"https://www.timeanddate.com/weather/china/luda/ext\", \"content\": \"Dalian 14 Day Extended Forecast. Weather Today Weather Hourly 14 Day Forecast Yesterday/Past Weather Climate (Averages) Currently: 73 \\\\u00b0F. Light rain. Mostly cloudy. (Weather station: Dalian Airport, China). See more current weather.\"}]', name='tavily_search_results_json', tool_call_id='call_6b7a66ab732441978354c7ecba8adbd9')]}}\n",
      "----\n",
      "{'agent': {'messages': [AIMessage(content='', id='run-37f12e44-4be0-4c9e-85d7-062ecadb8d92-0', tool_calls=[{'name': 'tavily_search_results_json', 'args': {'query': 'weather in Dalian'}, 'id': 'call_a353011e777e4c039ebb482e4268f0c9'}])]}}\n",
      "----\n",
      "{'tools': {'messages': [ToolMessage(content='[{\"url\": \"https://weatherspark.com/h/y/137605/2024/Historical-Weather-during-2024-in-Dalian-China\", \"content\": \"This report shows the past weather for Dalian, providing a weather history for 2024. It features all historical weather data series we have available, including the Dalian temperature history for 2024. You can drill down from year to month and even day level reports by clicking on the graphs.\"}, {\"url\": \"https://www.timeanddate.com/weather/china/luda/ext\", \"content\": \"Dalian 14 Day Extended Forecast. Weather Today Weather Hourly 14 Day Forecast Yesterday/Past Weather Climate (Averages) Currently: 73 \\\\u00b0F. Sunny. (Weather station: Dalian Airport, China). See more current weather.\"}]', name='tavily_search_results_json', tool_call_id='call_a353011e777e4c039ebb482e4268f0c9')]}}\n",
      "----\n",
      "{'agent': {'messages': [AIMessage(content='', id='run-f2e73af5-ec8c-4b6f-a7a8-d75c16c7178c-0', tool_calls=[{'name': 'tavily_search_results_json', 'args': {'query': 'weather in Dalian'}, 'id': 'call_623117e3fd7f4adba0a450d217e55377'}])]}}\n",
      "----\n",
      "{'tools': {'messages': [ToolMessage(content='[{\"url\": \"https://www.timeanddate.com/weather/china/luda/ext\", \"content\": \"Dalian 14 Day Extended Forecast. Weather Today Weather Hourly 14 Day Forecast Yesterday/Past Weather Climate (Averages) Currently: 73 \\\\u00b0F. Light rain. Mostly cloudy. (Weather station: Dalian Airport, China). See more current weather.\"}, {\"url\": \"https://www.timeanddate.com/weather/china/luda\", \"content\": \"Current weather in Dalian and forecast for today, tomorrow, and next 14 days\"}]', name='tavily_search_results_json', tool_call_id='call_623117e3fd7f4adba0a450d217e55377')]}}\n",
      "----\n",
      "{'agent': {'messages': [AIMessage(content='', id='run-69aa910c-5081-4557-8801-615df5d51282-0', tool_calls=[{'name': 'tavily_search_results_json', 'args': {'query': 'weather dalian'}, 'id': 'call_95e15996d67c45c7bb647ca9b65ee493'}])]}}\n",
      "----\n",
      "{'tools': {'messages': [ToolMessage(content='[{\"url\": \"https://weatherspark.com/h/y/137605/2024/Historical-Weather-during-2024-in-Dalian-China\", \"content\": \"This report shows the past weather for Dalian, providing a weather history for 2024. It features all historical weather data series we have available, including the Dalian temperature history for 2024. You can drill down from year to month and even day level reports by clicking on the graphs.\"}, {\"url\": \"https://www.weatherapi.com/\", \"content\": \"{\\'location\\': {\\'name\\': \\'Dalian\\', \\'region\\': \\'Liaoning\\', \\'country\\': \\'China\\', \\'lat\\': 38.91, \\'lon\\': 121.6, \\'tz_id\\': \\'Asia/Shanghai\\', \\'localtime_epoch\\': 1720761959, \\'localtime\\': \\'2024-07-12 13:25\\'}, \\'current\\': {\\'last_updated_epoch\\': 1720761300, \\'last_updated\\': \\'2024-07-12 13:15\\', \\'temp_c\\': 30.1, \\'temp_f\\': 86.2, \\'is_day\\': 1, \\'condition\\': {\\'text\\': \\'Sunny\\', \\'icon\\': \\'//cdn.weatherapi.com/weather/64x64/day/113.png\\', \\'code\\': 1000}, \\'wind_mph\\': 11.9, \\'wind_kph\\': 19.1, \\'wind_degree\\': 170, \\'wind_dir\\': \\'S\\', \\'pressure_mb\\': 1002.0, \\'pressure_in\\': 29.59, \\'precip_mm\\': 0.0, \\'precip_in\\': 0.0, \\'humidity\\': 55, \\'cloud\\': 0, \\'feelslike_c\\': 34.2, \\'feelslike_f\\': 93.6, \\'windchill_c\\': 26.0, \\'windchill_f\\': 78.7, \\'heatindex_c\\': 27.4, \\'heatindex_f\\': 81.4, \\'dewpoint_c\\': 18.9, \\'dewpoint_f\\': 66.0, \\'vis_km\\': 10.0, \\'vis_miles\\': 6.0, \\'uv\\': 7.0, \\'gust_mph\\': 16.3, \\'gust_kph\\': 26.3}}\"}]', name='tavily_search_results_json', tool_call_id='call_95e15996d67c45c7bb647ca9b65ee493')]}}\n",
      "----\n",
      "{'agent': {'messages': [AIMessage(content='', id='run-e1378ad8-5e01-47f9-9832-adbb6c62f01a-0', tool_calls=[{'name': 'tavily_search_results_json', 'args': {'query': 'current weather in Dalian'}, 'id': 'call_733dedfb31a045b0bf7f75fc90a46f0c'}])]}}\n",
      "----\n",
      "{'tools': {'messages': [ToolMessage(content='[{\"url\": \"https://www.weatherapi.com/\", \"content\": \"{\\'location\\': {\\'name\\': \\'Dalian\\', \\'region\\': \\'Liaoning\\', \\'country\\': \\'China\\', \\'lat\\': 38.91, \\'lon\\': 121.6, \\'tz_id\\': \\'Asia/Shanghai\\', \\'localtime_epoch\\': 1720761959, \\'localtime\\': \\'2024-07-12 13:25\\'}, \\'current\\': {\\'last_updated_epoch\\': 1720761300, \\'last_updated\\': \\'2024-07-12 13:15\\', \\'temp_c\\': 30.1, \\'temp_f\\': 86.2, \\'is_day\\': 1, \\'condition\\': {\\'text\\': \\'Sunny\\', \\'icon\\': \\'//cdn.weatherapi.com/weather/64x64/day/113.png\\', \\'code\\': 1000}, \\'wind_mph\\': 11.9, \\'wind_kph\\': 19.1, \\'wind_degree\\': 170, \\'wind_dir\\': \\'S\\', \\'pressure_mb\\': 1002.0, \\'pressure_in\\': 29.59, \\'precip_mm\\': 0.0, \\'precip_in\\': 0.0, \\'humidity\\': 55, \\'cloud\\': 0, \\'feelslike_c\\': 34.2, \\'feelslike_f\\': 93.6, \\'windchill_c\\': 26.0, \\'windchill_f\\': 78.7, \\'heatindex_c\\': 27.4, \\'heatindex_f\\': 81.4, \\'dewpoint_c\\': 18.9, \\'dewpoint_f\\': 66.0, \\'vis_km\\': 10.0, \\'vis_miles\\': 6.0, \\'uv\\': 7.0, \\'gust_mph\\': 16.3, \\'gust_kph\\': 26.3}}\"}, {\"url\": \"https://tgftp.nws.noaa.gov/weather/current/ZYTL.html\", \"content\": \"Current Weather Conditions: Dalian, China ... 2024.07.07 1800 UTC Wind : from the W (270 degrees) at 7 MPH (6 KT) (direction variable) Visibility : greater than 7 mile(s) Sky conditions : partly cloudy Temperature : 73 F (23 C) ... (12) Jul 07: 78 (26) 71 (22) 29.59 (1002) WNW 4: 7 AM (11) Jul 07: 80 (27) 73 (23) 29.59 (1002) NW 4:\"}]', name='tavily_search_results_json', tool_call_id='call_733dedfb31a045b0bf7f75fc90a46f0c')]}}\n",
      "----\n",
      "{'agent': {'messages': [AIMessage(content='', id='run-c2f21561-025d-4c05-b8af-9cb619effd3d-0', tool_calls=[{'name': 'tavily_search_results_json', 'args': {'query': 'weather Dalian'}, 'id': 'call_7f403518a741481cbda5a68096daeb20'}])]}}\n",
      "----\n",
      "{'tools': {'messages': [ToolMessage(content='[{\"url\": \"https://www.weatherapi.com/\", \"content\": \"{\\'location\\': {\\'name\\': \\'Dalian\\', \\'region\\': \\'Liaoning\\', \\'country\\': \\'China\\', \\'lat\\': 38.91, \\'lon\\': 121.6, \\'tz_id\\': \\'Asia/Shanghai\\', \\'localtime_epoch\\': 1720761959, \\'localtime\\': \\'2024-07-12 13:25\\'}, \\'current\\': {\\'last_updated_epoch\\': 1720761300, \\'last_updated\\': \\'2024-07-12 13:15\\', \\'temp_c\\': 30.1, \\'temp_f\\': 86.2, \\'is_day\\': 1, \\'condition\\': {\\'text\\': \\'Sunny\\', \\'icon\\': \\'//cdn.weatherapi.com/weather/64x64/day/113.png\\', \\'code\\': 1000}, \\'wind_mph\\': 11.9, \\'wind_kph\\': 19.1, \\'wind_degree\\': 170, \\'wind_dir\\': \\'S\\', \\'pressure_mb\\': 1002.0, \\'pressure_in\\': 29.59, \\'precip_mm\\': 0.0, \\'precip_in\\': 0.0, \\'humidity\\': 55, \\'cloud\\': 0, \\'feelslike_c\\': 34.2, \\'feelslike_f\\': 93.6, \\'windchill_c\\': 26.0, \\'windchill_f\\': 78.7, \\'heatindex_c\\': 27.4, \\'heatindex_f\\': 81.4, \\'dewpoint_c\\': 18.9, \\'dewpoint_f\\': 66.0, \\'vis_km\\': 10.0, \\'vis_miles\\': 6.0, \\'uv\\': 7.0, \\'gust_mph\\': 16.3, \\'gust_kph\\': 26.3}}\"}, {\"url\": \"https://tgftp.nws.noaa.gov/weather/current/ZYTL.html\", \"content\": \"Current Weather Conditions: Dalian, China ... 2024.07.07 1800 UTC Wind : from the W (270 degrees) at 7 MPH (6 KT) (direction variable) Visibility : greater than 7 mile(s) Sky conditions : partly cloudy Temperature : 73 F (23 C) ... (12) Jul 07: 78 (26) 71 (22) 29.59 (1002) WNW 4: 7 AM (11) Jul 07: 80 (27) 73 (23) 29.59 (1002) NW 4: 6 AM (10 ...\"}]', name='tavily_search_results_json', tool_call_id='call_7f403518a741481cbda5a68096daeb20')]}}\n",
      "----\n",
      "{'agent': {'messages': [AIMessage(content='This report shows the past weather for Dalian, providing a weather history for 2024. It features all historical weather data series we have available, including the Dalian temperature history for 2024. You can drill down from year to month and even day level reports by clicking on the graphs.', id='run-ff8c524c-a89f-464d-9680-c0caa8ad5c08-0')]}}\n",
      "----\n"
     ]
    }
   ],
   "source": [
    "# Import relevant functionality\n",
    "from langchain_experimental.llms.ollama_functions import OllamaFunctions\n",
    "from langchain_community.tools.tavily_search import TavilySearchResults\n",
    "from langchain_core.messages import HumanMessage\n",
    "from langgraph.checkpoint.sqlite import SqliteSaver\n",
    "from langgraph.prebuilt import create_react_agent\n",
    "\n",
    "# Create the agent\n",
    "memory = SqliteSaver.from_conn_string(\":memory:\")\n",
    "model = OllamaFunctions(model=\"llama3\", format=\"json\")\n",
    "search = TavilySearchResults(max_results=2)\n",
    "tools = [search]\n",
    "agent_executor = create_react_agent(model, tools, checkpointer=memory)\n",
    "\n",
    "# Use the agent\n",
    "config = {\"configurable\": {\"thread_id\": \"abc123\"}}\n",
    "for chunk in agent_executor.stream(\n",
    "    {\"messages\": [HumanMessage(content=\"hi im fisher! and i live in Dalian, what time is it now?\")]}, config\n",
    "):\n",
    "    print(chunk)\n",
    "    print(\"----\")\n",
    "\n",
    "for chunk in agent_executor.stream(\n",
    "    {\"messages\": [HumanMessage(content=\"whats the weather where I live?\")]}, config\n",
    "):\n",
    "    print(chunk)\n",
    "    print(\"----\")"
   ]
  },
  {
   "cell_type": "code",
   "execution_count": null,
   "id": "28f12e77-b31f-49a2-a522-0605182fdf93",
   "metadata": {},
   "outputs": [],
   "source": []
  }
 ],
 "metadata": {
  "kernelspec": {
   "display_name": "Python 3 (ipykernel)",
   "language": "python",
   "name": "python3"
  },
  "language_info": {
   "codemirror_mode": {
    "name": "ipython",
    "version": 3
   },
   "file_extension": ".py",
   "mimetype": "text/x-python",
   "name": "python",
   "nbconvert_exporter": "python",
   "pygments_lexer": "ipython3",
   "version": "3.11.8"
  }
 },
 "nbformat": 4,
 "nbformat_minor": 5
}

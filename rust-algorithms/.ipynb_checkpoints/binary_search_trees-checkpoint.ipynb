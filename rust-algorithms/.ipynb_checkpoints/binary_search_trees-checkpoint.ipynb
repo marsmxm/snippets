{
 "cells": [
  {
   "cell_type": "code",
   "execution_count": 6,
   "id": "36eafbf6-4eb9-423a-a6c6-d0200222e5aa",
   "metadata": {},
   "outputs": [],
   "source": [
    "use std::fmt::Display;\n",
    "\n",
    "struct BinaryTreeNode<T: Display> {\n",
    "    parent: Option<Box<BinaryTreeNode<T>>>,\n",
    "    left:   Option<Box<BinaryTreeNode<T>>>,\n",
    "    right:  Option<Box<BinaryTreeNode<T>>>,\n",
    "    key:    T,\n",
    "}"
   ]
  },
  {
   "cell_type": "code",
   "execution_count": 32,
   "id": "4a4a4c28-e263-4923-88d8-b6a7a0cc12aa",
   "metadata": {},
   "outputs": [],
   "source": [
    "fn binary_tree_walk<T: Display>(tree: &BinaryTreeNode<T>) {\n",
    "    fn walk<T: Display>(t: Option<&BinaryTreeNode<T>>) {\n",
    "        if t.is_some() {\n",
    "            let node = t.unwrap();\n",
    "            walk(node.left.as_ref().map(|b| b.as_ref()));\n",
    "            print!(\"{}\", node.key);\n",
    "            walk(node.right.as_ref().map(|b| b.as_ref()));\n",
    "        }\n",
    "    }\n",
    "\n",
    "    walk(Some(Box::new(tree)));\n",
    "}"
   ]
  },
  {
   "cell_type": "code",
   "execution_count": null,
   "id": "e4fa341d-b2a7-4b1b-9d51-9d60b0a70496",
   "metadata": {},
   "outputs": [],
   "source": []
  }
 ],
 "metadata": {
  "kernelspec": {
   "display_name": "Rust",
   "language": "rust",
   "name": "rust"
  },
  "language_info": {
   "codemirror_mode": "rust",
   "file_extension": ".rs",
   "mimetype": "text/rust",
   "name": "Rust",
   "pygment_lexer": "rust",
   "version": ""
  }
 },
 "nbformat": 4,
 "nbformat_minor": 5
}

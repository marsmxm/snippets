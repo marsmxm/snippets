{
 "cells": [
  {
   "cell_type": "code",
   "execution_count": 2,
   "id": "1f60b927-93fa-452a-b5fe-81ce323adab7",
   "metadata": {},
   "outputs": [],
   "source": [
    ":dep ascii_tree = {version = \"0.1.1\"}"
   ]
  },
  {
   "cell_type": "code",
   "execution_count": 36,
   "id": "36eafbf6-4eb9-423a-a6c6-d0200222e5aa",
   "metadata": {},
   "outputs": [],
   "source": [
    "use std::fmt::Display;\n",
    "use std::rc::Rc;\n",
    "use std::cell::RefCell;\n",
    "use ascii_tree::{Tree, write_tree}\n",
    "\n",
    "pub struct BinaryTree<T: Display> {\n",
    "    root: Link<T>,\n",
    "}\n",
    "\n",
    "type Link<T: Display> = Option<Box<Node<T>>>;\n",
    "\n",
    "pub struct Node<T: Display> {\n",
    "    key: T,\n",
    "    parent: Link<T>,\n",
    "    left: Link<T>,\n",
    "    right: Link<T>,\n",
    "}\n",
    "\n",
    "impl<T: Display> BinaryTree<T> {\n",
    "    pub fn empty() -> Self {\n",
    "        BinaryTree {\n",
    "            root: None,\n",
    "        }\n",
    "    }\n",
    "\n",
    "    pub fn new(root: Node<T>) -> Self {\n",
    "        BinaryTree {\n",
    "            root: Some(Box::new(root)),\n",
    "        }\n",
    "    }\n",
    "\n",
    "    pub fn walk(&self) {\n",
    "        fn do_walk<T: Display>(link: &Link<T>) {\n",
    "            if let Some(node) = link.as_ref() {\n",
    "                do_walk(&node.left);\n",
    "                println!(\"{}\", node.key);\n",
    "                do_walk(&node.right);\n",
    "            }\n",
    "        }\n",
    "\n",
    "        do_walk(&self.root);\n",
    "    }\n",
    "\n",
    "    pub fn search(&self, k: T) {\n",
    "        \n",
    "    }\n",
    "\n",
    "    pub fn print(&self) {\n",
    "        let none_node = Tree::Leaf(vec![String::from(\"none\")]);\n",
    "        let ascii_tree = self.root.as_ref().map_or(none_node, |node| node.to_ascii_tree());\n",
    "        let mut output = String::new();\n",
    "        write_tree(&mut output, &ascii_tree);\n",
    "        println!(\"{}\", output);\n",
    "    }\n",
    "}\n",
    "\n",
    "impl<T: Display> Node<T> {\n",
    "    fn new(key: T) -> Self {\n",
    "        Node {\n",
    "            key,\n",
    "            parent: None,\n",
    "            left: None,\n",
    "            right: None,\n",
    "        }\n",
    "    }\n",
    "\n",
    "    fn to_ascii_tree(&self) -> Tree {\n",
    "        let left_tree = self.left.as_ref().map(|node| node.to_ascii_tree());\n",
    "        let right_tree = self.right.as_ref().map(|node| node.to_ascii_tree());\n",
    "        \n",
    "        let mut children = Vec::new();\n",
    "        if left_tree.is_some() {\n",
    "            children.push(left_tree.unwrap());\n",
    "        }\n",
    "        if right_tree.is_some() {\n",
    "            children.push(right_tree.unwrap());\n",
    "        }\n",
    "        \n",
    "        Tree::Node(self.key.to_string(), children)\n",
    "    }\n",
    "}\n"
   ]
  },
  {
   "cell_type": "code",
   "execution_count": 37,
   "id": "f1f06d9d-e373-499d-9896-9a8dd7266701",
   "metadata": {},
   "outputs": [
    {
     "name": "stdout",
     "output_type": "stream",
     "text": [
      " none\n",
      "\n",
      " 3\n",
      "\n",
      "3\n"
     ]
    },
    {
     "data": {
      "text/plain": [
       "()"
      ]
     },
     "execution_count": 37,
     "metadata": {},
     "output_type": "execute_result"
    }
   ],
   "source": [
    "{\n",
    "    let tree1: BinaryTree<i32> = BinaryTree::empty();\n",
    "    tree1.print();\n",
    "    tree1.walk();\n",
    "\n",
    "    let tree2 = BinaryTree::new(Node::new(3));\n",
    "    tree2.print();\n",
    "    tree2.walk();\n",
    "}"
   ]
  },
  {
   "cell_type": "code",
   "execution_count": 39,
   "id": "4a4a4c28-e263-4923-88d8-b6a7a0cc12aa",
   "metadata": {},
   "outputs": [],
   "source": [
    "fn binary_tree_walk<T: Display>(tree: &BinaryTreeNode<T>) {\n",
    "    fn walk<T: Display>(t: Option<&BinaryTreeNode<T>>) {\n",
    "        if t.is_some() {\n",
    "            let node = t.unwrap();\n",
    "            walk(node.left.as_ref().map(|b| b.as_ref()));\n",
    "            print!(\"{}\", node.key);\n",
    "            walk(node.right.as_ref().map(|b| b.as_ref()));\n",
    "        }\n",
    "    }\n",
    "\n",
    "    walk(Some(tree));\n",
    "}"
   ]
  },
  {
   "cell_type": "code",
   "execution_count": null,
   "id": "e4fa341d-b2a7-4b1b-9d51-9d60b0a70496",
   "metadata": {},
   "outputs": [],
   "source": [
    "{\n",
    "    let tree = BinaryTreeNode<i32> {\n",
    "        key: 6,\n",
    "        parent: None,\n",
    "        left: BinaryTreeNode<_> {\n",
    "            key: 5,\n",
    "            parent\n",
    "        }\n",
    "    }\n",
    "}"
   ]
  }
 ],
 "metadata": {
  "kernelspec": {
   "display_name": "Rust",
   "language": "rust",
   "name": "rust"
  },
  "language_info": {
   "codemirror_mode": "rust",
   "file_extension": ".rs",
   "mimetype": "text/rust",
   "name": "Rust",
   "pygment_lexer": "rust",
   "version": ""
  }
 },
 "nbformat": 4,
 "nbformat_minor": 5
}

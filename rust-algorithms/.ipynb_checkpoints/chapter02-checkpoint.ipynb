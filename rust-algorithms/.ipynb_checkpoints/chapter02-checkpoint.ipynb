{
 "cells": [
  {
   "cell_type": "markdown",
   "id": "7cde9faf-25c5-4b6e-8896-bad170b21f19",
   "metadata": {},
   "source": [
    "# 2.1 Insertion Sort"
   ]
  },
  {
   "cell_type": "code",
   "execution_count": 2,
   "id": "791d2595-11b9-4b26-9c35-03c315a0f1e3",
   "metadata": {
    "tags": []
   },
   "outputs": [],
   "source": [
    "fn insertion_sort(A: &mut [i32], n: usize) {\n",
    "    for i in 1..n {\n",
    "        let key = A[i];\n",
    "        let mut j = i;\n",
    "        while j > 0 && A[j - 1] > key {\n",
    "            A[j] = A[j - 1];\n",
    "            j -= 1;\n",
    "        }\n",
    "        A[j] = key;\n",
    "    }\n",
    "}"
   ]
  },
  {
   "cell_type": "code",
   "execution_count": 3,
   "id": "d9ae2986-917b-4900-a939-298f9d359fba",
   "metadata": {
    "tags": []
   },
   "outputs": [
    {
     "name": "stdout",
     "output_type": "stream",
     "text": [
      "[1, 2, 3, 4, 5, 6]\n"
     ]
    },
    {
     "data": {
      "text/plain": [
       "()"
      ]
     },
     "execution_count": 3,
     "metadata": {},
     "output_type": "execute_result"
    }
   ],
   "source": [
    "{\n",
    "    let mut arr: [i32; 6] = [5, 2, 4, 6, 1, 3];\n",
    "    insertion_sort(&mut arr, 6);\n",
    "    println!(\"{:?}\", arr);\n",
    "}"
   ]
  },
  {
   "cell_type": "markdown",
   "id": "23bc250f-103a-411d-95d5-36d3450821fb",
   "metadata": {},
   "source": [
    "## 2.1-3"
   ]
  },
  {
   "cell_type": "code",
   "execution_count": 4,
   "id": "49b5c467-3e88-406b-bcdb-be0676317aa3",
   "metadata": {
    "tags": []
   },
   "outputs": [],
   "source": [
    "fn insertion_sort_desc(A: &mut [i32], n: usize) {\n",
    "    for i in 1..n {\n",
    "        let key = A[i];\n",
    "        let mut j = i;\n",
    "        while j > 0 && A[j - 1] < key {\n",
    "            A[j] = A[j - 1];\n",
    "            j -= 1;\n",
    "        }\n",
    "        A[j] = key;\n",
    "    }\n",
    "}"
   ]
  },
  {
   "cell_type": "code",
   "execution_count": 5,
   "id": "258b046c-6276-431c-bc84-2568a444116a",
   "metadata": {
    "tags": []
   },
   "outputs": [
    {
     "name": "stdout",
     "output_type": "stream",
     "text": [
      "[6, 5, 4, 3, 2, 1]\n"
     ]
    },
    {
     "data": {
      "text/plain": [
       "()"
      ]
     },
     "execution_count": 5,
     "metadata": {},
     "output_type": "execute_result"
    }
   ],
   "source": [
    "{\n",
    "    let mut arr: [i32; 6] = [5, 2, 4, 6, 1, 3];\n",
    "    insertion_sort_desc(&mut arr, 6);\n",
    "    println!(\"{:?}\", arr);\n",
    "}"
   ]
  },
  {
   "cell_type": "markdown",
   "id": "65f457dc-96c8-4882-8699-62b6c206276b",
   "metadata": {},
   "source": [
    "## 2.1-4 linear search"
   ]
  },
  {
   "cell_type": "code",
   "execution_count": 6,
   "id": "9e7ac2d1-2021-4d1e-95bc-c4572fdf2a8c",
   "metadata": {
    "tags": []
   },
   "outputs": [],
   "source": [
    "fn linear_search(A: &[i32], x: i32) -> Option<usize> {\n",
    "    for i in 0..A.len() {\n",
    "        if A[i] == x {\n",
    "            return Some(i);\n",
    "        }\n",
    "    }\n",
    "    \n",
    "    return None;\n",
    "}"
   ]
  },
  {
   "cell_type": "code",
   "execution_count": 7,
   "id": "cd0646a2-cdf1-4079-8655-e50f48dbd9e4",
   "metadata": {
    "tags": []
   },
   "outputs": [
    {
     "name": "stdout",
     "output_type": "stream",
     "text": [
      "Some(3)\n",
      "None\n"
     ]
    },
    {
     "data": {
      "text/plain": [
       "()"
      ]
     },
     "execution_count": 7,
     "metadata": {},
     "output_type": "execute_result"
    }
   ],
   "source": [
    "{\n",
    "    let mut arr: [i32; 6] = [5, 2, 4, 6, 1, 3];\n",
    "    println!(\"{:?}\", linear_search(&arr, 6));\n",
    "    println!(\"{:?}\", linear_search(&arr, 16));\n",
    "}"
   ]
  },
  {
   "cell_type": "markdown",
   "id": "be69c110-295f-497e-86ed-929f4077ba1b",
   "metadata": {},
   "source": [
    "## 2.1-5 ADD-BINARY-INTEGERS"
   ]
  },
  {
   "cell_type": "code",
   "execution_count": 8,
   "id": "29a1d6f6-2a99-400d-87fe-fb358eb27104",
   "metadata": {
    "tags": []
   },
   "outputs": [],
   "source": [
    "fn add_binary_integers(A: &[u8], B: &[u8], n: usize) -> Vec<u8> {\n",
    "    let mut carry = 0;\n",
    "    let mut C = vec![0; n + 1];\n",
    "    \n",
    "    for i in 0..n {\n",
    "        let result = A[i] + B[i] + carry;\n",
    "        C[i] = result % 2;\n",
    "        carry = if result > 1 { 1 } else { 0 };\n",
    "    }\n",
    "    \n",
    "    C[n] = carry;\n",
    "    return C;\n",
    "}"
   ]
  },
  {
   "cell_type": "code",
   "execution_count": 9,
   "id": "02b0210a-717c-4fd8-9cf7-e24f097ff622",
   "metadata": {
    "tags": []
   },
   "outputs": [
    {
     "name": "stdout",
     "output_type": "stream",
     "text": [
      "[0, 0, 0, 0]\n",
      "[1, 1, 1, 0]\n",
      "[1, 1, 0, 1]\n",
      "[0, 1, 1, 1]\n"
     ]
    },
    {
     "data": {
      "text/plain": [
       "()"
      ]
     },
     "execution_count": 9,
     "metadata": {},
     "output_type": "execute_result"
    }
   ],
   "source": [
    "{\n",
    "    println!(\"{:?}\", add_binary_integers(&[0,0,0], &[0,0,0], 3));\n",
    "    println!(\"{:?}\", add_binary_integers(&[0,0,0], &[1,1,1], 3));\n",
    "    println!(\"{:?}\", add_binary_integers(&[0,0,1], &[1,1,1], 3));\n",
    "    println!(\"{:?}\", add_binary_integers(&[1,1,1], &[1,1,1], 3));\n",
    "}"
   ]
  },
  {
   "cell_type": "markdown",
   "id": "a6b54df1-608d-4978-841b-c037d054558b",
   "metadata": {},
   "source": [
    "# 2.2-2"
   ]
  },
  {
   "cell_type": "code",
   "execution_count": 10,
   "id": "4f2fad60-823a-402c-ab42-633f06d5138d",
   "metadata": {
    "tags": []
   },
   "outputs": [],
   "source": [
    "fn selection_sort(A: &mut [i32]) {\n",
    "    assert!(A.len() >= 2);\n",
    "    \n",
    "    let mut smallestIndex;\n",
    "    \n",
    "    for i in 0..A.len() - 1 {\n",
    "        smallestIndex = i;\n",
    "        for j in i+1..A.len() {\n",
    "            if A[j] < A[smallestIndex] {\n",
    "                smallestIndex = j;\n",
    "            }\n",
    "        }\n",
    "        A.swap(i, smallestIndex);\n",
    "    }\n",
    "}"
   ]
  },
  {
   "cell_type": "code",
   "execution_count": 11,
   "id": "1378234d-8bf9-462f-bf66-90e90922eb82",
   "metadata": {
    "tags": []
   },
   "outputs": [
    {
     "name": "stdout",
     "output_type": "stream",
     "text": [
      "[1, 2, 3]\n"
     ]
    },
    {
     "data": {
      "text/plain": [
       "()"
      ]
     },
     "execution_count": 11,
     "metadata": {},
     "output_type": "execute_result"
    }
   ],
   "source": [
    "{\n",
    "    let mut A = [3,2,1];\n",
    "    selection_sort(&mut A);\n",
    "    println!(\"{:?}\", A);\n",
    "}"
   ]
  },
  {
   "cell_type": "markdown",
   "id": "9e3fe7dd-9a4e-42ad-9fe2-bcad2bba7c4a",
   "metadata": {
    "tags": []
   },
   "source": [
    "# Merge Sort"
   ]
  },
  {
   "cell_type": "code",
   "execution_count": 12,
   "id": "aeb0f076-98a4-4a16-b244-b99b69f5adca",
   "metadata": {
    "tags": []
   },
   "outputs": [],
   "source": [
    "fn merge_sort(A: &mut [i32], p: usize, r: usize) {\n",
    "    \n",
    "    fn merge(arr: &mut [i32], p: usize, q: usize, r: usize) {\n",
    "        let mut left = vec![0;q - p + 1];\n",
    "        let mut right = vec![0;r - q];\n",
    "        left.copy_from_slice(&arr[p..q+1]);\n",
    "        right.copy_from_slice(&arr[q+1..r+1]);\n",
    "        \n",
    "        let mut i = 0;\n",
    "        let mut j = 0;\n",
    "        let mut k = p;\n",
    "        while i < left.len() && j < right.len() {\n",
    "            if left[i] < right[j] {\n",
    "                arr[k] = left[i];\n",
    "                i += 1;\n",
    "            } else {\n",
    "                arr[k] = right[j];\n",
    "                j += 1;\n",
    "            }\n",
    "            k += 1;\n",
    "        }\n",
    "        \n",
    "        while i < left.len() {\n",
    "            arr[k] = left[i];\n",
    "            i += 1;\n",
    "            k += 1;\n",
    "        }\n",
    "        \n",
    "        while j < right.len() {\n",
    "            arr[k] = right[j];\n",
    "            j += 1;\n",
    "            k += 1;\n",
    "        }\n",
    "    }\n",
    "    \n",
    "    \n",
    "    if p >= r { return; }\n",
    "    \n",
    "    let q = (p + r) / 2;\n",
    "    merge_sort(A, p, q);\n",
    "    merge_sort(A, q + 1, r);\n",
    "    \n",
    "    merge(A, p, q, r);\n",
    "    \n",
    "}"
   ]
  },
  {
   "cell_type": "code",
   "execution_count": 13,
   "id": "03540769-c67c-4995-aebe-9caf31741fc4",
   "metadata": {
    "tags": []
   },
   "outputs": [
    {
     "name": "stdout",
     "output_type": "stream",
     "text": [
      "[1, 2, 3, 4, 5]\n"
     ]
    },
    {
     "data": {
      "text/plain": [
       "()"
      ]
     },
     "execution_count": 13,
     "metadata": {},
     "output_type": "execute_result"
    }
   ],
   "source": [
    "{\n",
    "    let mut A = [5,4,3,2,1];\n",
    "    merge_sort(&mut A, 0, 4);\n",
    "    println!(\"{A:?}\");\n",
    "}"
   ]
  },
  {
   "cell_type": "code",
   "execution_count": 29,
   "id": "5514c0e8-24af-462a-bf38-f617c8979120",
   "metadata": {
    "tags": []
   },
   "outputs": [
    {
     "name": "stdout",
     "output_type": "stream",
     "text": [
      "insertion: 803.629ms\n",
      "merge: 10.207208ms\n"
     ]
    },
    {
     "data": {
      "text/plain": [
       "()"
      ]
     },
     "execution_count": 29,
     "metadata": {},
     "output_type": "execute_result"
    }
   ],
   "source": [
    ":dep rand = \"*\"\n",
    "use std::time::Instant;\n",
    "use rand::Rng;\n",
    "{\n",
    "    \n",
    "    const SIZE: usize = 100000;\n",
    "    let mut test_array1: [i32; SIZE] = [0;SIZE].map(|_| rand::thread_rng().gen_range(0..SIZE) as i32);\n",
    "    let mut test_array2 = [0; SIZE];\n",
    "    test_array2.copy_from_slice(&test_array1);\n",
    "    \n",
    "    let start1 = Instant::now();\n",
    "    insertion_sort(&mut test_array1, SIZE);\n",
    "    let elapsed1 = start1.elapsed();\n",
    "    \n",
    "    let start2 = Instant::now();\n",
    "    merge_sort(&mut test_array2, 0, SIZE - 1);\n",
    "    let elapsed2 = start2.elapsed();\n",
    "    \n",
    "    println!(\"insertion: {elapsed1:?}\");\n",
    "    println!(\"merge: {elapsed2:?}\");\n",
    "}"
   ]
  },
  {
   "cell_type": "markdown",
   "id": "6f33cb87-dec9-479b-872a-1a0fa8026d45",
   "metadata": {},
   "source": [
    "# 2.3-5"
   ]
  },
  {
   "cell_type": "code",
   "execution_count": 35,
   "id": "229867c5-931b-4849-9ace-1bb7da5437ed",
   "metadata": {
    "tags": []
   },
   "outputs": [],
   "source": [
    "#[inline]\n",
    "fn insertion_sort_recur(A: &mut [i32], n: usize) {\n",
    "    if n == 1 {\n",
    "        return;\n",
    "    }\n",
    "    \n",
    "    insertion_sort_recur(A, n - 1);\n",
    "    \n",
    "    let key = A[n - 1];\n",
    "    let mut i = n - 1;\n",
    "    \n",
    "    while i > 0 && key < A[i - 1] {\n",
    "        A[i] = A[i - 1];\n",
    "        i -= 1;\n",
    "    }\n",
    "    \n",
    "    A[i] = key;\n",
    "}"
   ]
  },
  {
   "cell_type": "code",
   "execution_count": 28,
   "id": "7a56124d-a80b-41b3-a11a-34d6c018add6",
   "metadata": {
    "tags": []
   },
   "outputs": [
    {
     "name": "stdout",
     "output_type": "stream",
     "text": [
      "[1, 2, 3, 4, 5, 6]\n"
     ]
    },
    {
     "data": {
      "text/plain": [
       "()"
      ]
     },
     "execution_count": 28,
     "metadata": {},
     "output_type": "execute_result"
    }
   ],
   "source": [
    "{\n",
    "    let mut arr: [i32; 6] = [5, 2, 4, 6, 1, 3];\n",
    "    insertion_sort_recur(&mut arr, 6);\n",
    "    println!(\"{:?}\", arr);\n",
    "}"
   ]
  },
  {
   "cell_type": "code",
   "execution_count": 37,
   "id": "68779c50-4e8c-4502-9d59-80ec771fcce7",
   "metadata": {
    "tags": []
   },
   "outputs": [
    {
     "name": "stdout",
     "output_type": "stream",
     "text": [
      "insertion: 798.837625ms\n",
      "insertion_sort_recur: 1.2143445s\n"
     ]
    },
    {
     "data": {
      "text/plain": [
       "()"
      ]
     },
     "execution_count": 37,
     "metadata": {},
     "output_type": "execute_result"
    }
   ],
   "source": [
    "{\n",
    "    \n",
    "    const SIZE: usize = 100000;\n",
    "    let mut test_array1: [i32; SIZE] = [0;SIZE].map(|_| rand::thread_rng().gen_range(0..SIZE) as i32);\n",
    "    let mut test_array2 = [0; SIZE];\n",
    "    test_array2.copy_from_slice(&test_array1);\n",
    "    \n",
    "    let start1 = Instant::now();\n",
    "    insertion_sort(&mut test_array1, SIZE);\n",
    "    let elapsed1 = start1.elapsed();\n",
    "    \n",
    "    let start2 = Instant::now();\n",
    "    insertion_sort_recur(&mut test_array2, SIZE);\n",
    "    let elapsed2 = start2.elapsed();\n",
    "    \n",
    "    println!(\"insertion: {elapsed1:?}\");\n",
    "    println!(\"insertion_sort_recur: {elapsed2:?}\");\n",
    "}\n"
   ]
  },
  {
   "cell_type": "markdown",
   "id": "d2b94db2-e5a3-42f0-a854-7d43d4a5351d",
   "metadata": {},
   "source": [
    "# 2.3-6 Binary Search"
   ]
  },
  {
   "cell_type": "code",
   "execution_count": 38,
   "id": "7dc4a01f-551e-4097-83c8-2653c606b73e",
   "metadata": {
    "tags": []
   },
   "outputs": [],
   "source": [
    "fn binary_search(A: &[i32], p: usize, q: usize, x: i32) -> Option<usize> {\n",
    "    if p > q { return None; }\n",
    "    \n",
    "    if p == q {\n",
    "        if A[p] == x {\n",
    "            return Some(p);\n",
    "        } else {\n",
    "            return None;\n",
    "        }\n",
    "    }\n",
    "    \n",
    "    let r = (p + q) / 2;\n",
    "    if A[r] == x {\n",
    "        return Some(r);\n",
    "    } else if A[r] < x {\n",
    "        return binary_search(A, r + 1, q, x);\n",
    "    } else {\n",
    "        return binary_search(A, p, r, x);\n",
    "    }\n",
    "}"
   ]
  },
  {
   "cell_type": "code",
   "execution_count": 41,
   "id": "d387d56b-7db6-4f27-be5d-ea4b23de6ed6",
   "metadata": {
    "tags": []
   },
   "outputs": [
    {
     "name": "stdout",
     "output_type": "stream",
     "text": [
      "Some(0)\n",
      "None\n"
     ]
    },
    {
     "data": {
      "text/plain": [
       "()"
      ]
     },
     "execution_count": 41,
     "metadata": {},
     "output_type": "execute_result"
    }
   ],
   "source": [
    "{\n",
    "    let arr: [i32; 6] = [1, 2, 3, 4, 5, 6];\n",
    "    println!(\"{:?}\", binary_search(&arr, 0, 5, 1));\n",
    "    println!(\"{:?}\", binary_search(&arr, 0, 5, 16));\n",
    "}"
   ]
  }
 ],
 "metadata": {
  "kernelspec": {
   "display_name": "Rust",
   "language": "rust",
   "name": "rust"
  },
  "language_info": {
   "codemirror_mode": "rust",
   "file_extension": ".rs",
   "mimetype": "text/rust",
   "name": "Rust",
   "pygment_lexer": "rust",
   "version": ""
  }
 },
 "nbformat": 4,
 "nbformat_minor": 5
}

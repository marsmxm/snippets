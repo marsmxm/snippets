{
 "cells": [
  {
   "cell_type": "markdown",
   "id": "7cde9faf-25c5-4b6e-8896-bad170b21f19",
   "metadata": {},
   "source": [
    "# 2.1 Insertion Sort"
   ]
  },
  {
   "cell_type": "code",
   "execution_count": 14,
   "id": "791d2595-11b9-4b26-9c35-03c315a0f1e3",
   "metadata": {
    "tags": []
   },
   "outputs": [],
   "source": [
    "fn insertion_sort(A: &mut [i32], n: usize) {\n",
    "    for i in 1..n {\n",
    "        let key = A[i];\n",
    "        let mut j = i;\n",
    "        while j > 0 && A[j - 1] > key {\n",
    "            A[j] = A[j - 1];\n",
    "            j -= 1;\n",
    "        }\n",
    "        A[j] = key;\n",
    "    }\n",
    "}"
   ]
  },
  {
   "cell_type": "code",
   "execution_count": 18,
   "id": "d9ae2986-917b-4900-a939-298f9d359fba",
   "metadata": {
    "tags": []
   },
   "outputs": [
    {
     "name": "stdout",
     "output_type": "stream",
     "text": [
      "[1, 2, 3, 4, 5, 6]\n"
     ]
    }
   ],
   "source": [
    "{\n",
    "    let mut arr: [i32; 6] = [5, 2, 4, 6, 1, 3];\n",
    "    insertion_sort(&mut arr, 6);\n",
    "    println!(\"{:?}\", arr);\n",
    "}"
   ]
  },
  {
   "cell_type": "markdown",
   "id": "23bc250f-103a-411d-95d5-36d3450821fb",
   "metadata": {},
   "source": [
    "## 2.1-3"
   ]
  },
  {
   "cell_type": "code",
   "execution_count": 19,
   "id": "49b5c467-3e88-406b-bcdb-be0676317aa3",
   "metadata": {
    "tags": []
   },
   "outputs": [],
   "source": [
    "fn insertion_sort_desc(A: &mut [i32], n: usize) {\n",
    "    for i in 1..n {\n",
    "        let key = A[i];\n",
    "        let mut j = i;\n",
    "        while j > 0 && A[j - 1] < key {\n",
    "            A[j] = A[j - 1];\n",
    "            j -= 1;\n",
    "        }\n",
    "        A[j] = key;\n",
    "    }\n",
    "}"
   ]
  },
  {
   "cell_type": "code",
   "execution_count": 22,
   "id": "258b046c-6276-431c-bc84-2568a444116a",
   "metadata": {
    "tags": []
   },
   "outputs": [
    {
     "name": "stdout",
     "output_type": "stream",
     "text": [
      "[6, 5, 4, 3, 2, 1]\n"
     ]
    },
    {
     "data": {
      "text/plain": [
       "()"
      ]
     },
     "execution_count": 22,
     "metadata": {},
     "output_type": "execute_result"
    }
   ],
   "source": [
    "{\n",
    "    let mut arr: [i32; 6] = [5, 2, 4, 6, 1, 3];\n",
    "    insertion_sort_desc(&mut arr, 6);\n",
    "    println!(\"{:?}\", arr);\n",
    "}"
   ]
  },
  {
   "cell_type": "markdown",
   "id": "65f457dc-96c8-4882-8699-62b6c206276b",
   "metadata": {},
   "source": [
    "## 2.1-4 linear search"
   ]
  },
  {
   "cell_type": "code",
   "execution_count": 23,
   "id": "9e7ac2d1-2021-4d1e-95bc-c4572fdf2a8c",
   "metadata": {
    "tags": []
   },
   "outputs": [],
   "source": [
    "fn linear_search(A: &[i32], x: i32) -> Option<usize> {\n",
    "    for i in 0..A.len() {\n",
    "        if A[i] == x {\n",
    "            return Some(i);\n",
    "        }\n",
    "    }\n",
    "    \n",
    "    return None;\n",
    "}"
   ]
  },
  {
   "cell_type": "code",
   "execution_count": 25,
   "id": "cd0646a2-cdf1-4079-8655-e50f48dbd9e4",
   "metadata": {
    "tags": []
   },
   "outputs": [
    {
     "name": "stdout",
     "output_type": "stream",
     "text": [
      "Some(3)\n",
      "None\n"
     ]
    },
    {
     "data": {
      "text/plain": [
       "()"
      ]
     },
     "execution_count": 25,
     "metadata": {},
     "output_type": "execute_result"
    }
   ],
   "source": [
    "{\n",
    "    let mut arr: [i32; 6] = [5, 2, 4, 6, 1, 3];\n",
    "    println!(\"{:?}\", linear_search(&arr, 6));\n",
    "    println!(\"{:?}\", linear_search(&arr, 16));\n",
    "}"
   ]
  },
  {
   "cell_type": "markdown",
   "id": "be69c110-295f-497e-86ed-929f4077ba1b",
   "metadata": {},
   "source": [
    "## 2.1-5 ADD-BINARY-INTEGERS"
   ]
  },
  {
   "cell_type": "code",
   "execution_count": 31,
   "id": "29a1d6f6-2a99-400d-87fe-fb358eb27104",
   "metadata": {
    "tags": []
   },
   "outputs": [],
   "source": [
    "fn add_binary_integers(A: &[u8], B: &[u8], n: usize) -> Vec<u8> {\n",
    "    let mut carry = 0;\n",
    "    let mut C = vec![0; n + 1];\n",
    "    \n",
    "    for i in 0..n {\n",
    "        let result = A[i] + B[i] + carry;\n",
    "        C[i] = result % 2;\n",
    "        carry = if result > 1 { 1 } else { 0 };\n",
    "    }\n",
    "    \n",
    "    C[n] = carry;\n",
    "    return C;\n",
    "}"
   ]
  },
  {
   "cell_type": "code",
   "execution_count": 38,
   "id": "02b0210a-717c-4fd8-9cf7-e24f097ff622",
   "metadata": {
    "tags": []
   },
   "outputs": [
    {
     "name": "stdout",
     "output_type": "stream",
     "text": [
      "[0, 0, 0, 0]\n",
      "[1, 1, 1, 0]\n",
      "[1, 1, 0, 1]\n",
      "[0, 1, 1, 1]\n"
     ]
    },
    {
     "data": {
      "text/plain": [
       "()"
      ]
     },
     "execution_count": 38,
     "metadata": {},
     "output_type": "execute_result"
    }
   ],
   "source": [
    "{\n",
    "    println!(\"{:?}\", add_binary_integers(&[0,0,0], &[0,0,0], 3));\n",
    "    println!(\"{:?}\", add_binary_integers(&[0,0,0], &[1,1,1], 3));\n",
    "    println!(\"{:?}\", add_binary_integers(&[0,0,1], &[1,1,1], 3));\n",
    "    println!(\"{:?}\", add_binary_integers(&[1,1,1], &[1,1,1], 3));\n",
    "}"
   ]
  },
  {
   "cell_type": "code",
   "execution_count": null,
   "id": "d0c7c695-8d7f-4894-8c5f-e2000c007dea",
   "metadata": {},
   "outputs": [],
   "source": []
  }
 ],
 "metadata": {
  "kernelspec": {
   "display_name": "Rust",
   "language": "rust",
   "name": "rust"
  },
  "language_info": {
   "codemirror_mode": "rust",
   "file_extension": ".rs",
   "mimetype": "text/rust",
   "name": "Rust",
   "pygment_lexer": "rust",
   "version": ""
  }
 },
 "nbformat": 4,
 "nbformat_minor": 5
}

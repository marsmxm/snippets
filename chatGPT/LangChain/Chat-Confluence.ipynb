{
 "cells": [
  {
   "cell_type": "code",
   "execution_count": 1,
   "id": "538f7315-1885-467a-bdb4-2fd3171675c0",
   "metadata": {},
   "outputs": [],
   "source": [
    "import os\n",
    "import openai\n",
    "import sys\n",
    "\n",
    "from dotenv import load_dotenv, find_dotenv\n",
    "_ = load_dotenv(find_dotenv()) # read local .env file\n",
    "\n",
    "openai.api_key  = os.environ['OPENAI_API_KEY']"
   ]
  },
  {
   "cell_type": "code",
   "execution_count": 8,
   "id": "c840422e-d9a6-49d4-958d-77ac8ac76099",
   "metadata": {},
   "outputs": [
    {
     "name": "stdout",
     "output_type": "stream",
     "text": [
      "4\n",
      "7\n"
     ]
    }
   ],
   "source": [
    "from langchain.document_loaders import ConfluenceLoader\n",
    "\n",
    "api_key = os.environ['CONFLUENCE_API_KEY']\n",
    "\n",
    "loader = ConfluenceLoader(\n",
    "    url=\"https://url\", username=\"user\", api_key=api_key\n",
    ")\n",
    "documents = loader.load(page_ids=['505618684', '494732378', '446760275', '436012282'], include_attachments=False, limit=50)\n",
    "print(len(documents))\n",
    "\n",
    "# Split\n",
    "from langchain.text_splitter import RecursiveCharacterTextSplitter\n",
    "text_splitter = RecursiveCharacterTextSplitter(\n",
    "    chunk_size = 1500,\n",
    "    chunk_overlap = 150\n",
    ")\n",
    "\n",
    "splits = text_splitter.split_documents(documents)\n",
    "print(len(splits))"
   ]
  },
  {
   "cell_type": "code",
   "execution_count": 9,
   "id": "36466d1e-018f-421a-a60a-79c10853fed2",
   "metadata": {},
   "outputs": [],
   "source": [
    "# !rm -rf ./docs/chroma"
   ]
  },
  {
   "cell_type": "code",
   "execution_count": 2,
   "id": "22ca72e6-3971-4f89-bac2-d06888d86fd3",
   "metadata": {},
   "outputs": [],
   "source": [
    "from langchain.embeddings.openai import OpenAIEmbeddings\n",
    "embedding = OpenAIEmbeddings()\n",
    "\n",
    "# ! pip install chromadb\n",
    "# !rm -rf ./docs/chroma  # remove old database files if any\n",
    "\n",
    "from langchain.vectorstores import Chroma\n",
    "\n",
    "persist_directory = 'docs/chroma/'"
   ]
  },
  {
   "cell_type": "code",
   "execution_count": 10,
   "id": "43e8ce15-60df-42fe-9af9-e278799d905d",
   "metadata": {},
   "outputs": [],
   "source": [
    "\n",
    "vectordb = Chroma.from_documents(\n",
    "    documents=splits,\n",
    "    embedding=embedding,\n",
    "    persist_directory=persist_directory\n",
    ")\n",
    "\n",
    "vectordb.persist()\n",
    "\n",
    "# vectordb = Chroma(\n",
    "#     persist_directory=persist_directory,\n",
    "#     embedding_function=embedding\n",
    "# )"
   ]
  },
  {
   "cell_type": "code",
   "execution_count": 11,
   "id": "efbda517-f457-42c3-a6c9-4a07d1ca99ad",
   "metadata": {},
   "outputs": [
    {
     "name": "stdout",
     "output_type": "stream",
     "text": [
      "7\n"
     ]
    }
   ],
   "source": [
    "print(vectordb._collection.count())"
   ]
  },
  {
   "cell_type": "code",
   "execution_count": 12,
   "id": "211f3182-9728-48da-9db8-fb1b2ca6a094",
   "metadata": {},
   "outputs": [
    {
     "name": "stdout",
     "output_type": "stream",
     "text": [
      "3\n",
      "3\n"
     ]
    }
   ],
   "source": [
    "question1 = \"is there an email i can ask for help\"\n",
    "question2 = \"what are airflow's IP addresses?\"\n",
    "\n",
    "docs1 = vectordb.similarity_search(question1, k=3)\n",
    "docs2 = vectordb.similarity_search(question2, k=3)\n",
    "print(len(docs1))\n",
    "print(len(docs2))"
   ]
  },
  {
   "cell_type": "code",
   "execution_count": 8,
   "id": "a8074b9a-08f7-4ae5-8f34-c00a5c79bdb4",
   "metadata": {},
   "outputs": [
    {
     "name": "stdout",
     "output_type": "stream",
     "text": [
      "gpt-3.5-turbo-0301\n"
     ]
    }
   ],
   "source": [
    "import datetime\n",
    "current_date = datetime.datetime.now().date()\n",
    "if current_date < datetime.date(2023, 9, 2):\n",
    "    llm_name = \"gpt-3.5-turbo-0301\"\n",
    "else:\n",
    "    llm_name = \"gpt-3.5-turbo\"\n",
    "print(llm_name)\n",
    "\n"
   ]
  },
  {
   "cell_type": "code",
   "execution_count": 24,
   "id": "f372555b-d987-4dee-86ef-1e5f36b4e2b7",
   "metadata": {},
   "outputs": [
    {
     "data": {
      "text/plain": [
       "3"
      ]
     },
     "execution_count": 24,
     "metadata": {},
     "output_type": "execute_result"
    }
   ],
   "source": [
    "question = \"How to install Airflow\"\n",
    "docs = vectordb.similarity_search(question, k=3)\n",
    "len(docs)"
   ]
  },
  {
   "cell_type": "code",
   "execution_count": 35,
   "id": "f7de861b-4a50-4157-8337-1c363d963175",
   "metadata": {},
   "outputs": [],
   "source": [
    "from langchain.chat_models import ChatOpenAI\n",
    "llm = ChatOpenAI(model_name=llm_name, temperature=0)"
   ]
  },
  {
   "cell_type": "code",
   "execution_count": 36,
   "id": "3a6b505c-0709-4163-a2fb-0d862b0f9d24",
   "metadata": {},
   "outputs": [],
   "source": [
    "from langchain.chains import RetrievalQA\n",
    "\n",
    "qa_chain = RetrievalQA.from_chain_type(\n",
    "    llm,\n",
    "    retriever=vectordb.as_retriever()\n",
    ")"
   ]
  },
  {
   "cell_type": "code",
   "execution_count": 37,
   "id": "16c180be-b7f8-4edc-bcc0-8df348df64b0",
   "metadata": {},
   "outputs": [],
   "source": [
    "result = qa_chain({\"query\": question})"
   ]
  },
  {
   "cell_type": "code",
   "execution_count": 38,
   "id": "51e43f7b-b1bd-41d6-9af7-af259031607c",
   "metadata": {},
   "outputs": [
    {
     "data": {
      "text/plain": [
       "{'query': 'How to install Airflow',\n",
       " 'result': 'Airflow can be installed using a customized Helm chart based on the official chart. Here are the steps to install Airflow:\\n\\n1. SSH into the server where you want to install Airflow.\\n2. Clone the customized Helm chart to your local machine using the command: `git clone <helm-chart-repo-url>`\\n3. CD into the cloned directory using the command: `cd <helm-chart-directory>`\\n4. Create a Kubernetes namespace for Airflow using the command: `kubectl create namespace airflow`\\n5. Install Airflow using the Helm chart using the command: `helm install airflow -n airflow .`\\n\\nAfter the installation is complete, you can access the Airflow UI using the URL provided in the context.'}"
      ]
     },
     "execution_count": 38,
     "metadata": {},
     "output_type": "execute_result"
    }
   ],
   "source": [
    "result"
   ]
  },
  {
   "cell_type": "code",
   "execution_count": 53,
   "id": "ce8e98af-eebb-4e10-bec3-5cba087238a0",
   "metadata": {},
   "outputs": [],
   "source": [
    "from langchain.prompts import PromptTemplate\n",
    "\n",
    "# Build prompt\n",
    "template = \"\"\"Use the following pieces of context to answer the question at the end. If you don't know the answer, just say that you don't know, don't try to make up an answer. Use three sentences maximum. Keep the answer as concise as possible. Answer in Chinese.\n",
    "{context}\n",
    "Question: {question}\n",
    "Helpful Answer:\"\"\"\n",
    "QA_CHAIN_PROMPT = PromptTemplate.from_template(template)"
   ]
  },
  {
   "cell_type": "code",
   "execution_count": 54,
   "id": "a6c92c3f-6d86-4b50-a753-a470e07dcea3",
   "metadata": {},
   "outputs": [],
   "source": [
    "qa_chain = RetrievalQA.from_chain_type(\n",
    "    llm,\n",
    "    retriever=vectordb.as_retriever(),\n",
    "    return_source_documents=True,\n",
    "    chain_type_kwargs={\"prompt\": QA_CHAIN_PROMPT}\n",
    ")"
   ]
  },
  {
   "cell_type": "code",
   "execution_count": 55,
   "id": "29e05cf6-f2a2-453e-a44c-5f98d760f052",
   "metadata": {},
   "outputs": [],
   "source": [
    "question = \"都有哪些 MySql 的账号？\"\n",
    "result = qa_chain({\"query\": question})"
   ]
  },
  {
   "cell_type": "code",
   "execution_count": 56,
   "id": "209276e3-16a7-446e-ba42-a76d7b195e46",
   "metadata": {},
   "outputs": [
    {
     "data": {
      "text/plain": [
       "'有root、root_backup、sqlpad、sqlpad_real、feature_store、hive、airflow、adsuser等账号。'"
      ]
     },
     "execution_count": 56,
     "metadata": {},
     "output_type": "execute_result"
    }
   ],
   "source": [
    "result['result']"
   ]
  },
  {
   "cell_type": "code",
   "execution_count": null,
   "id": "9ba99857-3e09-4424-b6fb-76c5c6c2bd83",
   "metadata": {},
   "outputs": [],
   "source": []
  }
 ],
 "metadata": {
  "kernelspec": {
   "display_name": "python3-langchain",
   "language": "python",
   "name": "python3-langchain"
  },
  "language_info": {
   "codemirror_mode": {
    "name": "ipython",
    "version": 3
   },
   "file_extension": ".py",
   "mimetype": "text/x-python",
   "name": "python",
   "nbconvert_exporter": "python",
   "pygments_lexer": "ipython3",
   "version": "3.11.4"
  }
 },
 "nbformat": 4,
 "nbformat_minor": 5
}

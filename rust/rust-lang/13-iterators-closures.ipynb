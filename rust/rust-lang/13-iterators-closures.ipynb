{
 "cells": [
  {
   "cell_type": "markdown",
   "id": "7b9e62e4-82cb-4d41-97ae-61c5dcb59ef7",
   "metadata": {},
   "source": [
    "# Closures: Anonymous Functions that Capture Their Environment"
   ]
  },
  {
   "cell_type": "code",
   "execution_count": 2,
   "id": "9e17192b-ec1d-4ce6-ba1a-37e10c93ec52",
   "metadata": {},
   "outputs": [
    {
     "name": "stdout",
     "output_type": "stream",
     "text": [
      "The user with preference Some(Red) gets Red\n",
      "The user with preference None gets Blue\n"
     ]
    },
    {
     "data": {
      "text/plain": [
       "()"
      ]
     },
     "execution_count": 2,
     "metadata": {},
     "output_type": "execute_result"
    }
   ],
   "source": [
    "#[derive(Debug, PartialEq, Copy, Clone)]\n",
    "enum ShirtColor {\n",
    "    Red,\n",
    "    Blue,\n",
    "}\n",
    "\n",
    "struct Inventory {\n",
    "    shirts: Vec<ShirtColor>,\n",
    "}\n",
    "\n",
    "impl Inventory {\n",
    "    fn giveaway(&self, user_preference: Option<ShirtColor>) -> ShirtColor {\n",
    "        user_preference.unwrap_or_else(|| self.most_stocked())\n",
    "    }\n",
    "\n",
    "    fn most_stocked(&self) -> ShirtColor {\n",
    "        let mut num_red = 0;\n",
    "        let mut num_blue = 0;\n",
    "\n",
    "        for color in &self.shirts {\n",
    "            match color {\n",
    "                ShirtColor::Red => num_red += 1,\n",
    "                ShirtColor::Blue => num_blue += 1,\n",
    "            }\n",
    "        }\n",
    "        if num_red > num_blue {\n",
    "            ShirtColor::Red\n",
    "        } else {\n",
    "            ShirtColor::Blue\n",
    "        }\n",
    "    }\n",
    "}\n",
    "\n",
    "{\n",
    "    let store = Inventory {\n",
    "        shirts: vec![ShirtColor::Blue, ShirtColor::Red, ShirtColor::Blue],\n",
    "    };\n",
    "\n",
    "    let user_pref1 = Some(ShirtColor::Red);\n",
    "    let giveaway1 = store.giveaway(user_pref1);\n",
    "    println!(\n",
    "        \"The user with preference {:?} gets {:?}\",\n",
    "        user_pref1, giveaway1\n",
    "    );\n",
    "\n",
    "    let user_pref2 = None;\n",
    "    let giveaway2 = store.giveaway(user_pref2);\n",
    "    println!(\n",
    "        \"The user with preference {:?} gets {:?}\",\n",
    "        user_pref2, giveaway2\n",
    "    );\n",
    "}"
   ]
  },
  {
   "cell_type": "markdown",
   "id": "7adc8633-c10d-4518-9cb4-7a00cb7aad12",
   "metadata": {},
   "source": [
    "## Capturing References or Moving Ownership"
   ]
  },
  {
   "cell_type": "code",
   "execution_count": 3,
   "id": "29fb0e95-aeaa-498c-a235-0853c01b34cd",
   "metadata": {},
   "outputs": [
    {
     "name": "stdout",
     "output_type": "stream",
     "text": [
      "Before defining closure: [1, 2, 3]\n",
      "Before calling closure: [1, 2, 3]\n",
      "From closure: [1, 2, 3]\n",
      "After calling closure: [1, 2, 3]\n"
     ]
    },
    {
     "data": {
      "text/plain": [
       "()"
      ]
     },
     "execution_count": 3,
     "metadata": {},
     "output_type": "execute_result"
    }
   ],
   "source": [
    "{\n",
    "    let list = vec![1, 2, 3];\n",
    "    println!(\"Before defining closure: {:?}\", list);\n",
    "\n",
    "    let only_borrows = || println!(\"From closure: {:?}\", list);\n",
    "\n",
    "    println!(\"Before calling closure: {:?}\", list);\n",
    "    only_borrows();\n",
    "    println!(\"After calling closure: {:?}\", list);\n",
    "}"
   ]
  },
  {
   "cell_type": "code",
   "execution_count": 6,
   "id": "8fa27219-922c-4a09-9609-4b8b4594df7b",
   "metadata": {},
   "outputs": [
    {
     "name": "stdout",
     "output_type": "stream",
     "text": [
      "Before defining closure: [1, 2, 3]\n",
      "After calling closure: [1, 2, 3, 7]\n"
     ]
    },
    {
     "data": {
      "text/plain": [
       "()"
      ]
     },
     "execution_count": 6,
     "metadata": {},
     "output_type": "execute_result"
    }
   ],
   "source": [
    "{\n",
    "    let mut list = vec![1, 2, 3];\n",
    "    println!(\"Before defining closure: {:?}\", list);\n",
    "\n",
    "    let mut borrows_mutably = || list.push(7);\n",
    "\n",
    "    // println!(\"Before calling closure: {:?}\", list);\n",
    "    borrows_mutably();\n",
    "    println!(\"After calling closure: {:?}\", list);\n",
    "}"
   ]
  },
  {
   "cell_type": "code",
   "execution_count": 9,
   "id": "5b748493-0056-4e67-8a22-42a9180fdd0f",
   "metadata": {},
   "outputs": [
    {
     "name": "stdout",
     "output_type": "stream",
     "text": [
      "Before defining closure: [1, 2, 3]\n",
      "From thread: [1, 2, 3]\n"
     ]
    },
    {
     "data": {
      "text/plain": [
       "()"
      ]
     },
     "execution_count": 9,
     "metadata": {},
     "output_type": "execute_result"
    }
   ],
   "source": [
    "use std::thread;\n",
    "\n",
    "{\n",
    "    let list = vec![1, 2, 3];\n",
    "    println!(\"Before defining closure: {:?}\", list);\n",
    "\n",
    "    thread::spawn(move || println!(\"From thread: {:?}\", list))\n",
    "        .join()\n",
    "        .unwrap();\n",
    "}"
   ]
  },
  {
   "cell_type": "markdown",
   "id": "c358542b-d0b0-4c61-9778-6ea4e00b2514",
   "metadata": {},
   "source": [
    "## Moving Captured Values Out of Closures and the Fn Traits"
   ]
  },
  {
   "cell_type": "code",
   "execution_count": 10,
   "id": "a52485fa-f86f-4d4d-b9b0-7fad341cb949",
   "metadata": {},
   "outputs": [
    {
     "name": "stdout",
     "output_type": "stream",
     "text": [
      "[\n",
      "    Rectangle {\n",
      "        width: 3,\n",
      "        height: 5,\n",
      "    },\n",
      "    Rectangle {\n",
      "        width: 7,\n",
      "        height: 12,\n",
      "    },\n",
      "    Rectangle {\n",
      "        width: 10,\n",
      "        height: 1,\n",
      "    },\n",
      "]\n"
     ]
    },
    {
     "data": {
      "text/plain": [
       "()"
      ]
     },
     "execution_count": 10,
     "metadata": {},
     "output_type": "execute_result"
    }
   ],
   "source": [
    "#[derive(Debug)]\n",
    "struct Rectangle {\n",
    "    width: u32,\n",
    "    height: u32,\n",
    "}\n",
    "\n",
    "{\n",
    "    let mut list = [\n",
    "        Rectangle { width: 10, height: 1 },\n",
    "        Rectangle { width: 3, height: 5 },\n",
    "        Rectangle { width: 7, height: 12 },\n",
    "    ];\n",
    "\n",
    "    list.sort_by_key(|r| r.width);\n",
    "    println!(\"{:#?}\", list);\n",
    "}"
   ]
  },
  {
   "cell_type": "code",
   "execution_count": 11,
   "id": "632325dd-3a4c-42af-81d7-9e48921d59b6",
   "metadata": {},
   "outputs": [
    {
     "ename": "Error",
     "evalue": "cannot move out of `value`, a captured variable in an `FnMut` closure",
     "output_type": "error",
     "traceback": [
      "\u001b[31m[E0507] Error:\u001b[0m cannot move out of `value`, a captured variable in an `FnMut` closure",
      "    \u001b[38;5;246m╭\u001b[0m\u001b[38;5;246m─\u001b[0m\u001b[38;5;246m[\u001b[0mcommand_11:1:1\u001b[38;5;246m]\u001b[0m",
      "    \u001b[38;5;246m│\u001b[0m",
      " \u001b[38;5;246m15 │\u001b[0m \u001b[38;5;249m \u001b[0m\u001b[38;5;249m \u001b[0m\u001b[38;5;249m \u001b[0m\u001b[38;5;249m \u001b[0m\u001b[38;5;249ml\u001b[0m\u001b[38;5;249me\u001b[0m\u001b[38;5;249mt\u001b[0m\u001b[38;5;249m \u001b[0m\u001b[38;5;54mv\u001b[0m\u001b[38;5;54ma\u001b[0m\u001b[38;5;54ml\u001b[0m\u001b[38;5;54mu\u001b[0m\u001b[38;5;54me\u001b[0m\u001b[38;5;249m \u001b[0m\u001b[38;5;249m=\u001b[0m\u001b[38;5;249m \u001b[0m\u001b[38;5;249mS\u001b[0m\u001b[38;5;249mt\u001b[0m\u001b[38;5;249mr\u001b[0m\u001b[38;5;249mi\u001b[0m\u001b[38;5;249mn\u001b[0m\u001b[38;5;249mg\u001b[0m\u001b[38;5;249m:\u001b[0m\u001b[38;5;249m:\u001b[0m\u001b[38;5;249mf\u001b[0m\u001b[38;5;249mr\u001b[0m\u001b[38;5;249mo\u001b[0m\u001b[38;5;249mm\u001b[0m\u001b[38;5;249m(\u001b[0m\u001b[38;5;249m\"\u001b[0m\u001b[38;5;249mb\u001b[0m\u001b[38;5;249my\u001b[0m\u001b[38;5;249m \u001b[0m\u001b[38;5;249mk\u001b[0m\u001b[38;5;249me\u001b[0m\u001b[38;5;249my\u001b[0m\u001b[38;5;249m \u001b[0m\u001b[38;5;249mc\u001b[0m\u001b[38;5;249ma\u001b[0m\u001b[38;5;249ml\u001b[0m\u001b[38;5;249ml\u001b[0m\u001b[38;5;249me\u001b[0m\u001b[38;5;249md\u001b[0m\u001b[38;5;249m\"\u001b[0m\u001b[38;5;249m)\u001b[0m\u001b[38;5;249m;\u001b[0m",
      " \u001b[38;5;240m   │\u001b[0m         \u001b[38;5;54m─\u001b[0m\u001b[38;5;54m─\u001b[0m\u001b[38;5;54m┬\u001b[0m\u001b[38;5;54m─\u001b[0m\u001b[38;5;54m─\u001b[0m  ",
      " \u001b[38;5;240m   │\u001b[0m           \u001b[38;5;54m╰\u001b[0m\u001b[38;5;54m─\u001b[0m\u001b[38;5;54m─\u001b[0m\u001b[38;5;54m─\u001b[0m\u001b[38;5;54m─\u001b[0m captured outer variable",
      " \u001b[38;5;240m   │\u001b[0m ",
      " \u001b[38;5;246m17 │\u001b[0m \u001b[38;5;249m \u001b[0m\u001b[38;5;249m \u001b[0m\u001b[38;5;249m \u001b[0m\u001b[38;5;249m \u001b[0m\u001b[38;5;249ml\u001b[0m\u001b[38;5;249mi\u001b[0m\u001b[38;5;249ms\u001b[0m\u001b[38;5;249mt\u001b[0m\u001b[38;5;249m.\u001b[0m\u001b[38;5;249ms\u001b[0m\u001b[38;5;249mo\u001b[0m\u001b[38;5;249mr\u001b[0m\u001b[38;5;249mt\u001b[0m\u001b[38;5;249m_\u001b[0m\u001b[38;5;249mb\u001b[0m\u001b[38;5;249my\u001b[0m\u001b[38;5;249m_\u001b[0m\u001b[38;5;249mk\u001b[0m\u001b[38;5;249me\u001b[0m\u001b[38;5;249my\u001b[0m\u001b[38;5;249m(\u001b[0m\u001b[38;5;100m|\u001b[0m\u001b[38;5;100mr\u001b[0m\u001b[38;5;100m|\u001b[0m\u001b[38;5;249m \u001b[0m\u001b[38;5;249m{\u001b[0m",
      " \u001b[38;5;240m   │\u001b[0m                      \u001b[38;5;100m─\u001b[0m\u001b[38;5;100m┬\u001b[0m\u001b[38;5;100m─\u001b[0m  ",
      " \u001b[38;5;240m   │\u001b[0m                       \u001b[38;5;100m╰\u001b[0m\u001b[38;5;100m─\u001b[0m\u001b[38;5;100m─\u001b[0m\u001b[38;5;100m─\u001b[0m captured by this `FnMut` closure",
      " \u001b[38;5;246m18 │\u001b[0m \u001b[38;5;249m \u001b[0m\u001b[38;5;249m \u001b[0m\u001b[38;5;249m \u001b[0m\u001b[38;5;249m \u001b[0m\u001b[38;5;249m \u001b[0m\u001b[38;5;249m \u001b[0m\u001b[38;5;249m \u001b[0m\u001b[38;5;249m \u001b[0m\u001b[38;5;249ms\u001b[0m\u001b[38;5;249mo\u001b[0m\u001b[38;5;249mr\u001b[0m\u001b[38;5;249mt\u001b[0m\u001b[38;5;249m_\u001b[0m\u001b[38;5;249mo\u001b[0m\u001b[38;5;249mp\u001b[0m\u001b[38;5;249me\u001b[0m\u001b[38;5;249mr\u001b[0m\u001b[38;5;249ma\u001b[0m\u001b[38;5;249mt\u001b[0m\u001b[38;5;249mi\u001b[0m\u001b[38;5;249mo\u001b[0m\u001b[38;5;249mn\u001b[0m\u001b[38;5;249ms\u001b[0m\u001b[38;5;249m.\u001b[0m\u001b[38;5;249mp\u001b[0m\u001b[38;5;249mu\u001b[0m\u001b[38;5;249ms\u001b[0m\u001b[38;5;249mh\u001b[0m\u001b[38;5;249m(\u001b[0m\u001b[38;5;68mv\u001b[0m\u001b[38;5;68ma\u001b[0m\u001b[38;5;68ml\u001b[0m\u001b[38;5;68mu\u001b[0m\u001b[38;5;68me\u001b[0m\u001b[38;5;249m)\u001b[0m\u001b[38;5;249m;\u001b[0m",
      " \u001b[38;5;240m   │\u001b[0m                              \u001b[38;5;68m─\u001b[0m\u001b[38;5;68m─\u001b[0m\u001b[38;5;68m┬\u001b[0m\u001b[38;5;68m─\u001b[0m\u001b[38;5;68m─\u001b[0m  ",
      " \u001b[38;5;240m   │\u001b[0m                                \u001b[38;5;68m╰\u001b[0m\u001b[38;5;68m─\u001b[0m\u001b[38;5;68m─\u001b[0m\u001b[38;5;68m─\u001b[0m\u001b[38;5;68m─\u001b[0m move occurs because `value` has type `String`, which does not implement the `Copy` trait",
      "\u001b[38;5;246m────╯\u001b[0m"
     ]
    }
   ],
   "source": [
    "#[derive(Debug)]\n",
    "struct Rectangle {\n",
    "    width: u32,\n",
    "    height: u32,\n",
    "}\n",
    "\n",
    "{\n",
    "    let mut list = [\n",
    "        Rectangle { width: 10, height: 1 },\n",
    "        Rectangle { width: 3, height: 5 },\n",
    "        Rectangle { width: 7, height: 12 },\n",
    "    ];\n",
    "\n",
    "    let mut sort_operations = vec![];\n",
    "    let value = String::from(\"by key called\");\n",
    "\n",
    "    list.sort_by_key(|r| {\n",
    "        sort_operations.push(value);\n",
    "        r.width\n",
    "    });\n",
    "    println!(\"{:#?}\", list);\n",
    "}"
   ]
  },
  {
   "cell_type": "code",
   "execution_count": 12,
   "id": "02ac30fc-9c7a-4a79-bef9-a3ed6014dc9e",
   "metadata": {},
   "outputs": [
    {
     "name": "stdout",
     "output_type": "stream",
     "text": [
      "[\n",
      "    Rectangle {\n",
      "        width: 3,\n",
      "        height: 5,\n",
      "    },\n",
      "    Rectangle {\n",
      "        width: 7,\n",
      "        height: 12,\n",
      "    },\n",
      "    Rectangle {\n",
      "        width: 10,\n",
      "        height: 1,\n",
      "    },\n",
      "], sorted in 6 operations\n"
     ]
    },
    {
     "data": {
      "text/plain": [
       "()"
      ]
     },
     "execution_count": 12,
     "metadata": {},
     "output_type": "execute_result"
    }
   ],
   "source": [
    "#[derive(Debug)]\n",
    "struct Rectangle {\n",
    "    width: u32,\n",
    "    height: u32,\n",
    "}\n",
    "\n",
    "{\n",
    "    let mut list = [\n",
    "        Rectangle { width: 10, height: 1 },\n",
    "        Rectangle { width: 3, height: 5 },\n",
    "        Rectangle { width: 7, height: 12 },\n",
    "    ];\n",
    "\n",
    "    let mut num_sort_operations = 0;\n",
    "    list.sort_by_key(|r| {\n",
    "        num_sort_operations += 1;\n",
    "        r.width\n",
    "    });\n",
    "    println!(\"{:#?}, sorted in {num_sort_operations} operations\", list);\n",
    "}"
   ]
  },
  {
   "cell_type": "markdown",
   "id": "1e97bf6f-1476-4bc3-b9a9-6f439c8a31c6",
   "metadata": {},
   "source": [
    "# Processing a Series of Items with Iterators"
   ]
  },
  {
   "cell_type": "code",
   "execution_count": 13,
   "id": "6403db89-3d5c-4638-8fa5-8047a3a41a53",
   "metadata": {},
   "outputs": [
    {
     "name": "stdout",
     "output_type": "stream",
     "text": [
      "Got: 1\n",
      "Got: 2\n",
      "Got: 3\n"
     ]
    },
    {
     "data": {
      "text/plain": [
       "()"
      ]
     },
     "execution_count": 13,
     "metadata": {},
     "output_type": "execute_result"
    }
   ],
   "source": [
    "{\n",
    "    let v1 = vec![1, 2, 3];\n",
    "\n",
    "    let v1_iter = v1.iter();\n",
    "\n",
    "    for val in v1_iter {\n",
    "        println!(\"Got: {}\", val);\n",
    "    }\n",
    "\n",
    "}"
   ]
  },
  {
   "cell_type": "code",
   "execution_count": 14,
   "id": "16bfdf80-e36e-4049-a445-6224225a5a63",
   "metadata": {},
   "outputs": [
    {
     "data": {
      "text/plain": [
       "()"
      ]
     },
     "execution_count": 14,
     "metadata": {},
     "output_type": "execute_result"
    }
   ],
   "source": [
    "{\n",
    "    let v1 = vec![1, 2, 3];\n",
    "\n",
    "    let mut v1_iter = v1.iter();\n",
    "\n",
    "    assert_eq!(v1_iter.next(), Some(&1));\n",
    "    assert_eq!(v1_iter.next(), Some(&2));\n",
    "    assert_eq!(v1_iter.next(), Some(&3));\n",
    "    assert_eq!(v1_iter.next(), None);\n",
    "}"
   ]
  },
  {
   "cell_type": "code",
   "execution_count": null,
   "id": "97b44347-65cd-4bbe-8ece-900168f6e2c3",
   "metadata": {},
   "outputs": [],
   "source": []
  }
 ],
 "metadata": {
  "kernelspec": {
   "display_name": "Rust",
   "language": "rust",
   "name": "rust"
  },
  "language_info": {
   "codemirror_mode": "rust",
   "file_extension": ".rs",
   "mimetype": "text/rust",
   "name": "Rust",
   "pygment_lexer": "rust",
   "version": ""
  }
 },
 "nbformat": 4,
 "nbformat_minor": 5
}

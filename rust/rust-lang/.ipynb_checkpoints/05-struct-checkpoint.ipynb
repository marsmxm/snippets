{
 "cells": [
  {
   "cell_type": "code",
   "execution_count": 3,
   "id": "45985c24-b0b5-4b0d-8f5d-313c162e1903",
   "metadata": {},
   "outputs": [],
   "source": [
    "struct User {\n",
    "    active: bool,\n",
    "    username: String,\n",
    "    email: String,\n",
    "    sign_in_count: u64,\n",
    "}"
   ]
  },
  {
   "cell_type": "code",
   "execution_count": 14,
   "id": "2c426369-b9a4-465a-9f35-2a6928932f53",
   "metadata": {},
   "outputs": [
    {
     "name": "stdout",
     "output_type": "stream",
     "text": [
      "anotheremail@example.com\n"
     ]
    }
   ],
   "source": [
    "{\n",
    "    let mut user1 = User {\n",
    "        active: true,\n",
    "        username: String::from(\"someusername123\"),\n",
    "        email: String::from(\"someone@example.com\"),\n",
    "        sign_in_count: 1,\n",
    "    };\n",
    "    \n",
    "    user1.email = String::from(\"anotheremail@example.com\");\n",
    "    println!(\"{}\", user1.email);\n",
    "}"
   ]
  },
  {
   "cell_type": "code",
   "execution_count": 9,
   "id": "74da108c-c158-462e-8685-d588584cf805",
   "metadata": {},
   "outputs": [],
   "source": [
    "fn build_user(email: String, username: String) -> User {\n",
    "    User {\n",
    "        active: true,\n",
    "        username,\n",
    "        email,\n",
    "        sign_in_count: 1,\n",
    "    }\n",
    "}"
   ]
  },
  {
   "cell_type": "code",
   "execution_count": 16,
   "id": "fc7852fc-3c46-4844-adeb-b91df88e64ed",
   "metadata": {},
   "outputs": [
    {
     "name": "stdout",
     "output_type": "stream",
     "text": [
      "another@example.com, built user\n"
     ]
    },
    {
     "data": {
      "text/plain": [
       "()"
      ]
     },
     "execution_count": 16,
     "metadata": {},
     "output_type": "execute_result"
    }
   ],
   "source": [
    "{\n",
    "    let user2 = User {\n",
    "        email: String::from(\"another@example.com\"),\n",
    "        ..build_user(String::from(\"fake\"), String::from(\"built user\"))\n",
    "    };\n",
    "    println!(\"{}, {}\", user2.email, user2.username);\n",
    "}"
   ]
  },
  {
   "cell_type": "code",
   "execution_count": 18,
   "id": "70d16071-cd8c-4709-9af0-7a66804d8725",
   "metadata": {},
   "outputs": [
    {
     "name": "stdout",
     "output_type": "stream",
     "text": [
      "0\n"
     ]
    },
    {
     "data": {
      "text/plain": [
       "()"
      ]
     },
     "execution_count": 18,
     "metadata": {},
     "output_type": "execute_result"
    }
   ],
   "source": [
    "struct Color(i32, i32, i32);\n",
    "struct Point(i32, i32, i32);\n",
    "\n",
    "{\n",
    "    let black = Color(0, 0, 0);\n",
    "    let origin = Point(0, 0, 0);\n",
    "    println!(\"{}\", black.0);\n",
    "}"
   ]
  },
  {
   "cell_type": "code",
   "execution_count": 20,
   "id": "a41c669b-dc4a-443f-a621-2b748206f845",
   "metadata": {},
   "outputs": [
    {
     "data": {
      "text/plain": [
       "()"
      ]
     },
     "execution_count": 20,
     "metadata": {},
     "output_type": "execute_result"
    }
   ],
   "source": [
    "struct AlwaysEqual;\n",
    "\n",
    "{\n",
    "    let subject1 = AlwaysEqual;\n",
    "}"
   ]
  },
  {
   "cell_type": "code",
   "execution_count": 27,
   "id": "0d81cb11-12f8-4183-a7d5-b60460208ac2",
   "metadata": {},
   "outputs": [
    {
     "name": "stdout",
     "output_type": "stream",
     "text": [
      "rect1 is Rectangle {\n",
      "    width: 30,\n",
      "    height: 50,\n",
      "}\n",
      "The area of the rectangle is 1500, 1500, 1500 square pixels.\n"
     ]
    },
    {
     "data": {
      "text/plain": [
       "()"
      ]
     },
     "execution_count": 27,
     "metadata": {},
     "output_type": "execute_result"
    }
   ],
   "source": [
    "fn area1(width: u32, height: u32) -> u32 {\n",
    "    width * height\n",
    "}\n",
    "\n",
    "fn area2(dimensions: (u32, u32)) -> u32 {\n",
    "    dimensions.0 * dimensions.1\n",
    "}\n",
    "\n",
    "#[derive(Debug)]\n",
    "struct Rectangle {\n",
    "    width: u32,\n",
    "    height: u32,\n",
    "}\n",
    "\n",
    "fn area3(rectangle: &Rectangle) -> u32 {\n",
    "    rectangle.width * rectangle.height\n",
    "}\n",
    "\n",
    "{\n",
    "    let width1 = 30;\n",
    "    let height1 = 50;\n",
    "\n",
    "    let rect1 = Rectangle {\n",
    "        width: width1,\n",
    "        height: height1,\n",
    "    };\n",
    "\n",
    "    println!(\"rect1 is {:#?}\", rect1);\n",
    "\n",
    "    println!(\n",
    "        \"The area of the rectangle is {}, {}, {} square pixels.\",\n",
    "        area1(width1, height1),\n",
    "        area2((width1, height1)),\n",
    "        area3(&rect1)\n",
    "    );\n",
    "}\n",
    "\n"
   ]
  },
  {
   "cell_type": "markdown",
   "id": "46428ea7-9753-445c-b44a-30fbd03054e5",
   "metadata": {},
   "source": [
    "## Method"
   ]
  },
  {
   "cell_type": "code",
   "execution_count": 31,
   "id": "357a7165-4361-46b8-821d-b1e00dddbb7d",
   "metadata": {},
   "outputs": [
    {
     "name": "stdout",
     "output_type": "stream",
     "text": [
      "The area of the rectangle is 9 square pixels.\n",
      "Can rect1 hold rect2? true\n"
     ]
    },
    {
     "data": {
      "text/plain": [
       "()"
      ]
     },
     "execution_count": 31,
     "metadata": {},
     "output_type": "execute_result"
    }
   ],
   "source": [
    "#[derive(Debug)]\n",
    "struct Rectangle {\n",
    "    width: u32,\n",
    "    height: u32,\n",
    "}\n",
    "\n",
    "impl Rectangle {\n",
    "    fn square(size: u32) -> Self {\n",
    "        Self {\n",
    "            width: size,\n",
    "            height: size,\n",
    "        }\n",
    "    }\n",
    "\n",
    "    fn area(&self) -> u32 {\n",
    "        self.width * self.height\n",
    "    }\n",
    "\n",
    "    fn can_hold(&self, other: &Rectangle) -> bool {\n",
    "        self.width > other.width && self.height > other.height\n",
    "    }\n",
    "}\n",
    "\n",
    "{\n",
    "    let rect1 = Rectangle {\n",
    "        width: 30,\n",
    "        height: 50,\n",
    "    };\n",
    "\n",
    "    let rect2 = Rectangle {\n",
    "        width: 10,\n",
    "        height: 40,\n",
    "    };\n",
    "\n",
    "    println!(\n",
    "        \"The area of the rectangle is {} square pixels.\",\n",
    "        Rectangle::square(3).area()\n",
    "    );\n",
    "\n",
    "    println!(\"Can rect1 hold rect2? {}\", rect1.can_hold(&rect2));\n",
    "}"
   ]
  },
  {
   "cell_type": "code",
   "execution_count": null,
   "id": "71ba54a5-efc9-49bb-b65f-cbec6a1ca2f9",
   "metadata": {},
   "outputs": [],
   "source": []
  }
 ],
 "metadata": {
  "kernelspec": {
   "display_name": "Rust",
   "language": "rust",
   "name": "rust"
  },
  "language_info": {
   "codemirror_mode": "rust",
   "file_extension": ".rs",
   "mimetype": "text/rust",
   "name": "Rust",
   "pygment_lexer": "rust",
   "version": ""
  }
 },
 "nbformat": 4,
 "nbformat_minor": 5
}

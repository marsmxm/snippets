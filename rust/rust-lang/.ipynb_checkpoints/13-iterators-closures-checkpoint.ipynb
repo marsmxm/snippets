{
 "cells": [
  {
   "cell_type": "code",
   "execution_count": 2,
   "id": "9e17192b-ec1d-4ce6-ba1a-37e10c93ec52",
   "metadata": {},
   "outputs": [
    {
     "name": "stdout",
     "output_type": "stream",
     "text": [
      "The user with preference Some(Red) gets Red\n",
      "The user with preference None gets Blue\n"
     ]
    },
    {
     "data": {
      "text/plain": [
       "()"
      ]
     },
     "execution_count": 2,
     "metadata": {},
     "output_type": "execute_result"
    }
   ],
   "source": [
    "#[derive(Debug, PartialEq, Copy, Clone)]\n",
    "enum ShirtColor {\n",
    "    Red,\n",
    "    Blue,\n",
    "}\n",
    "\n",
    "struct Inventory {\n",
    "    shirts: Vec<ShirtColor>,\n",
    "}\n",
    "\n",
    "impl Inventory {\n",
    "    fn giveaway(&self, user_preference: Option<ShirtColor>) -> ShirtColor {\n",
    "        user_preference.unwrap_or_else(|| self.most_stocked())\n",
    "    }\n",
    "\n",
    "    fn most_stocked(&self) -> ShirtColor {\n",
    "        let mut num_red = 0;\n",
    "        let mut num_blue = 0;\n",
    "\n",
    "        for color in &self.shirts {\n",
    "            match color {\n",
    "                ShirtColor::Red => num_red += 1,\n",
    "                ShirtColor::Blue => num_blue += 1,\n",
    "            }\n",
    "        }\n",
    "        if num_red > num_blue {\n",
    "            ShirtColor::Red\n",
    "        } else {\n",
    "            ShirtColor::Blue\n",
    "        }\n",
    "    }\n",
    "}\n",
    "\n",
    "{\n",
    "    let store = Inventory {\n",
    "        shirts: vec![ShirtColor::Blue, ShirtColor::Red, ShirtColor::Blue],\n",
    "    };\n",
    "\n",
    "    let user_pref1 = Some(ShirtColor::Red);\n",
    "    let giveaway1 = store.giveaway(user_pref1);\n",
    "    println!(\n",
    "        \"The user with preference {:?} gets {:?}\",\n",
    "        user_pref1, giveaway1\n",
    "    );\n",
    "\n",
    "    let user_pref2 = None;\n",
    "    let giveaway2 = store.giveaway(user_pref2);\n",
    "    println!(\n",
    "        \"The user with preference {:?} gets {:?}\",\n",
    "        user_pref2, giveaway2\n",
    "    );\n",
    "}"
   ]
  },
  {
   "cell_type": "markdown",
   "id": "7adc8633-c10d-4518-9cb4-7a00cb7aad12",
   "metadata": {},
   "source": [
    "# Capturing References or Moving Ownership"
   ]
  },
  {
   "cell_type": "code",
   "execution_count": 3,
   "id": "29fb0e95-aeaa-498c-a235-0853c01b34cd",
   "metadata": {},
   "outputs": [
    {
     "name": "stdout",
     "output_type": "stream",
     "text": [
      "Before defining closure: [1, 2, 3]\n",
      "Before calling closure: [1, 2, 3]\n",
      "From closure: [1, 2, 3]\n",
      "After calling closure: [1, 2, 3]\n"
     ]
    },
    {
     "data": {
      "text/plain": [
       "()"
      ]
     },
     "execution_count": 3,
     "metadata": {},
     "output_type": "execute_result"
    }
   ],
   "source": [
    "{\n",
    "    let list = vec![1, 2, 3];\n",
    "    println!(\"Before defining closure: {:?}\", list);\n",
    "\n",
    "    let only_borrows = || println!(\"From closure: {:?}\", list);\n",
    "\n",
    "    println!(\"Before calling closure: {:?}\", list);\n",
    "    only_borrows();\n",
    "    println!(\"After calling closure: {:?}\", list);\n",
    "}"
   ]
  },
  {
   "cell_type": "code",
   "execution_count": 6,
   "id": "8fa27219-922c-4a09-9609-4b8b4594df7b",
   "metadata": {},
   "outputs": [
    {
     "name": "stdout",
     "output_type": "stream",
     "text": [
      "Before defining closure: [1, 2, 3]\n",
      "After calling closure: [1, 2, 3, 7]\n"
     ]
    },
    {
     "data": {
      "text/plain": [
       "()"
      ]
     },
     "execution_count": 6,
     "metadata": {},
     "output_type": "execute_result"
    }
   ],
   "source": [
    "{\n",
    "    let mut list = vec![1, 2, 3];\n",
    "    println!(\"Before defining closure: {:?}\", list);\n",
    "\n",
    "    let mut borrows_mutably = || list.push(7);\n",
    "\n",
    "    // println!(\"Before calling closure: {:?}\", list);\n",
    "    borrows_mutably();\n",
    "    println!(\"After calling closure: {:?}\", list);\n",
    "}"
   ]
  },
  {
   "cell_type": "code",
   "execution_count": 8,
   "id": "5b748493-0056-4e67-8a22-42a9180fdd0f",
   "metadata": {},
   "outputs": [
    {
     "ename": "Error",
     "evalue": "closure may outlive the current function, but it borrows `list`, which is owned by the current function",
     "output_type": "error",
     "traceback": [
      "\u001b[31m[E0373] Error:\u001b[0m closure may outlive the current function, but it borrows `list`, which is owned by the current function",
      "   \u001b[38;5;246m╭\u001b[0m\u001b[38;5;246m─\u001b[0m\u001b[38;5;246m[\u001b[0mcommand_8:1:1\u001b[38;5;246m]\u001b[0m",
      "   \u001b[38;5;246m│\u001b[0m",
      " \u001b[38;5;246m7 │\u001b[0m \u001b[38;5;249m \u001b[0m\u001b[38;5;249m \u001b[0m\u001b[38;5;249m \u001b[0m\u001b[38;5;249m \u001b[0m\u001b[38;5;68mt\u001b[0m\u001b[38;5;68mh\u001b[0m\u001b[38;5;68mr\u001b[0m\u001b[38;5;68me\u001b[0m\u001b[38;5;68ma\u001b[0m\u001b[38;5;68md\u001b[0m\u001b[38;5;68m:\u001b[0m\u001b[38;5;68m:\u001b[0m\u001b[38;5;68ms\u001b[0m\u001b[38;5;68mp\u001b[0m\u001b[38;5;68ma\u001b[0m\u001b[38;5;68mw\u001b[0m\u001b[38;5;68mn\u001b[0m\u001b[38;5;68m(\u001b[0m\u001b[38;5;100m|\u001b[0m\u001b[38;5;100m|\u001b[0m\u001b[38;5;68m \u001b[0m\u001b[38;5;68mp\u001b[0m\u001b[38;5;68mr\u001b[0m\u001b[38;5;68mi\u001b[0m\u001b[38;5;68mn\u001b[0m\u001b[38;5;68mt\u001b[0m\u001b[38;5;68ml\u001b[0m\u001b[38;5;68mn\u001b[0m\u001b[38;5;68m!\u001b[0m\u001b[38;5;68m(\u001b[0m\u001b[38;5;68m\"\u001b[0m\u001b[38;5;68mF\u001b[0m\u001b[38;5;68mr\u001b[0m\u001b[38;5;68mo\u001b[0m\u001b[38;5;68mm\u001b[0m\u001b[38;5;68m \u001b[0m\u001b[38;5;68mt\u001b[0m\u001b[38;5;68mh\u001b[0m\u001b[38;5;68mr\u001b[0m\u001b[38;5;68me\u001b[0m\u001b[38;5;68ma\u001b[0m\u001b[38;5;68md\u001b[0m\u001b[38;5;68m:\u001b[0m\u001b[38;5;68m \u001b[0m\u001b[38;5;68m{\u001b[0m\u001b[38;5;68m:\u001b[0m\u001b[38;5;68m?\u001b[0m\u001b[38;5;68m}\u001b[0m\u001b[38;5;68m\"\u001b[0m\u001b[38;5;68m,\u001b[0m\u001b[38;5;68m \u001b[0m\u001b[38;5;54ml\u001b[0m\u001b[38;5;54mi\u001b[0m\u001b[38;5;54ms\u001b[0m\u001b[38;5;54mt\u001b[0m\u001b[38;5;68m)\u001b[0m\u001b[38;5;68m)\u001b[0m",
      " \u001b[38;5;240m  │\u001b[0m     \u001b[38;5;68m─\u001b[0m\u001b[38;5;68m─\u001b[0m\u001b[38;5;68m─\u001b[0m\u001b[38;5;68m─\u001b[0m\u001b[38;5;68m─\u001b[0m\u001b[38;5;68m─\u001b[0m\u001b[38;5;68m─\u001b[0m\u001b[38;5;68m─\u001b[0m\u001b[38;5;68m─\u001b[0m\u001b[38;5;68m─\u001b[0m\u001b[38;5;68m─\u001b[0m\u001b[38;5;68m─\u001b[0m\u001b[38;5;68m─\u001b[0m\u001b[38;5;68m─\u001b[0m\u001b[38;5;37m┬\u001b[0m\u001b[38;5;100m┬\u001b[0m\u001b[38;5;68m─\u001b[0m\u001b[38;5;68m─\u001b[0m\u001b[38;5;68m─\u001b[0m\u001b[38;5;68m─\u001b[0m\u001b[38;5;68m─\u001b[0m\u001b[38;5;68m─\u001b[0m\u001b[38;5;68m─\u001b[0m\u001b[38;5;68m─\u001b[0m\u001b[38;5;68m─\u001b[0m\u001b[38;5;68m─\u001b[0m\u001b[38;5;68m┬\u001b[0m\u001b[38;5;68m─\u001b[0m\u001b[38;5;68m─\u001b[0m\u001b[38;5;68m─\u001b[0m\u001b[38;5;68m─\u001b[0m\u001b[38;5;68m─\u001b[0m\u001b[38;5;68m─\u001b[0m\u001b[38;5;68m─\u001b[0m\u001b[38;5;68m─\u001b[0m\u001b[38;5;68m─\u001b[0m\u001b[38;5;68m─\u001b[0m\u001b[38;5;68m─\u001b[0m\u001b[38;5;68m─\u001b[0m\u001b[38;5;68m─\u001b[0m\u001b[38;5;68m─\u001b[0m\u001b[38;5;68m─\u001b[0m\u001b[38;5;68m─\u001b[0m\u001b[38;5;68m─\u001b[0m\u001b[38;5;68m─\u001b[0m\u001b[38;5;68m─\u001b[0m\u001b[38;5;68m─\u001b[0m\u001b[38;5;54m─\u001b[0m\u001b[38;5;54m─\u001b[0m\u001b[38;5;54m┬\u001b[0m\u001b[38;5;54m─\u001b[0m\u001b[38;5;68m─\u001b[0m\u001b[38;5;68m─\u001b[0m  ",
      " \u001b[38;5;240m  │\u001b[0m                   \u001b[38;5;37m╰\u001b[0m\u001b[38;5;37m─\u001b[0m\u001b[38;5;37m─\u001b[0m\u001b[38;5;37m─\u001b[0m\u001b[38;5;37m─\u001b[0m\u001b[38;5;37m─\u001b[0m\u001b[38;5;37m─\u001b[0m\u001b[38;5;37m─\u001b[0m\u001b[38;5;37m─\u001b[0m\u001b[38;5;37m─\u001b[0m\u001b[38;5;37m─\u001b[0m\u001b[38;5;37m─\u001b[0m\u001b[38;5;37m─\u001b[0m\u001b[38;5;37m─\u001b[0m\u001b[38;5;37m─\u001b[0m\u001b[38;5;37m─\u001b[0m\u001b[38;5;37m─\u001b[0m\u001b[38;5;37m─\u001b[0m\u001b[38;5;37m─\u001b[0m\u001b[38;5;37m─\u001b[0m\u001b[38;5;37m─\u001b[0m\u001b[38;5;37m─\u001b[0m\u001b[38;5;37m─\u001b[0m\u001b[38;5;37m─\u001b[0m\u001b[38;5;37m─\u001b[0m\u001b[38;5;37m─\u001b[0m\u001b[38;5;37m─\u001b[0m\u001b[38;5;37m─\u001b[0m\u001b[38;5;37m─\u001b[0m\u001b[38;5;37m─\u001b[0m\u001b[38;5;37m─\u001b[0m\u001b[38;5;37m─\u001b[0m\u001b[38;5;37m─\u001b[0m\u001b[38;5;37m─\u001b[0m\u001b[38;5;37m─\u001b[0m\u001b[38;5;37m─\u001b[0m\u001b[38;5;37m─\u001b[0m\u001b[38;5;37m─\u001b[0m\u001b[38;5;37m─\u001b[0m\u001b[38;5;37m─\u001b[0m\u001b[38;5;37m─\u001b[0m help: to force the closure to take ownership of `list` (and any other referenced variables), use the `move` keyword: `move `",
      " \u001b[38;5;240m  │\u001b[0m                    \u001b[38;5;100m│\u001b[0m          \u001b[38;5;68m│\u001b[0m                      \u001b[38;5;54m│\u001b[0m     ",
      " \u001b[38;5;240m  │\u001b[0m                    \u001b[38;5;100m╰\u001b[0m\u001b[38;5;100m─\u001b[0m\u001b[38;5;100m─\u001b[0m\u001b[38;5;100m─\u001b[0m\u001b[38;5;100m─\u001b[0m\u001b[38;5;100m─\u001b[0m\u001b[38;5;100m─\u001b[0m\u001b[38;5;100m─\u001b[0m\u001b[38;5;100m─\u001b[0m\u001b[38;5;100m─\u001b[0m\u001b[38;5;100m─\u001b[0m\u001b[38;5;100m─\u001b[0m\u001b[38;5;100m─\u001b[0m\u001b[38;5;100m─\u001b[0m\u001b[38;5;100m─\u001b[0m\u001b[38;5;100m─\u001b[0m\u001b[38;5;100m─\u001b[0m\u001b[38;5;100m─\u001b[0m\u001b[38;5;100m─\u001b[0m\u001b[38;5;100m─\u001b[0m\u001b[38;5;100m─\u001b[0m\u001b[38;5;100m─\u001b[0m\u001b[38;5;100m─\u001b[0m\u001b[38;5;100m─\u001b[0m\u001b[38;5;100m─\u001b[0m\u001b[38;5;100m─\u001b[0m\u001b[38;5;100m─\u001b[0m\u001b[38;5;100m─\u001b[0m\u001b[38;5;100m─\u001b[0m\u001b[38;5;100m─\u001b[0m\u001b[38;5;100m─\u001b[0m\u001b[38;5;100m─\u001b[0m\u001b[38;5;100m─\u001b[0m\u001b[38;5;100m─\u001b[0m\u001b[38;5;100m─\u001b[0m\u001b[38;5;100m─\u001b[0m\u001b[38;5;100m─\u001b[0m\u001b[38;5;100m─\u001b[0m\u001b[38;5;100m─\u001b[0m\u001b[38;5;100m─\u001b[0m may outlive borrowed value `list`",
      " \u001b[38;5;240m  │\u001b[0m                               \u001b[38;5;68m│\u001b[0m                      \u001b[38;5;54m│\u001b[0m     ",
      " \u001b[38;5;240m  │\u001b[0m                               \u001b[38;5;68m╰\u001b[0m\u001b[38;5;68m─\u001b[0m\u001b[38;5;68m─\u001b[0m\u001b[38;5;68m─\u001b[0m\u001b[38;5;68m─\u001b[0m\u001b[38;5;68m─\u001b[0m\u001b[38;5;68m─\u001b[0m\u001b[38;5;68m─\u001b[0m\u001b[38;5;68m─\u001b[0m\u001b[38;5;68m─\u001b[0m\u001b[38;5;68m─\u001b[0m\u001b[38;5;68m─\u001b[0m\u001b[38;5;68m─\u001b[0m\u001b[38;5;68m─\u001b[0m\u001b[38;5;68m─\u001b[0m\u001b[38;5;68m─\u001b[0m\u001b[38;5;68m─\u001b[0m\u001b[38;5;68m─\u001b[0m\u001b[38;5;68m─\u001b[0m\u001b[38;5;68m─\u001b[0m\u001b[38;5;68m─\u001b[0m\u001b[38;5;68m─\u001b[0m\u001b[38;5;68m─\u001b[0m\u001b[38;5;68m─\u001b[0m\u001b[38;5;68m─\u001b[0m\u001b[38;5;68m─\u001b[0m\u001b[38;5;68m─\u001b[0m\u001b[38;5;68m─\u001b[0m\u001b[38;5;68m─\u001b[0m note: function requires argument type to outlive `'static`",
      " \u001b[38;5;240m  │\u001b[0m                                                      \u001b[38;5;54m│\u001b[0m     ",
      " \u001b[38;5;240m  │\u001b[0m                                                      \u001b[38;5;54m╰\u001b[0m\u001b[38;5;54m─\u001b[0m\u001b[38;5;54m─\u001b[0m\u001b[38;5;54m─\u001b[0m\u001b[38;5;54m─\u001b[0m\u001b[38;5;54m─\u001b[0m `list` is borrowed here",
      "\u001b[38;5;246m───╯\u001b[0m"
     ]
    }
   ],
   "source": [
    "use std::thread;\n",
    "\n",
    "{\n",
    "    let list = vec![1, 2, 3];\n",
    "    println!(\"Before defining closure: {:?}\", list);\n",
    "\n",
    "    thread::spawn(move || println!(\"From thread: {:?}\", list))\n",
    "        .join()\n",
    "        .unwrap();\n",
    "}"
   ]
  },
  {
   "cell_type": "code",
   "execution_count": null,
   "id": "158ceb6d-96f2-4f61-945d-3a0b740788a7",
   "metadata": {},
   "outputs": [],
   "source": []
  }
 ],
 "metadata": {
  "kernelspec": {
   "display_name": "Rust",
   "language": "rust",
   "name": "rust"
  },
  "language_info": {
   "codemirror_mode": "rust",
   "file_extension": ".rs",
   "mimetype": "text/rust",
   "name": "Rust",
   "pygment_lexer": "rust",
   "version": ""
  }
 },
 "nbformat": 4,
 "nbformat_minor": 5
}

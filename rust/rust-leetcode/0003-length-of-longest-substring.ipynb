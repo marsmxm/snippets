{
 "cells": [
  {
   "cell_type": "code",
   "execution_count": 6,
   "id": "f2264e51-df59-40db-8344-eb1b033f20d2",
   "metadata": {},
   "outputs": [
    {
     "name": "stdout",
     "output_type": "stream",
     "text": [
      "0, a\n",
      "1, b\n",
      "2, c\n"
     ]
    },
    {
     "data": {
      "text/plain": [
       "()"
      ]
     },
     "execution_count": 6,
     "metadata": {},
     "output_type": "execute_result"
    }
   ],
   "source": [
    "let s = \"abc\";\n",
    "for (i, c) in s.chars().enumerate() {\n",
    "    println!(\"{i}, {c}\");\n",
    "}"
   ]
  },
  {
   "cell_type": "code",
   "execution_count": 17,
   "id": "776444e4-7610-4ce8-bdf8-d8c12516427a",
   "metadata": {},
   "outputs": [],
   "source": [
    "use std::collections::HashSet;\n",
    "\n",
    "pub fn length_of_longest_substring(s: String) -> i32 {\n",
    "    let mut occurred = HashSet::new();\n",
    "    let mut cur_str = &s[..];\n",
    "    let mut result = 0;\n",
    "\n",
    "    while cur_str.len() > result {\n",
    "        for c in cur_str.chars() {\n",
    "            if occurred.contains(&c) {\n",
    "                break;\n",
    "            } else {\n",
    "                occurred.insert(c);\n",
    "            }\n",
    "        }\n",
    "\n",
    "        if occurred.len() > result {\n",
    "            result = occurred.len();\n",
    "        }\n",
    "        occurred.clear();\n",
    "        cur_str = &cur_str[1..cur_str.len()];\n",
    "    }\n",
    "\n",
    "    result.try_into().unwrap()\n",
    "}"
   ]
  },
  {
   "cell_type": "code",
   "execution_count": 19,
   "id": "64341062-958d-4f4d-ab62-141c8f982869",
   "metadata": {},
   "outputs": [
    {
     "name": "stdout",
     "output_type": "stream",
     "text": [
      "3\n"
     ]
    }
   ],
   "source": [
    "println!(\"{}\", length_of_longest_substring(String::from(\"abcabcbb\")));"
   ]
  },
  {
   "cell_type": "code",
   "execution_count": 20,
   "id": "a929c07d-023b-4e81-87d7-b106894e80fc",
   "metadata": {},
   "outputs": [
    {
     "name": "stdout",
     "output_type": "stream",
     "text": [
      "3\n"
     ]
    }
   ],
   "source": [
    "println!(\"{}\", length_of_longest_substring(String::from(\"pwwkew\")));"
   ]
  },
  {
   "cell_type": "code",
   "execution_count": null,
   "id": "cdbd178a-5108-4555-b304-7e5a2222782c",
   "metadata": {},
   "outputs": [],
   "source": []
  }
 ],
 "metadata": {
  "kernelspec": {
   "display_name": "Rust",
   "language": "rust",
   "name": "rust"
  },
  "language_info": {
   "codemirror_mode": "rust",
   "file_extension": ".rs",
   "mimetype": "text/rust",
   "name": "Rust",
   "pygment_lexer": "rust",
   "version": ""
  }
 },
 "nbformat": 4,
 "nbformat_minor": 5
}

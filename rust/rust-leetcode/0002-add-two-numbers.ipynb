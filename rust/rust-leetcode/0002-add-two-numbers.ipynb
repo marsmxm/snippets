{
 "cells": [
  {
   "cell_type": "code",
   "execution_count": 21,
   "id": "3304d31a-1971-4284-a152-8a2196beea7f",
   "metadata": {},
   "outputs": [],
   "source": [
    "#[derive(PartialEq, Eq, Clone, Debug)]\n",
    "pub struct ListNode {\n",
    "  pub val: i32,\n",
    "  pub next: Option<Box<ListNode>>\n",
    "}\n",
    "\n",
    "impl ListNode {\n",
    "  #[inline]\n",
    "  fn new(val: i32) -> Self {\n",
    "    ListNode {\n",
    "      next: None,\n",
    "      val\n",
    "    }\n",
    "  }\n",
    "\n",
    "  #[inline]\n",
    "  fn new_with_next(val: i32, next: Option<Box<ListNode>>) -> Self {\n",
    "    ListNode {\n",
    "      next,\n",
    "      val\n",
    "    }\n",
    "  }\n",
    "}"
   ]
  },
  {
   "cell_type": "code",
   "execution_count": 19,
   "id": "96fc75bf-5cbb-405a-bc25-6bd47ac37aa3",
   "metadata": {},
   "outputs": [],
   "source": [
    "pub fn add_two_numbers(l1: Option<Box<ListNode>>, l2: Option<Box<ListNode>>) -> Option<Box<ListNode>> {\n",
    "    let mut dummy_head = Some(Box::new(ListNode::new(0)));\n",
    "    let mut p = l1;\n",
    "    let mut q = l2;\n",
    "    let mut curr = &mut dummy_head;\n",
    "    let mut carry = 0;\n",
    "\n",
    "    while p.is_some() || q.is_some() {\n",
    "        let x = p.as_ref().map_or(0, |b| b.val);\n",
    "        let y = q.as_ref().map_or(0, |b| b.val);\n",
    "        let sum = x + y + carry;\n",
    "        curr.as_mut().unwrap().next = Some(Box::new(ListNode::new(sum % 10)));\n",
    "        curr = &mut curr.as_mut().unwrap().next;\n",
    "        carry = sum / 10;\n",
    "\n",
    "        p = p.map_or(None, |b| b.next);\n",
    "        q = q.map_or(None, |b| b.next);\n",
    "    }\n",
    "\n",
    "    if carry > 0 {\n",
    "        curr.as_mut().unwrap().next = Some(Box::new(ListNode::new(carry)));\n",
    "    }\n",
    "\n",
    "    dummy_head.unwrap().next\n",
    "}\n",
    "\n"
   ]
  },
  {
   "cell_type": "code",
   "execution_count": 24,
   "id": "e1478ef9-79a4-449b-9247-1e290ec7e029",
   "metadata": {},
   "outputs": [
    {
     "name": "stdout",
     "output_type": "stream",
     "text": [
      "Some(ListNode { val: 7, next: Some(ListNode { val: 0, next: Some(ListNode { val: 8, next: None }) }) })\n"
     ]
    },
    {
     "data": {
      "text/plain": [
       "()"
      ]
     },
     "execution_count": 24,
     "metadata": {},
     "output_type": "execute_result"
    }
   ],
   "source": [
    "{\n",
    "    let l1 = Some(Box::new(ListNode::new_with_next(\n",
    "        2, \n",
    "        Some(Box::new(ListNode::new_with_next(\n",
    "            4,\n",
    "            Some(Box::new(ListNode::new(3)))))))));\n",
    "    \n",
    "    let l2 = Some(Box::new(ListNode::new_with_next(\n",
    "        5, \n",
    "        Some(Box::new(ListNode::new_with_next(\n",
    "            6,\n",
    "            Some(Box::new(ListNode::new(4)))))))));\n",
    "    println!(\"{:?}\", add_two_numbers(l1, l2));\n",
    "}\n"
   ]
  },
  {
   "cell_type": "code",
   "execution_count": null,
   "id": "371955d0-a181-49d2-843f-e2ca995f96f7",
   "metadata": {},
   "outputs": [],
   "source": []
  }
 ],
 "metadata": {
  "kernelspec": {
   "display_name": "Rust",
   "language": "rust",
   "name": "rust"
  },
  "language_info": {
   "codemirror_mode": "rust",
   "file_extension": ".rs",
   "mimetype": "text/rust",
   "name": "Rust",
   "pygment_lexer": "rust",
   "version": ""
  }
 },
 "nbformat": 4,
 "nbformat_minor": 5
}

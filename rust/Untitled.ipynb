{
 "cells": [
  {
   "cell_type": "code",
   "execution_count": 2,
   "id": "c9313351-7692-4b10-8aab-abf01f670ffd",
   "metadata": {},
   "outputs": [],
   "source": [
    ":dep futures = {version = \"0.3\"}"
   ]
  },
  {
   "cell_type": "code",
   "execution_count": 3,
   "id": "dd52e5e5-9a00-4b24-a6bf-a88c3e4f1710",
   "metadata": {},
   "outputs": [],
   "source": [
    "use crate::List::{Cons, Nil};\n",
    "use std::cell::RefCell;\n",
    "use std::rc::Rc;\n",
    "\n",
    "#[derive(Debug)]\n",
    "enum List {\n",
    "    Cons(i32, RefCell<Rc<List>>),\n",
    "    Nil,\n",
    "}\n",
    "\n",
    "impl List {\n",
    "    fn tail(&self) -> Option<&RefCell<Rc<List>>> {\n",
    "        match self {\n",
    "            Cons(_, item) => Some(&item),\n",
    "            Nil => None,\n",
    "        }\n",
    "    }\n",
    "}\n"
   ]
  },
  {
   "cell_type": "code",
   "execution_count": 4,
   "id": "d5379511-e112-4d99-a841-8f334c28326e",
   "metadata": {},
   "outputs": [
    {
     "name": "stdout",
     "output_type": "stream",
     "text": [
      "a initial rc count = 1\n",
      "a next item = Some(RefCell { value: Nil })\n",
      "a rc count after b creation = 2\n",
      "b initial rc count = 1\n",
      "b next item = Some(RefCell { value: Cons(5, RefCell { value: Nil }) })\n",
      "b rc count after changing a = 2\n",
      "a rc count after changing a = 2\n"
     ]
    },
    {
     "data": {
      "text/plain": [
       "()"
      ]
     },
     "execution_count": 4,
     "metadata": {},
     "output_type": "execute_result"
    }
   ],
   "source": [
    "{\n",
    "    let a = Rc::new(Cons(5, RefCell::new(Rc::new(Nil))));\n",
    "\n",
    "    println!(\"a initial rc count = {}\", Rc::strong_count(&a));\n",
    "    println!(\"a next item = {:?}\", a.tail());\n",
    "\n",
    "    let b = Rc::new(Cons(10, RefCell::new(Rc::clone(&a))));\n",
    "\n",
    "    println!(\"a rc count after b creation = {}\", Rc::strong_count(&a));\n",
    "    println!(\"b initial rc count = {}\", Rc::strong_count(&b));\n",
    "    println!(\"b next item = {:?}\", b.tail());\n",
    "\n",
    "    if let Some(link) = a.tail() {\n",
    "        *link.borrow_mut() = Rc::clone(&b);\n",
    "    }\n",
    "\n",
    "    println!(\"b rc count after changing a = {}\", Rc::strong_count(&b));\n",
    "    println!(\"a rc count after changing a = {}\", Rc::strong_count(&a));\n",
    "\n",
    "    // Uncomment the next line to see that we have a cycle;\n",
    "    // it will overflow the stack\n",
    "    // println!(\"a next item = {:?}\", a.tail());\n",
    "}"
   ]
  },
  {
   "cell_type": "code",
   "execution_count": 7,
   "id": "14ce6e40-60ce-4181-b4c5-cf89938c2e04",
   "metadata": {},
   "outputs": [],
   "source": [
    "use std::cell::RefCell;\n",
    "use std::rc::{Rc, Weak};\n",
    "\n",
    "#[derive(Debug)]\n",
    "struct Node {\n",
    "    value: i32,\n",
    "    parent: RefCell<Weak<Node>>,\n",
    "    children: RefCell<Vec<Rc<Node>>>,\n",
    "}\n"
   ]
  },
  {
   "cell_type": "code",
   "execution_count": 15,
   "id": "a157fc36-1289-4215-831e-192977b85608",
   "metadata": {},
   "outputs": [
    {
     "name": "stdout",
     "output_type": "stream",
     "text": [
      "leaf parent = None\n",
      "0, 1\n",
      "1, 1\n",
      "leaf parent = Some(Node { value: 5, parent: RefCell { value: (Weak) }, children: RefCell { value: [Node { value: 3, parent: RefCell { value: (Weak) }, children: RefCell { value: [] } }] } })\n",
      "1, 2\n"
     ]
    },
    {
     "data": {
      "text/plain": [
       "()"
      ]
     },
     "execution_count": 15,
     "metadata": {},
     "output_type": "execute_result"
    }
   ],
   "source": [
    "{\n",
    "    let leaf = Rc::new(Node {\n",
    "        value: 3,\n",
    "        parent: RefCell::new(Weak::new()),\n",
    "        children: RefCell::new(vec![]),\n",
    "    });\n",
    "\n",
    "    println!(\"leaf parent = {:?}\", leaf.parent.borrow().upgrade());\n",
    "\n",
    "    let branch = Rc::new(Node {\n",
    "        value: 5,\n",
    "        parent: RefCell::new(Weak::new()),\n",
    "        children: RefCell::new(vec![Rc::clone(&leaf)]),\n",
    "    });\n",
    "\n",
    "    println!(\"{}, {}\", Rc::weak_count(&branch), Rc::strong_count(&branch));\n",
    "    *leaf.parent.borrow_mut() = Rc::downgrade(&branch);\n",
    "\n",
    "    println!(\"{}, {}\", Rc::weak_count(&branch), Rc::strong_count(&branch));\n",
    "    let strong = leaf.parent.borrow().upgrade();\n",
    "    println!(\"leaf parent = {:?}\", &strong);\n",
    "    println!(\"{}, {}\", Rc::weak_count(&branch), Rc::strong_count(&branch));\n",
    "}"
   ]
  },
  {
   "cell_type": "code",
   "execution_count": null,
   "id": "3315dd7a-7bc0-427c-be69-2d062971e7d2",
   "metadata": {},
   "outputs": [],
   "source": []
  }
 ],
 "metadata": {
  "kernelspec": {
   "display_name": "Rust",
   "language": "rust",
   "name": "rust"
  },
  "language_info": {
   "codemirror_mode": "rust",
   "file_extension": ".rs",
   "mimetype": "text/rust",
   "name": "Rust",
   "pygment_lexer": "rust",
   "version": ""
  }
 },
 "nbformat": 4,
 "nbformat_minor": 5
}

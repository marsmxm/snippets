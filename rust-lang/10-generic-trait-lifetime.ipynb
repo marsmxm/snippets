{
 "cells": [
  {
   "cell_type": "markdown",
   "id": "6492744c-f9af-48c0-8ec4-a6e83b64c2ae",
   "metadata": {},
   "source": [
    "# Generic Data Types"
   ]
  },
  {
   "cell_type": "code",
   "execution_count": 5,
   "id": "4f9daead-b011-4e8c-9982-a21e03c6f7d6",
   "metadata": {
    "tags": []
   },
   "outputs": [
    {
     "name": "stdout",
     "output_type": "stream",
     "text": [
      "The largest number is 100\n",
      "The largest char is y\n"
     ]
    },
    {
     "data": {
      "text/plain": [
       "()"
      ]
     },
     "execution_count": 5,
     "metadata": {},
     "output_type": "execute_result"
    }
   ],
   "source": [
    "fn largest_i32(list: &[i32]) -> &i32 {\n",
    "    let mut largest = &list[0];\n",
    "\n",
    "    for item in list {\n",
    "        if item > largest {\n",
    "            largest = item;\n",
    "        }\n",
    "    }\n",
    "\n",
    "    largest\n",
    "}\n",
    "\n",
    "fn largest_char(list: &[char]) -> &char {\n",
    "    let mut largest = &list[0];\n",
    "\n",
    "    for item in list {\n",
    "        if item > largest {\n",
    "            largest = item;\n",
    "        }\n",
    "    }\n",
    "\n",
    "    largest\n",
    "}\n",
    "\n",
    "{\n",
    "    let number_list = vec![34, 50, 25, 100, 65];\n",
    "\n",
    "    let result = largest_i32(&number_list);\n",
    "    println!(\"The largest number is {}\", result);\n",
    "\n",
    "    let char_list = vec!['y', 'm', 'a', 'q'];\n",
    "\n",
    "    let result = largest_char(&char_list);\n",
    "    println!(\"The largest char is {}\", result);\n",
    "}"
   ]
  },
  {
   "cell_type": "code",
   "execution_count": 7,
   "id": "affb085b-112d-4a0a-be65-9d11199171f1",
   "metadata": {
    "tags": []
   },
   "outputs": [
    {
     "name": "stdout",
     "output_type": "stream",
     "text": [
      "The largest number is 100\n",
      "The largest char is y\n"
     ]
    },
    {
     "data": {
      "text/plain": [
       "()"
      ]
     },
     "execution_count": 7,
     "metadata": {},
     "output_type": "execute_result"
    }
   ],
   "source": [
    "fn largest<T: std::cmp::PartialOrd>(list: &[T]) -> &T {\n",
    "    let mut largest = &list[0];\n",
    "\n",
    "    for item in list {\n",
    "        if item > largest {\n",
    "            largest = item;\n",
    "        }\n",
    "    }\n",
    "\n",
    "    largest\n",
    "}\n",
    "\n",
    "{\n",
    "    let number_list = vec![34, 50, 25, 100, 65];\n",
    "\n",
    "    let result = largest(&number_list);\n",
    "    println!(\"The largest number is {}\", result);\n",
    "\n",
    "    let char_list = vec!['y', 'm', 'a', 'q'];\n",
    "\n",
    "    let result = largest(&char_list);\n",
    "    println!(\"The largest char is {}\", result);\n",
    "}"
   ]
  },
  {
   "cell_type": "code",
   "execution_count": 10,
   "id": "7b8af952-45c1-4ac0-a4aa-9e7ada511c3c",
   "metadata": {
    "tags": []
   },
   "outputs": [
    {
     "ename": "Error",
     "evalue": "mismatched types",
     "output_type": "error",
     "traceback": [
      "\u001b[31m[E0308] Error:\u001b[0m mismatched types",
      "   \u001b[38;5;246m╭\u001b[0m\u001b[38;5;246m─\u001b[0m\u001b[38;5;246m[\u001b[0mcommand_10:1:1\u001b[38;5;246m]\u001b[0m",
      "   \u001b[38;5;246m│\u001b[0m",
      " \u001b[38;5;246m9 │\u001b[0m \u001b[38;5;249m \u001b[0m\u001b[38;5;249m \u001b[0m\u001b[38;5;249m \u001b[0m\u001b[38;5;249m \u001b[0m\u001b[38;5;249ml\u001b[0m\u001b[38;5;249me\u001b[0m\u001b[38;5;249mt\u001b[0m\u001b[38;5;249m \u001b[0m\u001b[38;5;249mw\u001b[0m\u001b[38;5;249mo\u001b[0m\u001b[38;5;249mn\u001b[0m\u001b[38;5;249mt\u001b[0m\u001b[38;5;249m_\u001b[0m\u001b[38;5;249mw\u001b[0m\u001b[38;5;249mo\u001b[0m\u001b[38;5;249mr\u001b[0m\u001b[38;5;249mk\u001b[0m\u001b[38;5;249m \u001b[0m\u001b[38;5;249m=\u001b[0m\u001b[38;5;249m \u001b[0m\u001b[38;5;249mP\u001b[0m\u001b[38;5;249mo\u001b[0m\u001b[38;5;249mi\u001b[0m\u001b[38;5;249mn\u001b[0m\u001b[38;5;249mt\u001b[0m\u001b[38;5;249m \u001b[0m\u001b[38;5;249m{\u001b[0m\u001b[38;5;249m \u001b[0m\u001b[38;5;249mx\u001b[0m\u001b[38;5;249m:\u001b[0m\u001b[38;5;249m \u001b[0m\u001b[38;5;249m5\u001b[0m\u001b[38;5;249m,\u001b[0m\u001b[38;5;249m \u001b[0m\u001b[38;5;249my\u001b[0m\u001b[38;5;249m:\u001b[0m\u001b[38;5;249m \u001b[0m\u001b[38;5;54m4\u001b[0m\u001b[38;5;54m.\u001b[0m\u001b[38;5;54m0\u001b[0m\u001b[38;5;249m \u001b[0m\u001b[38;5;249m}\u001b[0m\u001b[38;5;249m;\u001b[0m",
      " \u001b[38;5;240m  │\u001b[0m                                      \u001b[38;5;54m─\u001b[0m\u001b[38;5;54m┬\u001b[0m\u001b[38;5;54m─\u001b[0m  ",
      " \u001b[38;5;240m  │\u001b[0m                                       \u001b[38;5;54m╰\u001b[0m\u001b[38;5;54m─\u001b[0m\u001b[38;5;54m─\u001b[0m\u001b[38;5;54m─\u001b[0m expected integer, found floating-point number",
      "\u001b[38;5;246m───╯\u001b[0m"
     ]
    }
   ],
   "source": [
    "struct Point<T> {\n",
    "    x: T,\n",
    "    y: T,\n",
    "}\n",
    "\n",
    "{\n",
    "    let integer = Point { x: 5, y: 10 };\n",
    "    let float = Point { x: 1.0, y: 4.0 };\n",
    "    let wont_work = Point { x: 5, y: 4.0 };\n",
    "}"
   ]
  },
  {
   "cell_type": "code",
   "execution_count": 15,
   "id": "43987f2d-eaa1-4035-b1e2-8731fefe7385",
   "metadata": {
    "tags": []
   },
   "outputs": [
    {
     "name": "stdout",
     "output_type": "stream",
     "text": [
      "p1.x = 5\n"
     ]
    },
    {
     "data": {
      "text/plain": [
       "()"
      ]
     },
     "execution_count": 15,
     "metadata": {},
     "output_type": "execute_result"
    }
   ],
   "source": [
    "struct Point<T> {\n",
    "    x: T,\n",
    "    y: T,\n",
    "}\n",
    "\n",
    "impl<T> Point<T> {\n",
    "    fn x(&self) -> &T {\n",
    "        &self.x\n",
    "    }\n",
    "}\n",
    "\n",
    "impl Point<f32> {\n",
    "    fn distance_from_origin(&self) -> f32 {\n",
    "        (self.x.powi(2) + self.y.powi(2)).sqrt()\n",
    "    }\n",
    "}\n",
    "\n",
    "\n",
    "{\n",
    "    let p1 = Point { x: 5, y: 10 };\n",
    "    let p2 = Point { x:1.0, y:2.0 };\n",
    "    println!(\"p1.x = {}\", p1.x());\n",
    "    p2.distance_from_origin();\n",
    "}"
   ]
  },
  {
   "cell_type": "code",
   "execution_count": null,
   "id": "da0c3bf8-fcfd-4b7d-b60d-2f6768554ca7",
   "metadata": {},
   "outputs": [],
   "source": [
    "struct Point<X1, Y1> {\n",
    "    x: X1,\n",
    "    y: Y1,\n",
    "}\n",
    "\n",
    "impl<X1, Y1> Point<X1, Y1> {\n",
    "    fn mixup<X2, Y2>(self, other: Point<X2, Y2>) -> Point<X1, Y2> {\n",
    "        Point {\n",
    "            x: self.x,\n",
    "            y: other.y,\n",
    "        }\n",
    "    }\n",
    "}\n",
    "\n",
    "fn main() {\n",
    "    let p1 = Point { x: 5, y: 10.4 };\n",
    "    let p2 = Point { x: \"Hello\", y: 'c' };\n",
    "\n",
    "    let p3 = p1.mixup(p2);\n",
    "\n",
    "    println!(\"p3.x = {}, p3.y = {}\", p3.x, p3.y);\n",
    "}"
   ]
  }
 ],
 "metadata": {
  "kernelspec": {
   "display_name": "Rust",
   "language": "rust",
   "name": "rust"
  },
  "language_info": {
   "codemirror_mode": "rust",
   "file_extension": ".rs",
   "mimetype": "text/rust",
   "name": "Rust",
   "pygment_lexer": "rust",
   "version": ""
  }
 },
 "nbformat": 4,
 "nbformat_minor": 5
}

{
 "cells": [
  {
   "cell_type": "markdown",
   "id": "6492744c-f9af-48c0-8ec4-a6e83b64c2ae",
   "metadata": {},
   "source": [
    "# Generic Data Types"
   ]
  },
  {
   "cell_type": "code",
   "execution_count": 5,
   "id": "4f9daead-b011-4e8c-9982-a21e03c6f7d6",
   "metadata": {
    "tags": []
   },
   "outputs": [
    {
     "name": "stdout",
     "output_type": "stream",
     "text": [
      "The largest number is 100\n",
      "The largest char is y\n"
     ]
    },
    {
     "data": {
      "text/plain": [
       "()"
      ]
     },
     "execution_count": 5,
     "metadata": {},
     "output_type": "execute_result"
    }
   ],
   "source": [
    "fn largest_i32(list: &[i32]) -> &i32 {\n",
    "    let mut largest = &list[0];\n",
    "\n",
    "    for item in list {\n",
    "        if item > largest {\n",
    "            largest = item;\n",
    "        }\n",
    "    }\n",
    "\n",
    "    largest\n",
    "}\n",
    "\n",
    "fn largest_char(list: &[char]) -> &char {\n",
    "    let mut largest = &list[0];\n",
    "\n",
    "    for item in list {\n",
    "        if item > largest {\n",
    "            largest = item;\n",
    "        }\n",
    "    }\n",
    "\n",
    "    largest\n",
    "}\n",
    "\n",
    "{\n",
    "    let number_list = vec![34, 50, 25, 100, 65];\n",
    "\n",
    "    let result = largest_i32(&number_list);\n",
    "    println!(\"The largest number is {}\", result);\n",
    "\n",
    "    let char_list = vec!['y', 'm', 'a', 'q'];\n",
    "\n",
    "    let result = largest_char(&char_list);\n",
    "    println!(\"The largest char is {}\", result);\n",
    "}"
   ]
  },
  {
   "cell_type": "code",
   "execution_count": 7,
   "id": "affb085b-112d-4a0a-be65-9d11199171f1",
   "metadata": {
    "tags": []
   },
   "outputs": [
    {
     "name": "stdout",
     "output_type": "stream",
     "text": [
      "The largest number is 100\n",
      "The largest char is y\n"
     ]
    },
    {
     "data": {
      "text/plain": [
       "()"
      ]
     },
     "execution_count": 7,
     "metadata": {},
     "output_type": "execute_result"
    }
   ],
   "source": [
    "fn largest<T: std::cmp::PartialOrd>(list: &[T]) -> &T {\n",
    "    let mut largest = &list[0];\n",
    "\n",
    "    for item in list {\n",
    "        if item > largest {\n",
    "            largest = item;\n",
    "        }\n",
    "    }\n",
    "\n",
    "    largest\n",
    "}\n",
    "\n",
    "{\n",
    "    let number_list = vec![34, 50, 25, 100, 65];\n",
    "\n",
    "    let result = largest(&number_list);\n",
    "    println!(\"The largest number is {}\", result);\n",
    "\n",
    "    let char_list = vec!['y', 'm', 'a', 'q'];\n",
    "\n",
    "    let result = largest(&char_list);\n",
    "    println!(\"The largest char is {}\", result);\n",
    "}"
   ]
  },
  {
   "cell_type": "code",
   "execution_count": 10,
   "id": "7b8af952-45c1-4ac0-a4aa-9e7ada511c3c",
   "metadata": {
    "tags": []
   },
   "outputs": [
    {
     "ename": "Error",
     "evalue": "mismatched types",
     "output_type": "error",
     "traceback": [
      "\u001b[31m[E0308] Error:\u001b[0m mismatched types",
      "   \u001b[38;5;246m╭\u001b[0m\u001b[38;5;246m─\u001b[0m\u001b[38;5;246m[\u001b[0mcommand_10:1:1\u001b[38;5;246m]\u001b[0m",
      "   \u001b[38;5;246m│\u001b[0m",
      " \u001b[38;5;246m9 │\u001b[0m \u001b[38;5;249m \u001b[0m\u001b[38;5;249m \u001b[0m\u001b[38;5;249m \u001b[0m\u001b[38;5;249m \u001b[0m\u001b[38;5;249ml\u001b[0m\u001b[38;5;249me\u001b[0m\u001b[38;5;249mt\u001b[0m\u001b[38;5;249m \u001b[0m\u001b[38;5;249mw\u001b[0m\u001b[38;5;249mo\u001b[0m\u001b[38;5;249mn\u001b[0m\u001b[38;5;249mt\u001b[0m\u001b[38;5;249m_\u001b[0m\u001b[38;5;249mw\u001b[0m\u001b[38;5;249mo\u001b[0m\u001b[38;5;249mr\u001b[0m\u001b[38;5;249mk\u001b[0m\u001b[38;5;249m \u001b[0m\u001b[38;5;249m=\u001b[0m\u001b[38;5;249m \u001b[0m\u001b[38;5;249mP\u001b[0m\u001b[38;5;249mo\u001b[0m\u001b[38;5;249mi\u001b[0m\u001b[38;5;249mn\u001b[0m\u001b[38;5;249mt\u001b[0m\u001b[38;5;249m \u001b[0m\u001b[38;5;249m{\u001b[0m\u001b[38;5;249m \u001b[0m\u001b[38;5;249mx\u001b[0m\u001b[38;5;249m:\u001b[0m\u001b[38;5;249m \u001b[0m\u001b[38;5;249m5\u001b[0m\u001b[38;5;249m,\u001b[0m\u001b[38;5;249m \u001b[0m\u001b[38;5;249my\u001b[0m\u001b[38;5;249m:\u001b[0m\u001b[38;5;249m \u001b[0m\u001b[38;5;54m4\u001b[0m\u001b[38;5;54m.\u001b[0m\u001b[38;5;54m0\u001b[0m\u001b[38;5;249m \u001b[0m\u001b[38;5;249m}\u001b[0m\u001b[38;5;249m;\u001b[0m",
      " \u001b[38;5;240m  │\u001b[0m                                      \u001b[38;5;54m─\u001b[0m\u001b[38;5;54m┬\u001b[0m\u001b[38;5;54m─\u001b[0m  ",
      " \u001b[38;5;240m  │\u001b[0m                                       \u001b[38;5;54m╰\u001b[0m\u001b[38;5;54m─\u001b[0m\u001b[38;5;54m─\u001b[0m\u001b[38;5;54m─\u001b[0m expected integer, found floating-point number",
      "\u001b[38;5;246m───╯\u001b[0m"
     ]
    }
   ],
   "source": [
    "struct Point<T> {\n",
    "    x: T,\n",
    "    y: T,\n",
    "}\n",
    "\n",
    "{\n",
    "    let integer = Point { x: 5, y: 10 };\n",
    "    let float = Point { x: 1.0, y: 4.0 };\n",
    "    let wont_work = Point { x: 5, y: 4.0 };\n",
    "}"
   ]
  },
  {
   "cell_type": "code",
   "execution_count": 15,
   "id": "43987f2d-eaa1-4035-b1e2-8731fefe7385",
   "metadata": {
    "tags": []
   },
   "outputs": [
    {
     "name": "stdout",
     "output_type": "stream",
     "text": [
      "p1.x = 5\n"
     ]
    },
    {
     "data": {
      "text/plain": [
       "()"
      ]
     },
     "execution_count": 15,
     "metadata": {},
     "output_type": "execute_result"
    }
   ],
   "source": [
    "struct Point<T> {\n",
    "    x: T,\n",
    "    y: T,\n",
    "}\n",
    "\n",
    "impl<T> Point<T> {\n",
    "    fn x(&self) -> &T {\n",
    "        &self.x\n",
    "    }\n",
    "}\n",
    "\n",
    "impl Point<f32> {\n",
    "    fn distance_from_origin(&self) -> f32 {\n",
    "        (self.x.powi(2) + self.y.powi(2)).sqrt()\n",
    "    }\n",
    "}\n",
    "\n",
    "\n",
    "{\n",
    "    let p1 = Point { x: 5, y: 10 };\n",
    "    let p2 = Point { x:1.0, y:2.0 };\n",
    "    println!(\"p1.x = {}\", p1.x());\n",
    "    p2.distance_from_origin();\n",
    "}"
   ]
  },
  {
   "cell_type": "code",
   "execution_count": null,
   "id": "da0c3bf8-fcfd-4b7d-b60d-2f6768554ca7",
   "metadata": {},
   "outputs": [],
   "source": [
    "struct Point<X1, Y1> {\n",
    "    x: X1,\n",
    "    y: Y1,\n",
    "}\n",
    "\n",
    "impl<X1, Y1> Point<X1, Y1> {\n",
    "    fn mixup<X2, Y2>(self, other: Point<X2, Y2>) -> Point<X1, Y2> {\n",
    "        Point {\n",
    "            x: self.x,\n",
    "            y: other.y,\n",
    "        }\n",
    "    }\n",
    "}\n",
    "\n",
    "{\n",
    "    let p1 = Point { x: 5, y: 10.4 };\n",
    "    let p2 = Point { x: \"Hello\", y: 'c' };\n",
    "\n",
    "    let p3 = p1.mixup(p2);\n",
    "\n",
    "    println!(\"p3.x = {}, p3.y = {}\", p3.x, p3.y);\n",
    "}"
   ]
  },
  {
   "cell_type": "markdown",
   "id": "fb094b7b-303d-4907-a3a7-82913f9e02f2",
   "metadata": {},
   "source": [
    "# Traits: Defining Shared Behavior"
   ]
  },
  {
   "cell_type": "code",
   "execution_count": 4,
   "id": "2059f33a-6c4e-4d29-a951-9f91eae55ae4",
   "metadata": {},
   "outputs": [],
   "source": [
    "mod aggregator {\n",
    "    pub trait Summary {\n",
    "        fn summarize(&self) -> String;\n",
    "    }\n",
    "\n",
    "    pub struct NewsArticle {\n",
    "        pub headline: String,\n",
    "        pub location: String,\n",
    "        pub author: String,\n",
    "        pub content: String,\n",
    "    }\n",
    "    \n",
    "    impl Summary for NewsArticle {\n",
    "        fn summarize(&self) -> String {\n",
    "            format!(\"{}, by {} ({})\", self.headline, self.author, self.location)\n",
    "        }\n",
    "    }\n",
    "    \n",
    "    pub struct Tweet {\n",
    "        pub username: String,\n",
    "        pub content: String,\n",
    "        pub reply: bool,\n",
    "        pub retweet: bool,\n",
    "    }\n",
    "    \n",
    "    impl Summary for Tweet {\n",
    "        fn summarize(&self) -> String {\n",
    "            format!(\"{}: {}\", self.username, self.content)\n",
    "        }\n",
    "    }\n",
    "}"
   ]
  },
  {
   "cell_type": "code",
   "execution_count": 7,
   "id": "2636fc39-01cb-4ba3-b4b8-4704cb1523ee",
   "metadata": {},
   "outputs": [
    {
     "name": "stdout",
     "output_type": "stream",
     "text": [
      "1 new tweet: horse_ebooks: of course, as you probably already know, people\n"
     ]
    },
    {
     "data": {
      "text/plain": [
       "()"
      ]
     },
     "execution_count": 7,
     "metadata": {},
     "output_type": "execute_result"
    }
   ],
   "source": [
    "use aggregator::{Tweet, Summary};\n",
    "\n",
    "{\n",
    "    let tweet = Tweet {\n",
    "        username: String::from(\"horse_ebooks\"),\n",
    "        content: String::from(\n",
    "            \"of course, as you probably already know, people\",\n",
    "        ),\n",
    "        reply: false,\n",
    "        retweet: false,\n",
    "    };\n",
    "\n",
    "    println!(\"1 new tweet: {}\", tweet.summarize());\n",
    "}"
   ]
  },
  {
   "cell_type": "code",
   "execution_count": 9,
   "id": "b8892670-8687-47b7-97d2-6a2e56febd0f",
   "metadata": {},
   "outputs": [
    {
     "name": "stdout",
     "output_type": "stream",
     "text": [
      "Breaking news! horse_ebooks: of course, as you probably already know, people\n"
     ]
    },
    {
     "data": {
      "text/plain": [
       "()"
      ]
     },
     "execution_count": 9,
     "metadata": {},
     "output_type": "execute_result"
    }
   ],
   "source": [
    "pub fn notify(item: &impl Summary) {\n",
    "    println!(\"Breaking news! {}\", item.summarize());\n",
    "}\n",
    "\n",
    "{\n",
    "    let tweet = Tweet {\n",
    "        username: String::from(\"horse_ebooks\"),\n",
    "        content: String::from(\n",
    "            \"of course, as you probably already know, people\",\n",
    "        ),\n",
    "        reply: false,\n",
    "        retweet: false,\n",
    "    };\n",
    "\n",
    "    notify(&tweet);\n",
    "}"
   ]
  },
  {
   "cell_type": "markdown",
   "id": "6db3f515-2180-4c03-9730-debb7332e1e8",
   "metadata": {},
   "source": [
    "# Lifetimes"
   ]
  },
  {
   "cell_type": "code",
   "execution_count": 2,
   "id": "0e7581f3-ec2b-454b-8cc1-12ef92269fab",
   "metadata": {},
   "outputs": [],
   "source": [
    "fn longest<'a>(x: &'a str, y: &'a str) -> &'a str {\n",
    "    if x.len() > y.len() {\n",
    "        x\n",
    "    } else {\n",
    "        y\n",
    "    }\n",
    "}"
   ]
  },
  {
   "cell_type": "code",
   "execution_count": 3,
   "id": "f59adbf8-2a5c-46fb-8523-81959289c980",
   "metadata": {},
   "outputs": [
    {
     "name": "stdout",
     "output_type": "stream",
     "text": [
      "The longest string is long string is long\n"
     ]
    },
    {
     "data": {
      "text/plain": [
       "()"
      ]
     },
     "execution_count": 3,
     "metadata": {},
     "output_type": "execute_result"
    }
   ],
   "source": [
    "{\n",
    "    let string1 = String::from(\"long string is long\");\n",
    "\n",
    "    {\n",
    "        let string2 = String::from(\"xyz\");\n",
    "        let result = longest(string1.as_str(), string2.as_str());\n",
    "        println!(\"The longest string is {}\", result);\n",
    "    }\n",
    "}\n"
   ]
  },
  {
   "cell_type": "code",
   "execution_count": 4,
   "id": "1788f035-84c4-4a3b-88f1-a8b523bb4211",
   "metadata": {},
   "outputs": [
    {
     "ename": "Error",
     "evalue": "`string2` does not live long enough",
     "output_type": "error",
     "traceback": [
      "\u001b[31m[E0597] Error:\u001b[0m `string2` does not live long enough",
      "   \u001b[38;5;246m╭\u001b[0m\u001b[38;5;246m─\u001b[0m\u001b[38;5;246m[\u001b[0mcommand_4:1:1\u001b[38;5;246m]\u001b[0m",
      "   \u001b[38;5;246m│\u001b[0m",
      " \u001b[38;5;246m5 │\u001b[0m \u001b[38;5;249m \u001b[0m\u001b[38;5;249m \u001b[0m\u001b[38;5;249m \u001b[0m\u001b[38;5;249m \u001b[0m\u001b[38;5;249m \u001b[0m\u001b[38;5;249m \u001b[0m\u001b[38;5;249m \u001b[0m\u001b[38;5;249m \u001b[0m\u001b[38;5;249ml\u001b[0m\u001b[38;5;249me\u001b[0m\u001b[38;5;249mt\u001b[0m\u001b[38;5;249m \u001b[0m\u001b[38;5;68ms\u001b[0m\u001b[38;5;68mt\u001b[0m\u001b[38;5;68mr\u001b[0m\u001b[38;5;68mi\u001b[0m\u001b[38;5;68mn\u001b[0m\u001b[38;5;68mg\u001b[0m\u001b[38;5;68m2\u001b[0m\u001b[38;5;249m \u001b[0m\u001b[38;5;249m=\u001b[0m\u001b[38;5;249m \u001b[0m\u001b[38;5;249mS\u001b[0m\u001b[38;5;249mt\u001b[0m\u001b[38;5;249mr\u001b[0m\u001b[38;5;249mi\u001b[0m\u001b[38;5;249mn\u001b[0m\u001b[38;5;249mg\u001b[0m\u001b[38;5;249m:\u001b[0m\u001b[38;5;249m:\u001b[0m\u001b[38;5;249mf\u001b[0m\u001b[38;5;249mr\u001b[0m\u001b[38;5;249mo\u001b[0m\u001b[38;5;249mm\u001b[0m\u001b[38;5;249m(\u001b[0m\u001b[38;5;249m\"\u001b[0m\u001b[38;5;249mx\u001b[0m\u001b[38;5;249my\u001b[0m\u001b[38;5;249mz\u001b[0m\u001b[38;5;249m\"\u001b[0m\u001b[38;5;249m)\u001b[0m\u001b[38;5;249m;\u001b[0m",
      " \u001b[38;5;240m  │\u001b[0m             \u001b[38;5;68m─\u001b[0m\u001b[38;5;68m─\u001b[0m\u001b[38;5;68m─\u001b[0m\u001b[38;5;68m┬\u001b[0m\u001b[38;5;68m─\u001b[0m\u001b[38;5;68m─\u001b[0m\u001b[38;5;68m─\u001b[0m  ",
      " \u001b[38;5;240m  │\u001b[0m                \u001b[38;5;68m╰\u001b[0m\u001b[38;5;68m─\u001b[0m\u001b[38;5;68m─\u001b[0m\u001b[38;5;68m─\u001b[0m\u001b[38;5;68m─\u001b[0m\u001b[38;5;68m─\u001b[0m binding `string2` declared here",
      " \u001b[38;5;246m6 │\u001b[0m \u001b[38;5;249m \u001b[0m\u001b[38;5;249m \u001b[0m\u001b[38;5;249m \u001b[0m\u001b[38;5;249m \u001b[0m\u001b[38;5;249m \u001b[0m\u001b[38;5;249m \u001b[0m\u001b[38;5;249m \u001b[0m\u001b[38;5;249m \u001b[0m\u001b[38;5;249mr\u001b[0m\u001b[38;5;249me\u001b[0m\u001b[38;5;249ms\u001b[0m\u001b[38;5;249mu\u001b[0m\u001b[38;5;249ml\u001b[0m\u001b[38;5;249mt\u001b[0m\u001b[38;5;249m \u001b[0m\u001b[38;5;249m=\u001b[0m\u001b[38;5;249m \u001b[0m\u001b[38;5;249ml\u001b[0m\u001b[38;5;249mo\u001b[0m\u001b[38;5;249mn\u001b[0m\u001b[38;5;249mg\u001b[0m\u001b[38;5;249me\u001b[0m\u001b[38;5;249ms\u001b[0m\u001b[38;5;249mt\u001b[0m\u001b[38;5;249m(\u001b[0m\u001b[38;5;249ms\u001b[0m\u001b[38;5;249mt\u001b[0m\u001b[38;5;249mr\u001b[0m\u001b[38;5;249mi\u001b[0m\u001b[38;5;249mn\u001b[0m\u001b[38;5;249mg\u001b[0m\u001b[38;5;249m1\u001b[0m\u001b[38;5;249m.\u001b[0m\u001b[38;5;249ma\u001b[0m\u001b[38;5;249ms\u001b[0m\u001b[38;5;249m_\u001b[0m\u001b[38;5;249ms\u001b[0m\u001b[38;5;249mt\u001b[0m\u001b[38;5;249mr\u001b[0m\u001b[38;5;249m(\u001b[0m\u001b[38;5;249m)\u001b[0m\u001b[38;5;249m,\u001b[0m\u001b[38;5;249m \u001b[0m\u001b[38;5;54ms\u001b[0m\u001b[38;5;54mt\u001b[0m\u001b[38;5;54mr\u001b[0m\u001b[38;5;54mi\u001b[0m\u001b[38;5;54mn\u001b[0m\u001b[38;5;54mg\u001b[0m\u001b[38;5;54m2\u001b[0m\u001b[38;5;249m.\u001b[0m\u001b[38;5;249ma\u001b[0m\u001b[38;5;249ms\u001b[0m\u001b[38;5;249m_\u001b[0m\u001b[38;5;249ms\u001b[0m\u001b[38;5;249mt\u001b[0m\u001b[38;5;249mr\u001b[0m\u001b[38;5;249m(\u001b[0m\u001b[38;5;249m)\u001b[0m\u001b[38;5;249m)\u001b[0m\u001b[38;5;249m;\u001b[0m",
      " \u001b[38;5;240m  │\u001b[0m                                            \u001b[38;5;54m─\u001b[0m\u001b[38;5;54m─\u001b[0m\u001b[38;5;54m─\u001b[0m\u001b[38;5;54m┬\u001b[0m\u001b[38;5;54m─\u001b[0m\u001b[38;5;54m─\u001b[0m\u001b[38;5;54m─\u001b[0m  ",
      " \u001b[38;5;240m  │\u001b[0m                                               \u001b[38;5;54m╰\u001b[0m\u001b[38;5;54m─\u001b[0m\u001b[38;5;54m─\u001b[0m\u001b[38;5;54m─\u001b[0m\u001b[38;5;54m─\u001b[0m\u001b[38;5;54m─\u001b[0m borrowed value does not live long enough",
      " \u001b[38;5;246m7 │\u001b[0m \u001b[38;5;249m \u001b[0m\u001b[38;5;249m \u001b[0m\u001b[38;5;249m \u001b[0m\u001b[38;5;249m \u001b[0m\u001b[38;5;100m}\u001b[0m",
      " \u001b[38;5;240m  │\u001b[0m     \u001b[38;5;100m┬\u001b[0m  ",
      " \u001b[38;5;240m  │\u001b[0m     \u001b[38;5;100m╰\u001b[0m\u001b[38;5;100m─\u001b[0m\u001b[38;5;100m─\u001b[0m `string2` dropped here while still borrowed",
      " \u001b[38;5;246m8 │\u001b[0m \u001b[38;5;249m \u001b[0m\u001b[38;5;249m \u001b[0m\u001b[38;5;249m \u001b[0m\u001b[38;5;249m \u001b[0m\u001b[38;5;249mp\u001b[0m\u001b[38;5;249mr\u001b[0m\u001b[38;5;249mi\u001b[0m\u001b[38;5;249mn\u001b[0m\u001b[38;5;249mt\u001b[0m\u001b[38;5;249ml\u001b[0m\u001b[38;5;249mn\u001b[0m\u001b[38;5;249m!\u001b[0m\u001b[38;5;249m(\u001b[0m\u001b[38;5;249m\"\u001b[0m\u001b[38;5;249mT\u001b[0m\u001b[38;5;249mh\u001b[0m\u001b[38;5;249me\u001b[0m\u001b[38;5;249m \u001b[0m\u001b[38;5;249ml\u001b[0m\u001b[38;5;249mo\u001b[0m\u001b[38;5;249mn\u001b[0m\u001b[38;5;249mg\u001b[0m\u001b[38;5;249me\u001b[0m\u001b[38;5;249ms\u001b[0m\u001b[38;5;249mt\u001b[0m\u001b[38;5;249m \u001b[0m\u001b[38;5;249ms\u001b[0m\u001b[38;5;249mt\u001b[0m\u001b[38;5;249mr\u001b[0m\u001b[38;5;249mi\u001b[0m\u001b[38;5;249mn\u001b[0m\u001b[38;5;249mg\u001b[0m\u001b[38;5;249m \u001b[0m\u001b[38;5;249mi\u001b[0m\u001b[38;5;249ms\u001b[0m\u001b[38;5;249m \u001b[0m\u001b[38;5;249m{\u001b[0m\u001b[38;5;249m}\u001b[0m\u001b[38;5;249m\"\u001b[0m\u001b[38;5;249m,\u001b[0m\u001b[38;5;249m \u001b[0m\u001b[38;5;37mr\u001b[0m\u001b[38;5;37me\u001b[0m\u001b[38;5;37ms\u001b[0m\u001b[38;5;37mu\u001b[0m\u001b[38;5;37ml\u001b[0m\u001b[38;5;37mt\u001b[0m\u001b[38;5;249m)\u001b[0m\u001b[38;5;249m;\u001b[0m",
      " \u001b[38;5;240m  │\u001b[0m                                          \u001b[38;5;37m─\u001b[0m\u001b[38;5;37m─\u001b[0m\u001b[38;5;37m─\u001b[0m\u001b[38;5;37m┬\u001b[0m\u001b[38;5;37m─\u001b[0m\u001b[38;5;37m─\u001b[0m  ",
      " \u001b[38;5;240m  │\u001b[0m                                             \u001b[38;5;37m╰\u001b[0m\u001b[38;5;37m─\u001b[0m\u001b[38;5;37m─\u001b[0m\u001b[38;5;37m─\u001b[0m\u001b[38;5;37m─\u001b[0m borrow later used here",
      "\u001b[38;5;246m───╯\u001b[0m"
     ]
    }
   ],
   "source": [
    "{\n",
    "    let string1 = String::from(\"long string is long\");\n",
    "    let result;\n",
    "    {\n",
    "        let string2 = String::from(\"xyz\");\n",
    "        result = longest(string1.as_str(), string2.as_str());\n",
    "    }\n",
    "    println!(\"The longest string is {}\", result);\n",
    "}\n"
   ]
  },
  {
   "cell_type": "code",
   "execution_count": null,
   "id": "b508c982-73f2-46eb-9ff1-d187ca3ac0a8",
   "metadata": {},
   "outputs": [],
   "source": []
  }
 ],
 "metadata": {
  "kernelspec": {
   "display_name": "Rust",
   "language": "rust",
   "name": "rust"
  },
  "language_info": {
   "codemirror_mode": "rust",
   "file_extension": ".rs",
   "mimetype": "text/rust",
   "name": "Rust",
   "pygment_lexer": "rust",
   "version": ""
  }
 },
 "nbformat": 4,
 "nbformat_minor": 5
}

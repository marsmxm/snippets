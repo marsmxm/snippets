{
 "cells": [
  {
   "cell_type": "markdown",
   "id": "397c3a4e-7ddc-42fe-b52a-28315e946058",
   "metadata": {},
   "source": [
    "# All the Places Patterns Can Be Used"
   ]
  },
  {
   "cell_type": "code",
   "execution_count": 4,
   "id": "e2cc4331-91e1-48f2-a1c9-a2d76fecc717",
   "metadata": {},
   "outputs": [
    {
     "data": {
      "text/plain": [
       "Some(3)"
      ]
     },
     "execution_count": 4,
     "metadata": {},
     "output_type": "execute_result"
    }
   ],
   "source": [
    "{\n",
    "    let x = Some(2);\n",
    "    \n",
    "    match x {\n",
    "        None => None,\n",
    "        Some(i) => Some(i + 1),\n",
    "    }\n",
    "}"
   ]
  },
  {
   "cell_type": "code",
   "execution_count": 2,
   "id": "cfe1f976-6f36-4f5a-8065-8370a0079681",
   "metadata": {},
   "outputs": [
    {
     "name": "stdout",
     "output_type": "stream",
     "text": [
      "Using purple as the background color\n"
     ]
    },
    {
     "data": {
      "text/plain": [
       "()"
      ]
     },
     "execution_count": 2,
     "metadata": {},
     "output_type": "execute_result"
    }
   ],
   "source": [
    "{\n",
    "    let favorite_color: Option<&str> = None;\n",
    "    let is_tuesday = false;\n",
    "    let age: Result<u8, _> = \"34\".parse();\n",
    "\n",
    "    if let Some(color) = favorite_color {\n",
    "        println!(\"Using your favorite color, {color}, as the background\");\n",
    "    } else if is_tuesday {\n",
    "        println!(\"Tuesday is green day!\");\n",
    "    } else if let Ok(age) = age {\n",
    "        if age > 30 {\n",
    "            println!(\"Using purple as the background color\");\n",
    "        } else {\n",
    "            println!(\"Using orange as the background color\");\n",
    "        }\n",
    "    } else {\n",
    "        println!(\"Using blue as the background color\");\n",
    "    }\n",
    "}"
   ]
  },
  {
   "cell_type": "code",
   "execution_count": 5,
   "id": "4036dd13-956f-47bd-ab69-7961bc2120cf",
   "metadata": {},
   "outputs": [
    {
     "name": "stdout",
     "output_type": "stream",
     "text": [
      "3\n",
      "2\n",
      "1\n"
     ]
    },
    {
     "data": {
      "text/plain": [
       "()"
      ]
     },
     "execution_count": 5,
     "metadata": {},
     "output_type": "execute_result"
    }
   ],
   "source": [
    "{\n",
    "    let mut stack = Vec::new();\n",
    "\n",
    "    stack.push(1);\n",
    "    stack.push(2);\n",
    "    stack.push(3);\n",
    "\n",
    "    while let Some(top) = stack.pop() {\n",
    "        println!(\"{}\", top);\n",
    "    }\n",
    "\n",
    "}"
   ]
  },
  {
   "cell_type": "code",
   "execution_count": 6,
   "id": "44d9be8f-2c7a-4a42-b9a0-b58a9b000109",
   "metadata": {},
   "outputs": [
    {
     "name": "stdout",
     "output_type": "stream",
     "text": [
      "a is at index 0\n",
      "b is at index 1\n",
      "c is at index 2\n"
     ]
    },
    {
     "data": {
      "text/plain": [
       "()"
      ]
     },
     "execution_count": 6,
     "metadata": {},
     "output_type": "execute_result"
    }
   ],
   "source": [
    "{\n",
    "        let v = vec!['a', 'b', 'c'];\n",
    "    \n",
    "        for (index, value) in v.iter().enumerate() {\n",
    "            println!(\"{} is at index {}\", value, index);\n",
    "        }\n",
    "\n",
    "}"
   ]
  },
  {
   "cell_type": "code",
   "execution_count": 7,
   "id": "20ec424a-72b8-49ac-bed4-6c1c10c90f98",
   "metadata": {},
   "outputs": [],
   "source": [
    "let (x, y, z) = (1, 2, 3);"
   ]
  },
  {
   "cell_type": "code",
   "execution_count": 8,
   "id": "39901b23-f0b8-4a11-a979-34340e829c12",
   "metadata": {},
   "outputs": [
    {
     "name": "stdout",
     "output_type": "stream",
     "text": [
      "Current location: (3, 5)\n"
     ]
    },
    {
     "data": {
      "text/plain": [
       "()"
      ]
     },
     "execution_count": 8,
     "metadata": {},
     "output_type": "execute_result"
    }
   ],
   "source": [
    "fn print_coordinates(&(x, y): &(i32, i32)) {\n",
    "    println!(\"Current location: ({}, {})\", x, y);\n",
    "}\n",
    "\n",
    "{\n",
    "    let point = (3, 5);\n",
    "    print_coordinates(&point);\n",
    "}"
   ]
  },
  {
   "cell_type": "code",
   "execution_count": null,
   "id": "c0edc721-0c4d-460a-b344-8cd8fb588777",
   "metadata": {},
   "outputs": [],
   "source": []
  }
 ],
 "metadata": {
  "kernelspec": {
   "display_name": "Rust",
   "language": "rust",
   "name": "rust"
  },
  "language_info": {
   "codemirror_mode": "rust",
   "file_extension": ".rs",
   "mimetype": "text/rust",
   "name": "Rust",
   "pygment_lexer": "rust",
   "version": ""
  }
 },
 "nbformat": 4,
 "nbformat_minor": 5
}

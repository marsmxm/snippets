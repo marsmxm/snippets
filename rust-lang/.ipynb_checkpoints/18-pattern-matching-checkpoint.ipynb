{
 "cells": [
  {
   "cell_type": "markdown",
   "id": "397c3a4e-7ddc-42fe-b52a-28315e946058",
   "metadata": {},
   "source": [
    "# All the Places Patterns Can Be Used"
   ]
  },
  {
   "cell_type": "code",
   "execution_count": 4,
   "id": "e2cc4331-91e1-48f2-a1c9-a2d76fecc717",
   "metadata": {},
   "outputs": [
    {
     "data": {
      "text/plain": [
       "Some(3)"
      ]
     },
     "execution_count": 4,
     "metadata": {},
     "output_type": "execute_result"
    }
   ],
   "source": [
    "{\n",
    "    let x = Some(2);\n",
    "    \n",
    "    match x {\n",
    "        None => None,\n",
    "        Some(i) => Some(i + 1),\n",
    "    }\n",
    "}"
   ]
  },
  {
   "cell_type": "code",
   "execution_count": 2,
   "id": "cfe1f976-6f36-4f5a-8065-8370a0079681",
   "metadata": {},
   "outputs": [
    {
     "name": "stdout",
     "output_type": "stream",
     "text": [
      "Using purple as the background color\n"
     ]
    },
    {
     "data": {
      "text/plain": [
       "()"
      ]
     },
     "execution_count": 2,
     "metadata": {},
     "output_type": "execute_result"
    }
   ],
   "source": [
    "{\n",
    "    let favorite_color: Option<&str> = None;\n",
    "    let is_tuesday = false;\n",
    "    let age: Result<u8, _> = \"34\".parse();\n",
    "\n",
    "    if let Some(color) = favorite_color {\n",
    "        println!(\"Using your favorite color, {color}, as the background\");\n",
    "    } else if is_tuesday {\n",
    "        println!(\"Tuesday is green day!\");\n",
    "    } else if let Ok(age) = age {\n",
    "        if age > 30 {\n",
    "            println!(\"Using purple as the background color\");\n",
    "        } else {\n",
    "            println!(\"Using orange as the background color\");\n",
    "        }\n",
    "    } else {\n",
    "        println!(\"Using blue as the background color\");\n",
    "    }\n",
    "}"
   ]
  },
  {
   "cell_type": "code",
   "execution_count": 5,
   "id": "4036dd13-956f-47bd-ab69-7961bc2120cf",
   "metadata": {},
   "outputs": [
    {
     "name": "stdout",
     "output_type": "stream",
     "text": [
      "3\n",
      "2\n",
      "1\n"
     ]
    },
    {
     "data": {
      "text/plain": [
       "()"
      ]
     },
     "execution_count": 5,
     "metadata": {},
     "output_type": "execute_result"
    }
   ],
   "source": [
    "{\n",
    "    let mut stack = Vec::new();\n",
    "\n",
    "    stack.push(1);\n",
    "    stack.push(2);\n",
    "    stack.push(3);\n",
    "\n",
    "    while let Some(top) = stack.pop() {\n",
    "        println!(\"{}\", top);\n",
    "    }\n",
    "\n",
    "}"
   ]
  },
  {
   "cell_type": "code",
   "execution_count": 6,
   "id": "44d9be8f-2c7a-4a42-b9a0-b58a9b000109",
   "metadata": {},
   "outputs": [
    {
     "name": "stdout",
     "output_type": "stream",
     "text": [
      "a is at index 0\n",
      "b is at index 1\n",
      "c is at index 2\n"
     ]
    },
    {
     "data": {
      "text/plain": [
       "()"
      ]
     },
     "execution_count": 6,
     "metadata": {},
     "output_type": "execute_result"
    }
   ],
   "source": [
    "{\n",
    "        let v = vec!['a', 'b', 'c'];\n",
    "    \n",
    "        for (index, value) in v.iter().enumerate() {\n",
    "            println!(\"{} is at index {}\", value, index);\n",
    "        }\n",
    "\n",
    "}"
   ]
  },
  {
   "cell_type": "code",
   "execution_count": 7,
   "id": "20ec424a-72b8-49ac-bed4-6c1c10c90f98",
   "metadata": {},
   "outputs": [],
   "source": [
    "let (x, y, z) = (1, 2, 3);"
   ]
  },
  {
   "cell_type": "code",
   "execution_count": 8,
   "id": "39901b23-f0b8-4a11-a979-34340e829c12",
   "metadata": {},
   "outputs": [
    {
     "name": "stdout",
     "output_type": "stream",
     "text": [
      "Current location: (3, 5)\n"
     ]
    },
    {
     "data": {
      "text/plain": [
       "()"
      ]
     },
     "execution_count": 8,
     "metadata": {},
     "output_type": "execute_result"
    }
   ],
   "source": [
    "fn print_coordinates(&(x, y): &(i32, i32)) {\n",
    "    println!(\"Current location: ({}, {})\", x, y);\n",
    "}\n",
    "\n",
    "{\n",
    "    let point = (3, 5);\n",
    "    print_coordinates(&point);\n",
    "}"
   ]
  },
  {
   "cell_type": "markdown",
   "id": "63951eba-fb50-49f9-b33c-5f7bc93cfb9f",
   "metadata": {},
   "source": [
    "# Syntax"
   ]
  },
  {
   "cell_type": "code",
   "execution_count": 9,
   "id": "3a8ca92a-baf4-47fe-8330-3b30267f5580",
   "metadata": {},
   "outputs": [
    {
     "name": "stdout",
     "output_type": "stream",
     "text": [
      "one or two\n"
     ]
    },
    {
     "data": {
      "text/plain": [
       "()"
      ]
     },
     "execution_count": 9,
     "metadata": {},
     "output_type": "execute_result"
    }
   ],
   "source": [
    "{\n",
    "    let x = 1;\n",
    "\n",
    "    match x {\n",
    "        1 | 2 => println!(\"one or two\"),\n",
    "        3 => println!(\"three\"),\n",
    "        _ => println!(\"anything\"),\n",
    "    }\n",
    "\n",
    "}"
   ]
  },
  {
   "cell_type": "code",
   "execution_count": 10,
   "id": "991c0cfd-5bcc-4f4f-a3e8-2249a9e152cb",
   "metadata": {},
   "outputs": [
    {
     "name": "stdout",
     "output_type": "stream",
     "text": [
      "one through five\n"
     ]
    },
    {
     "data": {
      "text/plain": [
       "()"
      ]
     },
     "execution_count": 10,
     "metadata": {},
     "output_type": "execute_result"
    }
   ],
   "source": [
    "{\n",
    "    let x = 5;\n",
    "\n",
    "    match x {\n",
    "        1..=5 => println!(\"one through five\"),\n",
    "        _ => println!(\"something else\"),\n",
    "    }\n",
    "\n",
    "}"
   ]
  },
  {
   "cell_type": "code",
   "execution_count": 11,
   "id": "519750a7-0681-4fe3-b93e-fcc9338b99f2",
   "metadata": {},
   "outputs": [
    {
     "name": "stdout",
     "output_type": "stream",
     "text": [
      "early ASCII letter\n"
     ]
    },
    {
     "data": {
      "text/plain": [
       "()"
      ]
     },
     "execution_count": 11,
     "metadata": {},
     "output_type": "execute_result"
    }
   ],
   "source": [
    "{\n",
    "    let x = 'c';\n",
    "\n",
    "    match x {\n",
    "        'a'..='j' => println!(\"early ASCII letter\"),\n",
    "        'k'..='z' => println!(\"late ASCII letter\"),\n",
    "        _ => println!(\"something else\"),\n",
    "    }\n",
    "\n",
    "}"
   ]
  },
  {
   "cell_type": "code",
   "execution_count": 12,
   "id": "d7f70f57-7c64-4abe-ae34-60f53f139156",
   "metadata": {},
   "outputs": [
    {
     "data": {
      "text/plain": [
       "()"
      ]
     },
     "execution_count": 12,
     "metadata": {},
     "output_type": "execute_result"
    }
   ],
   "source": [
    "struct Point {\n",
    "    x: i32,\n",
    "    y: i32,\n",
    "}\n",
    "\n",
    "{\n",
    "    let p = Point { x: 0, y: 7 };\n",
    "\n",
    "    let Point { x: a, y: b } = p;\n",
    "    assert_eq!(0, a);\n",
    "    assert_eq!(7, b);\n",
    "}"
   ]
  },
  {
   "cell_type": "code",
   "execution_count": 13,
   "id": "706f34b0-b86d-4016-8298-a8368cba049e",
   "metadata": {},
   "outputs": [
    {
     "data": {
      "text/plain": [
       "()"
      ]
     },
     "execution_count": 13,
     "metadata": {},
     "output_type": "execute_result"
    }
   ],
   "source": [
    "{\n",
    "    let p = Point { x: 0, y: 7 };\n",
    "\n",
    "    let Point { x, y } = p;\n",
    "    assert_eq!(0, x);\n",
    "    assert_eq!(7, y);\n",
    "}"
   ]
  },
  {
   "cell_type": "code",
   "execution_count": 14,
   "id": "0f569972-9a7b-4eab-83c4-e92ed693fadd",
   "metadata": {},
   "outputs": [
    {
     "name": "stdout",
     "output_type": "stream",
     "text": [
      "On the y axis at 7\n"
     ]
    },
    {
     "data": {
      "text/plain": [
       "()"
      ]
     },
     "execution_count": 14,
     "metadata": {},
     "output_type": "execute_result"
    }
   ],
   "source": [
    "{\n",
    "    let p = Point { x: 0, y: 7 };\n",
    "\n",
    "    match p {\n",
    "        Point { x, y: 0 } => println!(\"On the x axis at {x}\"),\n",
    "        Point { x: 0, y } => println!(\"On the y axis at {y}\"),\n",
    "        Point { x, y } => {\n",
    "            println!(\"On neither axis: ({x}, {y})\");\n",
    "        }\n",
    "    }\n",
    "}"
   ]
  },
  {
   "cell_type": "code",
   "execution_count": 15,
   "id": "630a5015-201e-4ace-91a2-ada0f32165b1",
   "metadata": {},
   "outputs": [
    {
     "name": "stdout",
     "output_type": "stream",
     "text": [
      "Change the color to red 0, green 160, and blue 255\n"
     ]
    },
    {
     "data": {
      "text/plain": [
       "()"
      ]
     },
     "execution_count": 15,
     "metadata": {},
     "output_type": "execute_result"
    }
   ],
   "source": [
    "enum Message {\n",
    "    Quit,\n",
    "    Move { x: i32, y: i32 },\n",
    "    Write(String),\n",
    "    ChangeColor(i32, i32, i32),\n",
    "}\n",
    "\n",
    "{\n",
    "    let msg = Message::ChangeColor(0, 160, 255);\n",
    "\n",
    "    match msg {\n",
    "        Message::Quit => {\n",
    "            println!(\"The Quit variant has no data to destructure.\");\n",
    "        }\n",
    "        Message::Move { x, y } => {\n",
    "            println!(\"Move in the x direction {x} and in the y direction {y}\");\n",
    "        }\n",
    "        Message::Write(text) => {\n",
    "            println!(\"Text message: {text}\");\n",
    "        }\n",
    "        Message::ChangeColor(r, g, b) => {\n",
    "            println!(\"Change the color to red {r}, green {g}, and blue {b}\",)\n",
    "        }\n",
    "    }\n",
    "}"
   ]
  },
  {
   "cell_type": "code",
   "execution_count": 16,
   "id": "8ad9c639-32c1-4be3-8479-c4c0f7225790",
   "metadata": {},
   "outputs": [
    {
     "name": "stdout",
     "output_type": "stream",
     "text": [
      "Change color to hue 0, saturation 160, value 255\n"
     ]
    },
    {
     "data": {
      "text/plain": [
       "()"
      ]
     },
     "execution_count": 16,
     "metadata": {},
     "output_type": "execute_result"
    }
   ],
   "source": [
    "enum Color {\n",
    "    Rgb(i32, i32, i32),\n",
    "    Hsv(i32, i32, i32),\n",
    "}\n",
    "\n",
    "enum Message {\n",
    "    Quit,\n",
    "    Move { x: i32, y: i32 },\n",
    "    Write(String),\n",
    "    ChangeColor(Color),\n",
    "}\n",
    "\n",
    "{\n",
    "    let msg = Message::ChangeColor(Color::Hsv(0, 160, 255));\n",
    "\n",
    "    match msg {\n",
    "        Message::ChangeColor(Color::Rgb(r, g, b)) => {\n",
    "            println!(\"Change color to red {r}, green {g}, and blue {b}\");\n",
    "        }\n",
    "        Message::ChangeColor(Color::Hsv(h, s, v)) => {\n",
    "            println!(\"Change color to hue {h}, saturation {s}, value {v}\")\n",
    "        }\n",
    "        _ => (),\n",
    "    }\n",
    "}"
   ]
  },
  {
   "cell_type": "code",
   "execution_count": 17,
   "id": "be5671e3-6d1d-4509-961a-c44fb4378c5c",
   "metadata": {},
   "outputs": [
    {
     "name": "stdout",
     "output_type": "stream",
     "text": [
      "Some numbers: 2, 32\n"
     ]
    },
    {
     "data": {
      "text/plain": [
       "()"
      ]
     },
     "execution_count": 17,
     "metadata": {},
     "output_type": "execute_result"
    }
   ],
   "source": [
    "{\n",
    "    let numbers = (2, 4, 8, 16, 32);\n",
    "\n",
    "    match numbers {\n",
    "        (first, .., last) => {\n",
    "            println!(\"Some numbers: {first}, {last}\");\n",
    "        }\n",
    "    }\n",
    "}"
   ]
  },
  {
   "cell_type": "code",
   "execution_count": 18,
   "id": "6e84effe-cc18-47f0-ae43-7b5f3b38b010",
   "metadata": {},
   "outputs": [
    {
     "name": "stdout",
     "output_type": "stream",
     "text": [
      "Default case, x = Some(5)\n",
      "at the end: x = Some(5), y = 10\n"
     ]
    },
    {
     "data": {
      "text/plain": [
       "()"
      ]
     },
     "execution_count": 18,
     "metadata": {},
     "output_type": "execute_result"
    }
   ],
   "source": [
    "{\n",
    "    let x = Some(5);\n",
    "    let y = 10;\n",
    "\n",
    "    match x {\n",
    "        Some(50) => println!(\"Got 50\"),\n",
    "        Some(n) if n == y => println!(\"Matched, n = {n}\"),\n",
    "        _ => println!(\"Default case, x = {:?}\", x),\n",
    "    }\n",
    "\n",
    "    println!(\"at the end: x = {:?}, y = {y}\", x);\n",
    "}"
   ]
  },
  {
   "cell_type": "code",
   "execution_count": 19,
   "id": "8bae8ab2-9949-4db3-bb41-731f0a381776",
   "metadata": {},
   "outputs": [
    {
     "name": "stdout",
     "output_type": "stream",
     "text": [
      "Found an id in range: 5\n"
     ]
    },
    {
     "data": {
      "text/plain": [
       "()"
      ]
     },
     "execution_count": 19,
     "metadata": {},
     "output_type": "execute_result"
    }
   ],
   "source": [
    "enum Message {\n",
    "    Hello { id: i32 },\n",
    "}\n",
    "\n",
    "{\n",
    "    let msg = Message::Hello { id: 5 };\n",
    "\n",
    "    match msg {\n",
    "        Message::Hello {\n",
    "            id: id_variable @ 3..=7,\n",
    "        } => println!(\"Found an id in range: {}\", id_variable),\n",
    "        Message::Hello { id: 10..=12 } => {\n",
    "            println!(\"Found an id in another range\")\n",
    "        }\n",
    "        Message::Hello { id } => println!(\"Found some other id: {}\", id),\n",
    "    }\n",
    "}"
   ]
  },
  {
   "cell_type": "code",
   "execution_count": null,
   "id": "a03de80c-5d9c-4541-a848-83f21013cd5f",
   "metadata": {},
   "outputs": [],
   "source": []
  }
 ],
 "metadata": {
  "kernelspec": {
   "display_name": "Rust",
   "language": "rust",
   "name": "rust"
  },
  "language_info": {
   "codemirror_mode": "rust",
   "file_extension": ".rs",
   "mimetype": "text/rust",
   "name": "Rust",
   "pygment_lexer": "rust",
   "version": ""
  }
 },
 "nbformat": 4,
 "nbformat_minor": 5
}

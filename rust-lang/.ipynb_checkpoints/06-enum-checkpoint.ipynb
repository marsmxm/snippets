{
 "cells": [
  {
   "cell_type": "markdown",
   "id": "61a2a1c1-2f92-41ba-acbc-210e0fd87324",
   "metadata": {},
   "source": [
    "#[derive(Debug)]\n",
    "enum IpAddr {\n",
    "    V4(String),\n",
    "    V6(String),\n",
    "}\n",
    "\n",
    "let home = IpAddr::V4(String::from(\"127.0.0.1\"));\n",
    "let loopback = IpAddr::V6(String::from(\"::1\"));\n",
    "\n",
    "println!(\"{:?}\", home);"
   ]
  },
  {
   "cell_type": "code",
   "execution_count": 9,
   "id": "f9c55174-21d1-4b86-912b-901437cf89c5",
   "metadata": {},
   "outputs": [],
   "source": [
    "enum Message {\n",
    "    Quit,\n",
    "    Move { x: i32, y: i32 },\n",
    "    Write(String),\n",
    "    ChangeColor(i32, i32, i32),\n",
    "}\n"
   ]
  },
  {
   "cell_type": "code",
   "execution_count": 10,
   "id": "79edc007-1bf8-496d-9e2c-04a92b3b412f",
   "metadata": {},
   "outputs": [],
   "source": [
    "impl Message {\n",
    "    fn call(&self) {\n",
    "        // method body would be defined here\n",
    "    }\n",
    "}\n",
    "\n",
    "let m = Message::Write(String::from(\"hello\"));\n",
    "m.call();"
   ]
  },
  {
   "cell_type": "markdown",
   "id": "59cd5c12-d4b7-4223-87b3-149c5af109a1",
   "metadata": {},
   "source": [
    "## match"
   ]
  },
  {
   "cell_type": "code",
   "execution_count": 13,
   "id": "e1c8217d-ee1e-46d2-9797-0e4843d7d849",
   "metadata": {},
   "outputs": [
    {
     "name": "stdout",
     "output_type": "stream",
     "text": [
      "State quarter from Alaska!\n"
     ]
    },
    {
     "data": {
      "text/plain": [
       "25"
      ]
     },
     "execution_count": 13,
     "metadata": {},
     "output_type": "execute_result"
    }
   ],
   "source": [
    "#[derive(Debug)] // so we can inspect the state in a minute\n",
    "enum UsState {\n",
    "    Alabama,\n",
    "    Alaska,\n",
    "    // --snip--\n",
    "}\n",
    "\n",
    "enum Coin {\n",
    "    Penny,\n",
    "    Nickel,\n",
    "    Dime,\n",
    "    Quarter(UsState),\n",
    "}\n",
    "\n",
    "fn value_in_cents(coin: Coin) -> u8 {\n",
    "    match coin {\n",
    "        Coin::Penny => 1,\n",
    "        Coin::Nickel => 5,\n",
    "        Coin::Dime => 10,\n",
    "        Coin::Quarter(state) => {\n",
    "            println!(\"State quarter from {:?}!\", state);\n",
    "            25\n",
    "        }\n",
    "    }\n",
    "}\n",
    "\n",
    "value_in_cents(Coin::Quarter(UsState::Alaska))"
   ]
  },
  {
   "cell_type": "code",
   "execution_count": 14,
   "id": "e49c116a-d8c8-4cca-b0b5-86d4dfbac9f5",
   "metadata": {},
   "outputs": [],
   "source": [
    "fn plus_one(x: Option<i32>) -> Option<i32> {\n",
    "    match x {\n",
    "        None => None,\n",
    "        Some(i) => Some(i + 1),\n",
    "    }\n",
    "}\n",
    "\n",
    "let five = Some(5);\n",
    "let six = plus_one(five);\n",
    "let none = plus_one(None);"
   ]
  },
  {
   "cell_type": "code",
   "execution_count": 15,
   "id": "a1969903-52e8-4e12-aa40-89afffd708ec",
   "metadata": {},
   "outputs": [],
   "source": [
    "let dice_roll = 9;\n",
    "match dice_roll {\n",
    "    3 => add_fancy_hat(),\n",
    "    7 => remove_fancy_hat(),\n",
    "    _ => (),\n",
    "}\n",
    "\n",
    "fn add_fancy_hat() {}\n",
    "fn remove_fancy_hat() {}"
   ]
  },
  {
   "cell_type": "markdown",
   "id": "00bb5b08-c951-452d-8ada-a0eb38ad1706",
   "metadata": {},
   "source": [
    "## if let"
   ]
  },
  {
   "cell_type": "code",
   "execution_count": 16,
   "id": "4b403912-2353-43e9-9216-3b9331b35212",
   "metadata": {},
   "outputs": [
    {
     "name": "stdout",
     "output_type": "stream",
     "text": [
      "The maximum is configured to be 3\n"
     ]
    },
    {
     "data": {
      "text/plain": [
       "()"
      ]
     },
     "execution_count": 16,
     "metadata": {},
     "output_type": "execute_result"
    }
   ],
   "source": [
    "let config_max = Some(3u8);\n",
    "\n",
    "if let Some(max) = config_max {\n",
    "    println!(\"The maximum is configured to be {}\", max);\n",
    "}"
   ]
  },
  {
   "cell_type": "code",
   "execution_count": null,
   "id": "7395cad7-5f9d-45a3-99bf-61eb07fc1508",
   "metadata": {},
   "outputs": [],
   "source": []
  },
  {
   "cell_type": "code",
   "execution_count": null,
   "id": "f811e12e-7f21-41b9-a5ba-510cc8e67d3f",
   "metadata": {},
   "outputs": [],
   "source": []
  }
 ],
 "metadata": {
  "kernelspec": {
   "display_name": "Rust",
   "language": "rust",
   "name": "rust"
  },
  "language_info": {
   "codemirror_mode": "rust",
   "file_extension": ".rs",
   "mimetype": "text/rust",
   "name": "Rust",
   "pygment_lexer": "rust",
   "version": ""
  }
 },
 "nbformat": 4,
 "nbformat_minor": 5
}

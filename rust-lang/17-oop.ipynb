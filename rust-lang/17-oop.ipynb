{
 "cells": [
  {
   "cell_type": "markdown",
   "id": "519b78e5-38d2-4c9c-bc75-4a53b06a960a",
   "metadata": {},
   "source": [
    "# Trait Objects"
   ]
  },
  {
   "cell_type": "code",
   "execution_count": 2,
   "id": "ed77298d-28c8-4f4a-9bb5-299b685a872a",
   "metadata": {},
   "outputs": [],
   "source": [
    "pub trait Draw {\n",
    "    fn draw(&self);\n",
    "}"
   ]
  },
  {
   "cell_type": "code",
   "execution_count": 3,
   "id": "a963a08c-4add-43a4-bcb4-b3d1dd9af549",
   "metadata": {},
   "outputs": [],
   "source": [
    "pub struct Screen {\n",
    "    pub components: Vec<Box<dyn Draw>>,\n",
    "}"
   ]
  },
  {
   "cell_type": "code",
   "execution_count": 4,
   "id": "ff4244a7-004e-4198-b2b6-780a521aeb70",
   "metadata": {},
   "outputs": [],
   "source": [
    "impl Screen {\n",
    "    pub fn run(&self) {\n",
    "        for component in self.components.iter() {\n",
    "            component.draw();\n",
    "        }\n",
    "    }\n",
    "}"
   ]
  },
  {
   "cell_type": "code",
   "execution_count": 5,
   "id": "dac14d1e-0ea2-4a34-b2d7-df639365b413",
   "metadata": {},
   "outputs": [],
   "source": [
    "pub struct Button {\n",
    "    pub width: u32,\n",
    "    pub height: u32,\n",
    "    pub label: String,\n",
    "}\n",
    "\n",
    "impl Draw for Button {\n",
    "    fn draw(&self) {\n",
    "        // code to actually draw a button\n",
    "    }\n",
    "}"
   ]
  },
  {
   "cell_type": "code",
   "execution_count": 7,
   "id": "14865881-1034-4950-92f0-36c438b62607",
   "metadata": {},
   "outputs": [],
   "source": [
    "struct SelectBox {\n",
    "    width: u32,\n",
    "    height: u32,\n",
    "    options: Vec<String>,\n",
    "}\n",
    "\n",
    "impl Draw for SelectBox {\n",
    "    fn draw(&self) {\n",
    "        // code to actually draw a select box\n",
    "    }\n",
    "}\n"
   ]
  },
  {
   "cell_type": "code",
   "execution_count": 8,
   "id": "914f54c5-aa09-4295-a5fc-5c13da0edce9",
   "metadata": {},
   "outputs": [
    {
     "data": {
      "text/plain": [
       "()"
      ]
     },
     "execution_count": 8,
     "metadata": {},
     "output_type": "execute_result"
    }
   ],
   "source": [
    "{\n",
    "    let screen = Screen {\n",
    "        components: vec![\n",
    "            Box::new(SelectBox {\n",
    "                width: 75,\n",
    "                height: 10,\n",
    "                options: vec![\n",
    "                    String::from(\"Yes\"),\n",
    "                    String::from(\"Maybe\"),\n",
    "                    String::from(\"No\"),\n",
    "                ],\n",
    "            }),\n",
    "            Box::new(Button {\n",
    "                width: 50,\n",
    "                height: 10,\n",
    "                label: String::from(\"OK\"),\n",
    "            }),\n",
    "        ],\n",
    "    };\n",
    "\n",
    "    screen.run();\n",
    "}"
   ]
  },
  {
   "cell_type": "markdown",
   "id": "ff805fdd-05f8-4e05-8fd8-36f963bcbd97",
   "metadata": {},
   "source": [
    "# State Pattern"
   ]
  },
  {
   "cell_type": "code",
   "execution_count": 9,
   "id": "722d2874-f127-4b4c-ab44-25aee196f932",
   "metadata": {},
   "outputs": [
    {
     "ename": "Error",
     "evalue": "unresolved import `blog`",
     "output_type": "error",
     "traceback": [
      "\u001b[31m[E0432] Error:\u001b[0m unresolved import `blog`"
     ]
    }
   ],
   "source": [
    "use blog::Post;\n",
    "\n",
    "{\n",
    "    let mut post = Post::new();\n",
    "\n",
    "    post.add_text(\"I ate a salad for lunch today\");\n",
    "    assert_eq!(\"\", post.content());\n",
    "\n",
    "    post.request_review();\n",
    "    assert_eq!(\"\", post.content());\n",
    "\n",
    "    post.approve();\n",
    "    assert_eq!(\"I ate a salad for lunch today\", post.content());\n",
    "}"
   ]
  },
  {
   "cell_type": "code",
   "execution_count": null,
   "id": "62614d16-1d5c-4950-ab64-899ba717ee34",
   "metadata": {},
   "outputs": [],
   "source": [
    "mod blog {\n",
    "    pub struct Post {\n",
    "        state: Option<Box<dyn State>>,\n",
    "        content: String,\n",
    "    }\n",
    "\n",
    "    impl Post {\n",
    "        pub fn new() -> Post {\n",
    "            Post {\n",
    "                state: Some(Box::new(Draft {})),\n",
    "                content: String::new(),\n",
    "            }\n",
    "        }\n",
    "\n",
    "        pub fn content(&self) -> &str {\n",
    "            \"\"\n",
    "        }\n",
    "        \n",
    "        pub fn add_text(&mut self, text: &str) {\n",
    "            self.content.push_str(text);\n",
    "        }\n",
    "\n",
    "        pub fn request_review(&mut self) {\n",
    "            if let Some(s) = self.state.take() {\n",
    "                self.state = Some(s.request_review())\n",
    "            }\n",
    "        }\n",
    "\n",
    "        pub fn approve(&mut self) {\n",
    "            if let Some(s) = self.state.take() {\n",
    "                self.state = Some(s.approve())\n",
    "            }\n",
    "        }\n",
    "    }\n",
    "    \n",
    "    trait State {\n",
    "        fn request_review(self: Box<Self>) -> Box<dyn State>;\n",
    "        fn approve(self: Box<Self>) -> Box<dyn State>;\n",
    "    }\n",
    "    \n",
    "    struct Draft {}\n",
    "    \n",
    "    impl State for Draft {\n",
    "        fn request_review(self: Box<Self>) -> Box<dyn State> {\n",
    "            Box::new(PendingReview {})\n",
    "        }\n",
    "\n",
    "        fn approve(self: Box<Self>) -> Box<dyn State> {\n",
    "            self\n",
    "        }\n",
    "    }\n",
    "\n",
    "    struct PendingReview {}\n",
    "\n",
    "    impl State for PendingReview {\n",
    "        fn request_review(self: Box<Self>) -> Box<dyn State> {\n",
    "            self\n",
    "        }\n",
    "\n",
    "        fn approve(self: Box<Self>) -> Box<dyn State> {\n",
    "            Box::new(Published {})\n",
    "        }\n",
    "    }\n",
    "\n",
    "    struct Published {}\n",
    "\n",
    "    impl State for Published {\n",
    "        fn request_review(self: Box<Self>) -> Box<dyn State> {\n",
    "            self\n",
    "        }\n",
    "    \n",
    "        fn approve(self: Box<Self>) -> Box<dyn State> {\n",
    "            self\n",
    "        }\n",
    "    }\n",
    "}"
   ]
  }
 ],
 "metadata": {
  "kernelspec": {
   "display_name": "Rust",
   "language": "rust",
   "name": "rust"
  },
  "language_info": {
   "codemirror_mode": "rust",
   "file_extension": ".rs",
   "mimetype": "text/rust",
   "name": "Rust",
   "pygment_lexer": "rust",
   "version": ""
  }
 },
 "nbformat": 4,
 "nbformat_minor": 5
}
